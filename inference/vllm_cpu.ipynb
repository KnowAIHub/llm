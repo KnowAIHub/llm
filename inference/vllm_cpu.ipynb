{
 "cells": [
  {
   "cell_type": "markdown",
   "id": "27e7cca0-2a4f-407a-b43c-126e88451a1f",
   "metadata": {},
   "source": [
    "由于vLLM默认并不支持 CPU 部署和推理，为了验证和演示CPU部署和推理过程,同时也因vLLM通过CPU部署推理的文档少之又少，官网有些地方也不是很明确，导致在执行过程中走了不少弯路。\n",
    "1. CPU模式下，如果编译打包vLLM框架（你没有看错：CPU模式需要我们自己编译打包）\n",
    "2. 通过CPU模式，演示多种方式部署和推理Qwen2大模型（其他模型也一样）：本地模式、部署 API 服务、API 客户端、WebUI 等方式\n",
    "3. 最后，在GPU模式，简单介绍vLLM部署和推理；相比CPU环境，简单太多了，因为vLLM默认就只支持GPU环境\n",
    "\n",
    "vLLM 官网源代码地址：https://github.com/vllm-project/vllm\n",
    "\n",
    "vLLM 支持目前主流大模型，详细列表见官网：https://docs.vllm.ai/en/latest/models/supported_models.html\n",
    "\n",
    "vllm cpu版本安装教程：https://docs.vllm.ai/en/latest/getting_started/cpu-installation.html\n",
    "\n",
    "特别注意的是：vLLM目前只支持Linux操作系统（包括Windows WSL子系统）：如果是Linux系统，那就无需其他操作；如果是Windows操作系统，需要首先安装和配置好WSL子系统。"
   ]
  },
  {
   "cell_type": "markdown",
   "id": "000c0220-b4ab-4410-b47c-8a1dadfb03c1",
   "metadata": {},
   "source": [
    "## 使用 vLLM 部署和推理大模型\n",
    "\n",
    "特别注意：vLLM的依赖包默认支持 GPU 部署和推理，如果使用CPU推理，我们需要根据vLLM源代码重新编译打包！\n",
    "\n",
    "【GPU 部署和推理】比较简单，通过 PIP 直接安装依赖包即可："
   ]
  },
  {
   "cell_type": "code",
   "execution_count": null,
   "id": "57a62f97-5ad2-439c-82e1-aec2b9aaa7d9",
   "metadata": {},
   "outputs": [],
   "source": [
    "pip install vLLM"
   ]
  },
  {
   "cell_type": "markdown",
   "id": "6716c95a-0309-4fc9-bacb-9ed1bf4d03a3",
   "metadata": {},
   "source": [
    "【CPU 部署和推理】我们需要下载vLLM源代码，自己编译打包和安装："
   ]
  },
  {
   "cell_type": "code",
   "execution_count": null,
   "id": "735a5f54-4882-45dd-a56e-24d4f4843ae5",
   "metadata": {},
   "outputs": [],
   "source": [
    "# 编译GCC\n",
    "sudo apt-get update  -y\n",
    "sudo apt-get install -y gcc-12 g++-12 libnuma-dev\n",
    "sudo update-alternatives --install /usr/bin/gcc gcc /usr/bin/gcc-12 10 --slave /usr/bin/g++ g++ /usr/bin/g++-12"
   ]
  },
  {
   "cell_type": "code",
   "execution_count": null,
   "id": "18790bfe-6a7c-41ec-9d93-3e3bc681493a",
   "metadata": {},
   "outputs": [],
   "source": [
    "# 下载vLLM代码\n",
    "#!git clone https://github.com/vllm-project/vllm.git vllm-project\n",
    "#%cd vllm-project\n",
    "\n",
    "# 下载稳定版本\n",
    "git clone https://github.com/vllm-project/vllm.git vllm-project -b v0.6.2\n",
    "%cd vllm-project"
   ]
  },
  {
   "cell_type": "code",
   "execution_count": null,
   "id": "e64cb4ea-8cd4-449f-9539-ce106ae69cd3",
   "metadata": {},
   "outputs": [],
   "source": [
    "# 安装vLLM便于打包的依赖\n",
    "pip install --upgrade pip\n",
    "\n",
    "pip install wheel packaging ninja \"setuptools>=49.4.0\" numpy\n",
    "\n",
    "pip install -v -r requirements-cpu.txt --extra-index-url https://download.pytorch.org/whl/cpu"
   ]
  },
  {
   "cell_type": "code",
   "execution_count": null,
   "id": "24caa7db-32f7-4eef-9924-22cb64690cdb",
   "metadata": {},
   "outputs": [],
   "source": [
    "# https://blog.csdn.net/weixin_41010198/article/details/109343347\n",
    "# 添加软路由\n",
    "sudo ln -s /root/cmake-3.27.0-linux-x86_64/bin/cmake /usr/bin/cmake\n",
    "# 删除软路由\n",
    "sudo rm /usr/bin/cmake\n",
    "# https://blog.csdn.net/qq_42951560/article/details/121438924"
   ]
  },
  {
   "cell_type": "code",
   "execution_count": null,
   "id": "5d63a4d0-c884-4cba-93dc-1d7eb425545b",
   "metadata": {},
   "outputs": [],
   "source": [
    "!git clone -b rls-v3.5 https://github.com/oneapi-src/oneDNN.git\n",
    "\n",
    "!cmake -B ./oneDNN/build -S ./oneDNN -G Ninja -DONEDNN_LIBRARY_TYPE=STATIC \\\n",
    "    -DONEDNN_BUILD_DOC=OFF \\\n",
    "    -DONEDNN_BUILD_EXAMPLES=OFF \\\n",
    "    -DONEDNN_BUILD_TESTS=OFF \\\n",
    "    -DONEDNN_BUILD_GRAPH=OFF \\\n",
    "    -DONEDNN_ENABLE_WORKLOAD=INFERENCE \\\n",
    "    -DONEDNN_ENABLE_PRIMITIVE=MATMUL\n",
    "\n",
    "!cmake --build ./oneDNN/build --target install --config Release"
   ]
  },
  {
   "cell_type": "code",
   "execution_count": null,
   "id": "6119ac06-bfef-45a7-833b-5d16da869688",
   "metadata": {},
   "outputs": [],
   "source": [
    "# vLLM打包安装\n",
    "VLLM_TARGET_DEVICE=cpu python setup.py install"
   ]
  },
  {
   "cell_type": "markdown",
   "id": "3e1a27d1-be5c-4aff-9177-026c9ffdf887",
   "metadata": {},
   "source": [
    "## vLLM 本地大模型部署和推理测试"
   ]
  },
  {
   "cell_type": "code",
   "execution_count": null,
   "id": "575f8dc8-af78-405a-a6ec-38cc79921522",
   "metadata": {},
   "outputs": [],
   "source": [
    "# Qwen2-vLLM-Local.py\n",
    "import os\n",
    "from transformers import AutoTokenizer\n",
    "from vllm import LLM, SamplingParams\n",
    " \n",
    "# 设置环境变量\n",
    "os.environ['VLLM_TARGET_DEVICE'] = 'cpu'\n",
    " \n",
    "# 模型ID：我们下载的模型权重文件目录\n",
    "model_dir = 'AI-ModelScope/Qwen2___5-7B-Instruct'\n",
    " \n",
    "# Tokenizer初始化\n",
    "tokenizer = AutoTokenizer.from_pretrained(\n",
    "    model_dir,\n",
    "    local_files_only=True,\n",
    ")\n",
    " \n",
    "# Prompt提示词\n",
    "messages = [\n",
    "    {'role': 'system', 'content': 'You are a helpful assistant.'},\n",
    "    {'role': 'user', 'content': '天空为什么是蓝色的？'}\n",
    "]\n",
    "text = tokenizer.apply_chat_template(\n",
    "    messages,\n",
    "    tokenize=False,\n",
    "    add_generation_prompt=True,\n",
    ")\n",
    " \n",
    "# 初始化大语言模型\n",
    "llm = LLM(\n",
    "    model=model_dir,\n",
    "    tensor_parallel_size=1,  # CPU无需张量并行\n",
    "    device='cpu',\n",
    ")\n",
    "\n",
    "# 超参数：最多512个Token\n",
    "sampling_params = SamplingParams(temperature=0.7, top_p=0.8, repetition_penalty=1.05, max_tokens=512)\n",
    " \n",
    "# 模型推理输出\n",
    "outputs = llm.generate([text], sampling_params)\n",
    " \n",
    "for output in outputs:\n",
    "    prompt = output.prompt\n",
    "    generated_text = output.outputs[0].text\n",
    " \n",
    "    print(f'Prompt提示词: {prompt!r}, 大模型推理输出: {generated_text!r}')"
   ]
  },
  {
   "cell_type": "code",
   "execution_count": null,
   "id": "59e14f27-ad0c-4ccf-9cad-bd9d20050186",
   "metadata": {},
   "outputs": [],
   "source": [
    "# default_dump_dir报错\n",
    "# 解决pip install -U --index-url https://aiinfra.pkgs.visualstudio.com/PublicPackages/_packaging/Triton-Nightly/pypi/simple/ triton-nightly"
   ]
  },
  {
   "cell_type": "code",
   "execution_count": null,
   "id": "d38b82ad-7dee-4056-a100-663b0721b260",
   "metadata": {},
   "outputs": [],
   "source": [
    "# 查看物理CPU个数\n",
    "cat /proc/cpuinfo| grep \"physical id\"| sort| uniq| wc -l\n",
    "\n",
    "# 查看每个物理CPU中core的个数(即核数)\n",
    "cat /proc/cpuinfo| grep \"cpu cores\"| uniq\n",
    "\n",
    "# 查看逻辑CPU的个数\n",
    "cat /proc/cpuinfo| grep \"processor\"| wc -l"
   ]
  },
  {
   "cell_type": "markdown",
   "id": "ba56620c-380e-491e-8da9-6c3ab0ea30ff",
   "metadata": {},
   "source": [
    "## 发布 API 服务和调用推理"
   ]
  },
  {
   "cell_type": "code",
   "execution_count": null,
   "id": "e63374e5-1feb-4c14-8624-5fbb4dd86c94",
   "metadata": {},
   "outputs": [],
   "source": [
    "python -m vllm.entrypoints.openai.api_server --model AI-ModelScope/Qwen2___5-7B-Instruct"
   ]
  },
  {
   "cell_type": "code",
   "execution_count": null,
   "id": "dddb02ae-7cf2-428f-a591-d7a45146b652",
   "metadata": {},
   "outputs": [],
   "source": [
    "# Qwen2-vLLM-CURL.py\n",
    "curl http://localhost:8000/v1/chat/completions -H \"Content-Type: application/json\" -d '{\n",
    "  \"model\": \"AI-ModelScope/Qwen2___5-7B-Instruct\",\n",
    "  \"messages\": [\n",
    "    {\"role\": \"system\", \"content\": \"You are a helpful assistant.\"},\n",
    "    {\"role\": \"user\", \"content\": \"天空为什么是蓝色的？\"}\n",
    "  ],\n",
    "  \"temperature\": 0.7,\n",
    "  \"top_p\": 0.8,\n",
    "  \"repetition_penalty\": 1.05,\n",
    "  \"max_tokens\": 512\n",
    "}'"
   ]
  },
  {
   "cell_type": "code",
   "execution_count": 1,
   "id": "021a5427-e201-47bc-b1a7-6649c4e03287",
   "metadata": {},
   "outputs": [
    {
     "name": "stdout",
     "output_type": "stream",
     "text": [
      "Qwen2推理结果: ChatCompletion(id='chat-7c8961f5b00e4162ab3a8ab1b23456fe', choices=[Choice(finish_reason='stop', index=0, logprobs=None, message=ChatCompletionMessage(content='天空呈现蓝色的原因是大气中的气体分子和其他小颗粒会散射太阳光。太阳发出的光实际上是一种包含了所有颜色的白光，当这种白光穿过地球大气层时，波长较短的蓝光和紫光比波长较长的红光更容易被大气中的气体分子散射。\\n\\n然而，人眼对蓝光和紫光的敏感度较低，而且太阳光中的蓝光被散射得更多，使得我们在白天看到的天空呈现蓝色。日落时，太阳光需要穿过更厚的大气层，蓝光和紫光被进一步散射掉，所以我们看到的天空呈现出橙色或红色。', refusal=None, role='assistant', function_call=None, tool_calls=[]), stop_reason=None)], created=1727919840, model='AI-ModelScope/Qwen2___5-7B-Instruct', object='chat.completion', service_tier=None, system_fingerprint=None, usage=CompletionUsage(completion_tokens=139, prompt_tokens=25, total_tokens=164, completion_tokens_details=None, prompt_tokens_details=None), prompt_logprobs=None)\n"
     ]
    }
   ],
   "source": [
    "# Qwen2-vLLM-OpenAI.py\n",
    "from openai import OpenAI\n",
    " \n",
    "# OpenAI初始化\n",
    "client = OpenAI(\n",
    "    api_key='EMPTY',\n",
    "    base_url='http://localhost:8000/v1',\n",
    ")\n",
    " \n",
    "chat_response = client.chat.completions.create(\n",
    "    model='AI-ModelScope/Qwen2___5-7B-Instruct',\n",
    "    messages=[\n",
    "        {'role': 'system', 'content': 'You are a helpful assistant.'},\n",
    "        {'role': 'user', 'content': '天空为什么是蓝色的？'},\n",
    "    ],\n",
    "    temperature=0.7,\n",
    "    top_p=0.8,\n",
    "    max_tokens=512,\n",
    ")\n",
    " \n",
    "print('Qwen2推理结果:', chat_response)"
   ]
  },
  {
   "cell_type": "code",
   "execution_count": null,
   "id": "6ad1719f-915f-405e-a898-774abd7b6b24",
   "metadata": {},
   "outputs": [],
   "source": []
  }
 ],
 "metadata": {
  "kernelspec": {
   "display_name": "Python 3 (ipykernel)",
   "language": "python",
   "name": "python3"
  },
  "language_info": {
   "codemirror_mode": {
    "name": "ipython",
    "version": 3
   },
   "file_extension": ".py",
   "mimetype": "text/x-python",
   "name": "python",
   "nbconvert_exporter": "python",
   "pygments_lexer": "ipython3",
   "version": "3.10.8"
  }
 },
 "nbformat": 4,
 "nbformat_minor": 5
}
