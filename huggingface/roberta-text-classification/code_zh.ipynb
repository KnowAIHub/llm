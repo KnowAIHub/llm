{
 "cells": [
  {
   "cell_type": "markdown",
   "metadata": {},
   "source": [
    "下载数据集：https://github.com/SophonPlus/ChineseNlpCorpus"
   ]
  },
  {
   "cell_type": "code",
   "execution_count": 1,
   "metadata": {},
   "outputs": [
    {
     "name": "stdout",
     "output_type": "stream",
     "text": [
      "Total number of samples: 11987\n",
      "Total number of samples after removing NaN: 11987\n"
     ]
    }
   ],
   "source": [
    "from transformers import AutoTokenizer, AutoModelForSequenceClassification\n",
    "import torch\n",
    "import torch.nn as nn\n",
    "import torch.optim as optim\n",
    "from torch.utils.data import DataLoader, Dataset\n",
    "from torch.utils.data import random_split\n",
    "import pandas as pd\n",
    "\n",
    "data = pd.read_csv('data/waimai_10k.csv')\n",
    "data.head()\n",
    "print(f\"Total number of samples: {len(data)}\")\n",
    "data = data.dropna()\n",
    "\n",
    "print(f\"Total number of samples after removing NaN: {len(data)}\")"
   ]
  },
  {
   "cell_type": "code",
   "execution_count": 2,
   "metadata": {},
   "outputs": [
    {
     "name": "stdout",
     "output_type": "stream",
     "text": [
      "('很快，好吃，味道足，量大', 1)\n",
      "11987\n"
     ]
    }
   ],
   "source": [
    "class MyDataset(Dataset):\n",
    "    def __init__(self,data):\n",
    "        super().__init__()\n",
    "        self.data = data.dropna()\n",
    "\n",
    "    def __len__(self):\n",
    "        return len(self.data)\n",
    "\n",
    "    def __getitem__(self,index):\n",
    "        return self.data.iloc[index]['review'],self.data.iloc[index]['label']\n",
    "\n",
    "# 对Mydataset进行实例化\n",
    "dataset = MyDataset(data)\n",
    "print(dataset[0])\n",
    "print(len(dataset))"
   ]
  },
  {
   "cell_type": "code",
   "execution_count": 3,
   "metadata": {},
   "outputs": [
    {
     "name": "stdout",
     "output_type": "stream",
     "text": [
      "Total number of samples: 11987\n",
      "Number of training samples: 9590\n",
      "Number of test samples: 2397\n",
      "('餐盒好看，菜量也多，但是吃完后下午反胃，应该不会再订了', 0)\n"
     ]
    }
   ],
   "source": [
    "trainset, testset = random_split(dataset, [0.8, 0.2])\n",
    "\n",
    "print(f\"Total number of samples: {len(dataset)}\")\n",
    "print(f\"Number of training samples: {len(trainset)}\")\n",
    "print(f\"Number of test samples: {len(testset)}\")\n",
    "print(trainset[0])"
   ]
  },
  {
   "cell_type": "code",
   "execution_count": 4,
   "metadata": {},
   "outputs": [
    {
     "data": {
      "text/plain": [
       "{'input_ids': tensor([[ 101, 5831,  976,  ...,    0,    0,    0],\n",
       "        [ 101, 3198, 7313,  ...,    0,    0,    0],\n",
       "        [ 101, 1456, 6887,  ...,    0,    0,    0],\n",
       "        [ 101, 6862, 2428,  ...,    0,    0,    0]]), 'token_type_ids': tensor([[0, 0, 0,  ..., 0, 0, 0],\n",
       "        [0, 0, 0,  ..., 0, 0, 0],\n",
       "        [0, 0, 0,  ..., 0, 0, 0],\n",
       "        [0, 0, 0,  ..., 0, 0, 0]]), 'attention_mask': tensor([[1, 1, 1,  ..., 0, 0, 0],\n",
       "        [1, 1, 1,  ..., 0, 0, 0],\n",
       "        [1, 1, 1,  ..., 0, 0, 0],\n",
       "        [1, 1, 1,  ..., 0, 0, 0]]), 'labels': tensor([0, 0, 0, 0])}"
      ]
     },
     "execution_count": 4,
     "metadata": {},
     "output_type": "execute_result"
    }
   ],
   "source": [
    "tokenizer = AutoTokenizer.from_pretrained(\"hfl/chinese-roberta-wwm-ext\") # 这里更换了模型\n",
    "\n",
    "def collate_func(batch):\n",
    "    texts, labels = [], []\n",
    "    for item in batch:\n",
    "        texts.append(item[0])\n",
    "        labels.append(item[1])\n",
    "    \n",
    "    inputs = tokenizer(texts, padding=\"max_length\", truncation=True, max_length=512, return_tensors=\"pt\")\n",
    "    inputs[\"labels\"] = torch.tensor(labels)\n",
    "    return inputs\n",
    "\n",
    "## 创建DataLoader\n",
    "train_dataloader = DataLoader(trainset, batch_size=4, shuffle=True, collate_fn=collate_func)\n",
    "test_dataloader = DataLoader(testset, batch_size=4, shuffle=False, collate_fn=collate_func)\n",
    "\n",
    "## 检查train_dataloader中的数据\n",
    "next(iter(train_dataloader))"
   ]
  },
  {
   "cell_type": "code",
   "execution_count": 5,
   "metadata": {},
   "outputs": [
    {
     "name": "stderr",
     "output_type": "stream",
     "text": [
      "e:\\miniconda3\\Lib\\site-packages\\torch\\_utils.py:831: UserWarning: TypedStorage is deprecated. It will be removed in the future and UntypedStorage will be the only storage class. This should only matter to you if you are using storages directly.  To access UntypedStorage directly, use tensor.untyped_storage() instead of tensor.storage()\n",
      "  return self.fget.__get__(instance, owner)()\n",
      "Some weights of BertForSequenceClassification were not initialized from the model checkpoint at hfl/chinese-roberta-wwm-ext and are newly initialized: ['classifier.bias', 'classifier.weight']\n",
      "You should probably TRAIN this model on a down-stream task to be able to use it for predictions and inference.\n"
     ]
    }
   ],
   "source": [
    "model = AutoModelForSequenceClassification.from_pretrained(\"hfl/chinese-roberta-wwm-ext\") \n",
    "optimizer = optim.AdamW(model.parameters(), lr=1e-5) "
   ]
  },
  {
   "cell_type": "code",
   "execution_count": 6,
   "metadata": {},
   "outputs": [],
   "source": [
    "if torch.cuda.is_available():\n",
    "    model.cuda()\n",
    "    \n",
    "def evaluate():\n",
    "    model.eval()\n",
    "    correct = 0\n",
    "    \n",
    "    with torch.inference_mode():\n",
    "        for batch in test_dataloader:\n",
    "            if torch.cuda.is_available():\n",
    "                batch = {k:v.cuda() for k, v in batch.items()}\n",
    "            outputs = model(**batch)\n",
    "            loss = outputs.loss\n",
    "            logits = outputs.logits\n",
    "            predictions = torch.argmax(logits, dim=1)\n",
    "            correct += (predictions == batch['labels']).sum().item()\n",
    "            \n",
    "    return correct / len(test_dataloader.dataset) * 100 # 返回准确率"
   ]
  },
  {
   "cell_type": "code",
   "execution_count": 7,
   "metadata": {},
   "outputs": [],
   "source": [
    "def train(epoch = 1, log_step = 50): \n",
    "    global_step = 0\n",
    "    for ep in range(epoch):\n",
    "        model.train()\n",
    "        for batch in train_dataloader:\n",
    "            if torch.cuda.is_available():\n",
    "                batch = {k:v.cuda() for k, v in batch.items()} \n",
    "            optimizer.zero_grad()\n",
    "            outputs = model(**batch)\n",
    "            loss = outputs.loss\n",
    "            loss.backward()\n",
    "            optimizer.step()\n",
    "            if (global_step+1) % log_step == 0:\n",
    "                print(f'Epoch: {ep+1}, global_step: {global_step+1},loss: {loss.item()}')\n",
    "            global_step += 1\n",
    "        acc = evaluate()\n",
    "        print(f'Epoch: {ep+1}, Accuracy: {acc:.2f}%') "
   ]
  },
  {
   "cell_type": "code",
   "execution_count": 8,
   "metadata": {},
   "outputs": [
    {
     "name": "stdout",
     "output_type": "stream",
     "text": [
      "Epoch: 1, global_step: 50,loss: 0.39632493257522583\n",
      "Epoch: 1, global_step: 100,loss: 0.30210134387016296\n",
      "Epoch: 1, global_step: 150,loss: 0.10279042273759842\n",
      "Epoch: 1, global_step: 200,loss: 0.6521027684211731\n",
      "Epoch: 1, global_step: 250,loss: 0.5254871249198914\n",
      "Epoch: 1, global_step: 300,loss: 0.12392500042915344\n",
      "Epoch: 1, global_step: 350,loss: 0.8279992341995239\n",
      "Epoch: 1, global_step: 400,loss: 0.04313090816140175\n",
      "Epoch: 1, global_step: 450,loss: 0.21989262104034424\n",
      "Epoch: 1, global_step: 500,loss: 0.5581580996513367\n",
      "Epoch: 1, global_step: 550,loss: 0.05109582096338272\n",
      "Epoch: 1, global_step: 600,loss: 0.11605098098516464\n",
      "Epoch: 1, global_step: 650,loss: 0.06148843094706535\n",
      "Epoch: 1, global_step: 700,loss: 0.5043035745620728\n",
      "Epoch: 1, global_step: 750,loss: 0.07943356782197952\n",
      "Epoch: 1, global_step: 800,loss: 0.06317796558141708\n",
      "Epoch: 1, global_step: 850,loss: 0.047353606671094894\n",
      "Epoch: 1, global_step: 900,loss: 0.03714447841048241\n",
      "Epoch: 1, global_step: 950,loss: 0.12163765728473663\n",
      "Epoch: 1, global_step: 1000,loss: 0.22768178582191467\n",
      "Epoch: 1, global_step: 1050,loss: 0.8909836411476135\n",
      "Epoch: 1, global_step: 1100,loss: 0.21753573417663574\n",
      "Epoch: 1, global_step: 1150,loss: 0.1247776448726654\n",
      "Epoch: 1, global_step: 1200,loss: 0.8817804455757141\n",
      "Epoch: 1, global_step: 1250,loss: 0.03927544504404068\n",
      "Epoch: 1, global_step: 1300,loss: 0.021509986370801926\n",
      "Epoch: 1, global_step: 1350,loss: 0.06935439258813858\n",
      "Epoch: 1, global_step: 1400,loss: 0.8211662769317627\n",
      "Epoch: 1, global_step: 1450,loss: 0.025502191856503487\n",
      "Epoch: 1, global_step: 1500,loss: 0.11630719155073166\n",
      "Epoch: 1, global_step: 1550,loss: 0.8783054351806641\n",
      "Epoch: 1, global_step: 1600,loss: 0.9622158408164978\n",
      "Epoch: 1, global_step: 1650,loss: 0.08830179274082184\n",
      "Epoch: 1, global_step: 1700,loss: 0.07733336091041565\n",
      "Epoch: 1, global_step: 1750,loss: 1.8445137739181519\n",
      "Epoch: 1, global_step: 1800,loss: 0.09716764092445374\n",
      "Epoch: 1, global_step: 1850,loss: 0.12290903180837631\n",
      "Epoch: 1, global_step: 1900,loss: 0.04159628972411156\n",
      "Epoch: 1, global_step: 1950,loss: 0.32568448781967163\n",
      "Epoch: 1, global_step: 2000,loss: 0.06422152370214462\n",
      "Epoch: 1, global_step: 2050,loss: 0.7202110886573792\n",
      "Epoch: 1, global_step: 2100,loss: 0.15124908089637756\n",
      "Epoch: 1, global_step: 2150,loss: 1.1503593921661377\n",
      "Epoch: 1, global_step: 2200,loss: 0.13658903539180756\n",
      "Epoch: 1, global_step: 2250,loss: 0.030175622552633286\n",
      "Epoch: 1, global_step: 2300,loss: 0.13052505254745483\n",
      "Epoch: 1, global_step: 2350,loss: 0.28936851024627686\n",
      "Epoch: 1, Accuracy: 90.57%\n"
     ]
    }
   ],
   "source": [
    "train()"
   ]
  },
  {
   "cell_type": "code",
   "execution_count": 9,
   "metadata": {},
   "outputs": [
    {
     "name": "stdout",
     "output_type": "stream",
     "text": [
      "tensor([[0.7320, 0.2680]], device='cuda:0')\n",
      "Sentence: 这家饭馆真贴心啊，知道我吃不饱还特地在里面防蟑螂！\n",
      "Predicted class: negative\n"
     ]
    }
   ],
   "source": [
    "sentence1 = \"这家饭馆真贴心啊，知道我吃不饱还特地在里面防蟑螂！\"\n",
    "sentence2 = \"难吃的和shit一样，恶心！\"\n",
    "\n",
    "model.eval()\n",
    "\n",
    "id2_label = {0: \"negative\", 1: \"positive\"}\n",
    "\n",
    "with torch.inference_mode():\n",
    "    inputs = tokenizer(sentence1, return_tensors=\"pt\")\n",
    "    inputs = {k:v.cuda() for k, v in inputs.items()}\n",
    "    logits = model(**inputs).logits\n",
    "    softmax_ = torch.nn.Softmax(dim=1)(logits)\n",
    "    print(softmax_)\n",
    "    predicted_class = torch.argmax(logits, dim=-1)\n",
    "    print(f\"Sentence: {sentence1}\")\n",
    "    print(f\"Predicted class: {id2_label.get(predicted_class.item())}\")"
   ]
  },
  {
   "cell_type": "code",
   "execution_count": 9,
   "metadata": {},
   "outputs": [
    {
     "name": "stdout",
     "output_type": "stream",
     "text": [
      "Model saved to ./saved_models\\chinese-roberta-wwm-ext_save.pt\n"
     ]
    }
   ],
   "source": [
    "import os\n",
    "\n",
    "output_dir = \"./saved_models\"\n",
    "if not os.path.exists(output_dir):\n",
    "    os.makedirs(output_dir)\n",
    "model_save_path = os.path.join(output_dir, f\"chinese-roberta-wwm-ext_save.pt\")\n",
    "torch.save(model.state_dict(), model_save_path)\n",
    "print(f\"Model saved to {model_save_path}\")"
   ]
  },
  {
   "cell_type": "code",
   "execution_count": 12,
   "metadata": {},
   "outputs": [
    {
     "name": "stderr",
     "output_type": "stream",
     "text": [
      "Some weights of BertForSequenceClassification were not initialized from the model checkpoint at hfl/chinese-roberta-wwm-ext and are newly initialized: ['classifier.bias', 'classifier.weight']\n",
      "You should probably TRAIN this model on a down-stream task to be able to use it for predictions and inference.\n"
     ]
    },
    {
     "name": "stdout",
     "output_type": "stream",
     "text": [
      "tensor([[0.9911, 0.0089]], device='cuda:0')\n",
      "Sentence: 难吃的和shit一样，恶心！\n",
      "Predicted class: negative\n"
     ]
    }
   ],
   "source": [
    "# 加载模型架构，但不加载权重\n",
    "model = AutoModelForSequenceClassification.from_pretrained(\"hfl/chinese-roberta-wwm-ext\")\n",
    "# 加载保存的模型状态字典\n",
    "model_save_path = \"./saved_models/chinese-roberta-wwm-ext_save.pt\"\n",
    "state_dict = torch.load(model_save_path)\n",
    "\n",
    "# 将状态字典加载到模型实例中\n",
    "model.load_state_dict(state_dict)\n",
    "\n",
    "# 移动模型到GPU（如果可用）\n",
    "if torch.cuda.is_available():\n",
    "    model.cuda()\n",
    "\n",
    "# 切换模型到评估模式\n",
    "model.eval()\n",
    "\n",
    "# 推理过程\n",
    "sentence1 = \"这家饭馆真贴心啊，知道我吃不饱还特地在里面防蟑螂！\"\n",
    "sentence2 = \"难吃的和shit一样，恶心！\"\n",
    "\n",
    "id2_label = {0: \"negative\", 1: \"positive\"}\n",
    "\n",
    "with torch.inference_mode():\n",
    "    inputs = tokenizer(sentence2, return_tensors=\"pt\")\n",
    "    inputs = {k:v.cuda() for k, v in inputs.items()}\n",
    "    logits = model(**inputs).logits\n",
    "    softmax_ = torch.nn.Softmax(dim=1)(logits)\n",
    "    print(softmax_)\n",
    "    predicted_class = torch.argmax(logits, dim=-1)\n",
    "    print(f\"Sentence: {sentence2}\")\n",
    "    print(f\"Predicted class: {id2_label.get(predicted_class.item())}\")"
   ]
  }
 ],
 "metadata": {
  "kernelspec": {
   "display_name": "base",
   "language": "python",
   "name": "python3"
  },
  "language_info": {
   "codemirror_mode": {
    "name": "ipython",
    "version": 3
   },
   "file_extension": ".py",
   "mimetype": "text/x-python",
   "name": "python",
   "nbconvert_exporter": "python",
   "pygments_lexer": "ipython3",
   "version": "3.11.5"
  }
 },
 "nbformat": 4,
 "nbformat_minor": 2
}
