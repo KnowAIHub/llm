{
 "cells": [
  {
   "cell_type": "markdown",
   "id": "98509a38-5917-4a75-967d-3198bf43ae27",
   "metadata": {},
   "source": [
    "### Loading the dataset into DataFrames"
   ]
  },
  {
   "cell_type": "code",
   "execution_count": 1,
   "id": "d23ac194-c7f3-4378-a842-d6a3d6911189",
   "metadata": {},
   "outputs": [],
   "source": [
    "import os\n",
    "from datasets import load_dataset\n",
    "\n",
    "import lightning as L\n",
    "from lightning.pytorch.loggers import CSVLogger\n",
    "from lightning.pytorch.callbacks import ModelCheckpoint\n",
    "\n",
    "import pandas as pd\n",
    "import torch\n",
    "\n",
    "from local_dataset_utilities import download_dataset, load_dataset_into_to_dataframe, partition_dataset\n",
    "from local_dataset_utilities import IMDBDataset"
   ]
  },
  {
   "cell_type": "code",
   "execution_count": 2,
   "id": "8d3ebdd7-37db-4ff5-a708-691599fb30ce",
   "metadata": {},
   "outputs": [],
   "source": [
    "if not torch.cuda.is_available():\n",
    "    print(\"Please switch to a GPU machine before running this notebook.\")"
   ]
  },
  {
   "cell_type": "code",
   "execution_count": 3,
   "id": "d1f084b5-fe6f-4d05-be4c-d8f1d6062c43",
   "metadata": {},
   "outputs": [],
   "source": [
    "files = (\"test.csv\", \"train.csv\", \"val.csv\")\n",
    "download = True\n",
    "\n",
    "for f in files:\n",
    "    if not os.path.exists(os.path.join(\"data\", f)):\n",
    "        download = False\n",
    "\n",
    "if download is False:\n",
    "    download_dataset()\n",
    "    df = load_dataset_into_to_dataframe()\n",
    "    partition_dataset(df)"
   ]
  },
  {
   "cell_type": "code",
   "execution_count": 4,
   "id": "a08eb2f9-7b0e-44dc-a77a-ec37a516ec89",
   "metadata": {},
   "outputs": [],
   "source": [
    "df_train = pd.read_csv(os.path.join(\"data\", \"train.csv\"))\n",
    "df_val = pd.read_csv(os.path.join(\"data\", \"val.csv\"))\n",
    "df_test = pd.read_csv(os.path.join(\"data\", \"test.csv\"))"
   ]
  },
  {
   "cell_type": "markdown",
   "id": "dc72d086-4529-4d62-842d-9f57c05758ff",
   "metadata": {},
   "source": [
    "### Tokenization and Numericalization"
   ]
  },
  {
   "cell_type": "code",
   "execution_count": 5,
   "id": "131f4dd5-c041-43a0-93cf-820da1e19aae",
   "metadata": {},
   "outputs": [
    {
     "name": "stdout",
     "output_type": "stream",
     "text": [
      "DatasetDict({\n",
      "    train: Dataset({\n",
      "        features: ['index', 'text', 'label'],\n",
      "        num_rows: 35000\n",
      "    })\n",
      "    validation: Dataset({\n",
      "        features: ['index', 'text', 'label'],\n",
      "        num_rows: 5000\n",
      "    })\n",
      "    test: Dataset({\n",
      "        features: ['index', 'text', 'label'],\n",
      "        num_rows: 10000\n",
      "    })\n",
      "})\n"
     ]
    }
   ],
   "source": [
    "imdb_dataset = load_dataset(\n",
    "    \"csv\",\n",
    "    data_files={\n",
    "        \"train\": os.path.join(\"data\", \"train.csv\"),\n",
    "        \"validation\": os.path.join(\"data\", \"val.csv\"),\n",
    "        \"test\": os.path.join(\"data\", \"test.csv\"),\n",
    "    },\n",
    ")\n",
    "\n",
    "print(imdb_dataset)"
   ]
  },
  {
   "cell_type": "code",
   "execution_count": 6,
   "id": "8f77eba9-33bf-4aa8-abd3-66b18ddb66d9",
   "metadata": {},
   "outputs": [
    {
     "name": "stdout",
     "output_type": "stream",
     "text": [
      "Tokenizer input max length: 512\n",
      "Tokenizer vocabulary size: 30522\n"
     ]
    },
    {
     "name": "stderr",
     "output_type": "stream",
     "text": [
      "/root/miniconda3/lib/python3.10/site-packages/transformers/tokenization_utils_base.py:1617: FutureWarning: `clean_up_tokenization_spaces` was not set. It will be set to `True` by default. This behavior will be deprecated in transformers v4.45, and will be then set to `False` by default. For more details check this issue: https://github.com/huggingface/transformers/issues/31884\n",
      "  warnings.warn(\n"
     ]
    }
   ],
   "source": [
    "from transformers import AutoTokenizer\n",
    "\n",
    "tokenizer = AutoTokenizer.from_pretrained(\"distilbert-base-uncased\")\n",
    "print(\"Tokenizer input max length:\", tokenizer.model_max_length)\n",
    "print(\"Tokenizer vocabulary size:\", tokenizer.vocab_size)"
   ]
  },
  {
   "cell_type": "code",
   "execution_count": 7,
   "id": "e3dd1e24-b828-46d1-a179-f298b5589282",
   "metadata": {},
   "outputs": [],
   "source": [
    "def tokenize_text(batch):\n",
    "    return tokenizer(batch[\"text\"], truncation=True, padding=True)"
   ]
  },
  {
   "cell_type": "code",
   "execution_count": 8,
   "id": "e575ebe0-5f94-4aa1-aa6e-6d85dfd2f1dd",
   "metadata": {},
   "outputs": [],
   "source": [
    "imdb_tokenized = imdb_dataset.map(tokenize_text, batched=True, batch_size=None)"
   ]
  },
  {
   "cell_type": "code",
   "execution_count": 9,
   "id": "79fa8c5e-01b4-424f-89f9-b69b485ea722",
   "metadata": {},
   "outputs": [],
   "source": [
    "del imdb_dataset"
   ]
  },
  {
   "cell_type": "code",
   "execution_count": 10,
   "id": "7e89972b-82a1-4d9b-b58a-b8487cb0ef25",
   "metadata": {},
   "outputs": [],
   "source": [
    "imdb_tokenized.set_format(\"torch\", columns=[\"input_ids\", \"attention_mask\", \"label\"])"
   ]
  },
  {
   "cell_type": "code",
   "execution_count": 11,
   "id": "f1d76eab-625d-4d3e-b489-991ffff431c7",
   "metadata": {},
   "outputs": [],
   "source": [
    "import os\n",
    "\n",
    "os.environ[\"TOKENIZERS_PARALLELISM\"] = \"false\""
   ]
  },
  {
   "cell_type": "markdown",
   "id": "6025d0e7-546a-438f-a669-23a77e3e4afc",
   "metadata": {},
   "source": [
    "### Set Up DataLoaders"
   ]
  },
  {
   "cell_type": "code",
   "execution_count": 12,
   "id": "f382a129-4d1c-47cf-898d-f67c61b90691",
   "metadata": {},
   "outputs": [],
   "source": [
    "from torch.utils.data import DataLoader, Dataset\n",
    "\n",
    "\n",
    "class IMDBDataset(Dataset):\n",
    "    def __init__(self, dataset_dict, partition_key=\"train\"):\n",
    "        self.partition = dataset_dict[partition_key]\n",
    "\n",
    "    def __getitem__(self, index):\n",
    "        return self.partition[index]\n",
    "\n",
    "    def __len__(self):\n",
    "        return self.partition.num_rows"
   ]
  },
  {
   "cell_type": "code",
   "execution_count": 13,
   "id": "9cd12191-9e56-49ff-bb87-2987ddd15c1d",
   "metadata": {},
   "outputs": [],
   "source": [
    "train_dataset = IMDBDataset(imdb_tokenized, partition_key=\"train\")\n",
    "val_dataset = IMDBDataset(imdb_tokenized, partition_key=\"validation\")\n",
    "test_dataset = IMDBDataset(imdb_tokenized, partition_key=\"test\")\n",
    "\n",
    "train_loader = DataLoader(\n",
    "    dataset=train_dataset,\n",
    "    batch_size=12,\n",
    "    shuffle=True, \n",
    "    num_workers=4\n",
    ")\n",
    "\n",
    "val_loader = DataLoader(\n",
    "    dataset=val_dataset,\n",
    "    batch_size=12,\n",
    "    num_workers=4\n",
    ")\n",
    "\n",
    "test_loader = DataLoader(\n",
    "    dataset=test_dataset,\n",
    "    batch_size=12,\n",
    "    num_workers=4\n",
    ")"
   ]
  },
  {
   "cell_type": "markdown",
   "id": "c142f045-6dbb-46cb-bf07-778fc288985f",
   "metadata": {},
   "source": [
    "### Initializing DistilBERT"
   ]
  },
  {
   "cell_type": "code",
   "execution_count": 14,
   "id": "69fb0d2b-bf8f-4a04-82e2-c84a1132df72",
   "metadata": {},
   "outputs": [
    {
     "name": "stderr",
     "output_type": "stream",
     "text": [
      "Some weights of DistilBertForSequenceClassification were not initialized from the model checkpoint at distilbert-base-uncased and are newly initialized: ['classifier.bias', 'classifier.weight', 'pre_classifier.bias', 'pre_classifier.weight']\n",
      "You should probably TRAIN this model on a down-stream task to be able to use it for predictions and inference.\n"
     ]
    }
   ],
   "source": [
    "from transformers import AutoModelForSequenceClassification\n",
    "\n",
    "model = AutoModelForSequenceClassification.from_pretrained(\n",
    "    \"distilbert-base-uncased\", num_labels=2)"
   ]
  },
  {
   "cell_type": "code",
   "execution_count": 15,
   "id": "f39d5dbd-9954-4828-a059-9bf30a2a68e9",
   "metadata": {},
   "outputs": [
    {
     "name": "stdout",
     "output_type": "stream",
     "text": [
      "Parameter: distilbert.embeddings.word_embeddings.weight, requires_grad: True\n",
      "Parameter: distilbert.embeddings.position_embeddings.weight, requires_grad: True\n",
      "Parameter: distilbert.embeddings.LayerNorm.weight, requires_grad: True\n",
      "Parameter: distilbert.embeddings.LayerNorm.bias, requires_grad: True\n",
      "Parameter: distilbert.transformer.layer.0.attention.q_lin.weight, requires_grad: True\n",
      "Parameter: distilbert.transformer.layer.0.attention.q_lin.bias, requires_grad: True\n",
      "Parameter: distilbert.transformer.layer.0.attention.k_lin.weight, requires_grad: True\n",
      "Parameter: distilbert.transformer.layer.0.attention.k_lin.bias, requires_grad: True\n",
      "Parameter: distilbert.transformer.layer.0.attention.v_lin.weight, requires_grad: True\n",
      "Parameter: distilbert.transformer.layer.0.attention.v_lin.bias, requires_grad: True\n",
      "Parameter: distilbert.transformer.layer.0.attention.out_lin.weight, requires_grad: True\n",
      "Parameter: distilbert.transformer.layer.0.attention.out_lin.bias, requires_grad: True\n",
      "Parameter: distilbert.transformer.layer.0.sa_layer_norm.weight, requires_grad: True\n",
      "Parameter: distilbert.transformer.layer.0.sa_layer_norm.bias, requires_grad: True\n",
      "Parameter: distilbert.transformer.layer.0.ffn.lin1.weight, requires_grad: True\n",
      "Parameter: distilbert.transformer.layer.0.ffn.lin1.bias, requires_grad: True\n",
      "Parameter: distilbert.transformer.layer.0.ffn.lin2.weight, requires_grad: True\n",
      "Parameter: distilbert.transformer.layer.0.ffn.lin2.bias, requires_grad: True\n",
      "Parameter: distilbert.transformer.layer.0.output_layer_norm.weight, requires_grad: True\n",
      "Parameter: distilbert.transformer.layer.0.output_layer_norm.bias, requires_grad: True\n",
      "Parameter: distilbert.transformer.layer.1.attention.q_lin.weight, requires_grad: True\n",
      "Parameter: distilbert.transformer.layer.1.attention.q_lin.bias, requires_grad: True\n",
      "Parameter: distilbert.transformer.layer.1.attention.k_lin.weight, requires_grad: True\n",
      "Parameter: distilbert.transformer.layer.1.attention.k_lin.bias, requires_grad: True\n",
      "Parameter: distilbert.transformer.layer.1.attention.v_lin.weight, requires_grad: True\n",
      "Parameter: distilbert.transformer.layer.1.attention.v_lin.bias, requires_grad: True\n",
      "Parameter: distilbert.transformer.layer.1.attention.out_lin.weight, requires_grad: True\n",
      "Parameter: distilbert.transformer.layer.1.attention.out_lin.bias, requires_grad: True\n",
      "Parameter: distilbert.transformer.layer.1.sa_layer_norm.weight, requires_grad: True\n",
      "Parameter: distilbert.transformer.layer.1.sa_layer_norm.bias, requires_grad: True\n",
      "Parameter: distilbert.transformer.layer.1.ffn.lin1.weight, requires_grad: True\n",
      "Parameter: distilbert.transformer.layer.1.ffn.lin1.bias, requires_grad: True\n",
      "Parameter: distilbert.transformer.layer.1.ffn.lin2.weight, requires_grad: True\n",
      "Parameter: distilbert.transformer.layer.1.ffn.lin2.bias, requires_grad: True\n",
      "Parameter: distilbert.transformer.layer.1.output_layer_norm.weight, requires_grad: True\n",
      "Parameter: distilbert.transformer.layer.1.output_layer_norm.bias, requires_grad: True\n",
      "Parameter: distilbert.transformer.layer.2.attention.q_lin.weight, requires_grad: True\n",
      "Parameter: distilbert.transformer.layer.2.attention.q_lin.bias, requires_grad: True\n",
      "Parameter: distilbert.transformer.layer.2.attention.k_lin.weight, requires_grad: True\n",
      "Parameter: distilbert.transformer.layer.2.attention.k_lin.bias, requires_grad: True\n",
      "Parameter: distilbert.transformer.layer.2.attention.v_lin.weight, requires_grad: True\n",
      "Parameter: distilbert.transformer.layer.2.attention.v_lin.bias, requires_grad: True\n",
      "Parameter: distilbert.transformer.layer.2.attention.out_lin.weight, requires_grad: True\n",
      "Parameter: distilbert.transformer.layer.2.attention.out_lin.bias, requires_grad: True\n",
      "Parameter: distilbert.transformer.layer.2.sa_layer_norm.weight, requires_grad: True\n",
      "Parameter: distilbert.transformer.layer.2.sa_layer_norm.bias, requires_grad: True\n",
      "Parameter: distilbert.transformer.layer.2.ffn.lin1.weight, requires_grad: True\n",
      "Parameter: distilbert.transformer.layer.2.ffn.lin1.bias, requires_grad: True\n",
      "Parameter: distilbert.transformer.layer.2.ffn.lin2.weight, requires_grad: True\n",
      "Parameter: distilbert.transformer.layer.2.ffn.lin2.bias, requires_grad: True\n",
      "Parameter: distilbert.transformer.layer.2.output_layer_norm.weight, requires_grad: True\n",
      "Parameter: distilbert.transformer.layer.2.output_layer_norm.bias, requires_grad: True\n",
      "Parameter: distilbert.transformer.layer.3.attention.q_lin.weight, requires_grad: True\n",
      "Parameter: distilbert.transformer.layer.3.attention.q_lin.bias, requires_grad: True\n",
      "Parameter: distilbert.transformer.layer.3.attention.k_lin.weight, requires_grad: True\n",
      "Parameter: distilbert.transformer.layer.3.attention.k_lin.bias, requires_grad: True\n",
      "Parameter: distilbert.transformer.layer.3.attention.v_lin.weight, requires_grad: True\n",
      "Parameter: distilbert.transformer.layer.3.attention.v_lin.bias, requires_grad: True\n",
      "Parameter: distilbert.transformer.layer.3.attention.out_lin.weight, requires_grad: True\n",
      "Parameter: distilbert.transformer.layer.3.attention.out_lin.bias, requires_grad: True\n",
      "Parameter: distilbert.transformer.layer.3.sa_layer_norm.weight, requires_grad: True\n",
      "Parameter: distilbert.transformer.layer.3.sa_layer_norm.bias, requires_grad: True\n",
      "Parameter: distilbert.transformer.layer.3.ffn.lin1.weight, requires_grad: True\n",
      "Parameter: distilbert.transformer.layer.3.ffn.lin1.bias, requires_grad: True\n",
      "Parameter: distilbert.transformer.layer.3.ffn.lin2.weight, requires_grad: True\n",
      "Parameter: distilbert.transformer.layer.3.ffn.lin2.bias, requires_grad: True\n",
      "Parameter: distilbert.transformer.layer.3.output_layer_norm.weight, requires_grad: True\n",
      "Parameter: distilbert.transformer.layer.3.output_layer_norm.bias, requires_grad: True\n",
      "Parameter: distilbert.transformer.layer.4.attention.q_lin.weight, requires_grad: True\n",
      "Parameter: distilbert.transformer.layer.4.attention.q_lin.bias, requires_grad: True\n",
      "Parameter: distilbert.transformer.layer.4.attention.k_lin.weight, requires_grad: True\n",
      "Parameter: distilbert.transformer.layer.4.attention.k_lin.bias, requires_grad: True\n",
      "Parameter: distilbert.transformer.layer.4.attention.v_lin.weight, requires_grad: True\n",
      "Parameter: distilbert.transformer.layer.4.attention.v_lin.bias, requires_grad: True\n",
      "Parameter: distilbert.transformer.layer.4.attention.out_lin.weight, requires_grad: True\n",
      "Parameter: distilbert.transformer.layer.4.attention.out_lin.bias, requires_grad: True\n",
      "Parameter: distilbert.transformer.layer.4.sa_layer_norm.weight, requires_grad: True\n",
      "Parameter: distilbert.transformer.layer.4.sa_layer_norm.bias, requires_grad: True\n",
      "Parameter: distilbert.transformer.layer.4.ffn.lin1.weight, requires_grad: True\n",
      "Parameter: distilbert.transformer.layer.4.ffn.lin1.bias, requires_grad: True\n",
      "Parameter: distilbert.transformer.layer.4.ffn.lin2.weight, requires_grad: True\n",
      "Parameter: distilbert.transformer.layer.4.ffn.lin2.bias, requires_grad: True\n",
      "Parameter: distilbert.transformer.layer.4.output_layer_norm.weight, requires_grad: True\n",
      "Parameter: distilbert.transformer.layer.4.output_layer_norm.bias, requires_grad: True\n",
      "Parameter: distilbert.transformer.layer.5.attention.q_lin.weight, requires_grad: True\n",
      "Parameter: distilbert.transformer.layer.5.attention.q_lin.bias, requires_grad: True\n",
      "Parameter: distilbert.transformer.layer.5.attention.k_lin.weight, requires_grad: True\n",
      "Parameter: distilbert.transformer.layer.5.attention.k_lin.bias, requires_grad: True\n",
      "Parameter: distilbert.transformer.layer.5.attention.v_lin.weight, requires_grad: True\n",
      "Parameter: distilbert.transformer.layer.5.attention.v_lin.bias, requires_grad: True\n",
      "Parameter: distilbert.transformer.layer.5.attention.out_lin.weight, requires_grad: True\n",
      "Parameter: distilbert.transformer.layer.5.attention.out_lin.bias, requires_grad: True\n",
      "Parameter: distilbert.transformer.layer.5.sa_layer_norm.weight, requires_grad: True\n",
      "Parameter: distilbert.transformer.layer.5.sa_layer_norm.bias, requires_grad: True\n",
      "Parameter: distilbert.transformer.layer.5.ffn.lin1.weight, requires_grad: True\n",
      "Parameter: distilbert.transformer.layer.5.ffn.lin1.bias, requires_grad: True\n",
      "Parameter: distilbert.transformer.layer.5.ffn.lin2.weight, requires_grad: True\n",
      "Parameter: distilbert.transformer.layer.5.ffn.lin2.bias, requires_grad: True\n",
      "Parameter: distilbert.transformer.layer.5.output_layer_norm.weight, requires_grad: True\n",
      "Parameter: distilbert.transformer.layer.5.output_layer_norm.bias, requires_grad: True\n",
      "Parameter: pre_classifier.weight, requires_grad: True\n",
      "Parameter: pre_classifier.bias, requires_grad: True\n",
      "Parameter: classifier.weight, requires_grad: True\n",
      "Parameter: classifier.bias, requires_grad: True\n"
     ]
    }
   ],
   "source": [
    "for name, param in model.named_parameters():\n",
    "    print(f\"Parameter: {name}, requires_grad: {param.requires_grad}\")"
   ]
  },
  {
   "cell_type": "code",
   "execution_count": 16,
   "id": "23baf5c4-42f9-4977-9a83-29ea6ecdc52b",
   "metadata": {},
   "outputs": [
    {
     "name": "stdout",
     "output_type": "stream",
     "text": [
      "Total number of trainable parameters: 66955010\n"
     ]
    }
   ],
   "source": [
    "def count_parameters(model):\n",
    "    return sum(p.numel() for p in model.parameters() if p.requires_grad)\n",
    "\n",
    "print(\"Total number of trainable parameters:\", count_parameters(model))"
   ]
  },
  {
   "cell_type": "markdown",
   "id": "adaa449b-50d1-4118-abb3-9b445fb0bb9f",
   "metadata": {},
   "source": [
    "### Finetuning"
   ]
  },
  {
   "cell_type": "code",
   "execution_count": 17,
   "id": "2d4095b0-9dff-49a6-b51e-445c3b1aaa4d",
   "metadata": {},
   "outputs": [],
   "source": [
    "from local_model_utilities import CustomLightningModule\n",
    "\n",
    "lightning_model = CustomLightningModule(model)"
   ]
  },
  {
   "cell_type": "code",
   "execution_count": 18,
   "id": "8b8c6b10-266d-4800-b0cd-597ab823ab99",
   "metadata": {},
   "outputs": [],
   "source": [
    "from lightning.pytorch.callbacks import ModelCheckpoint\n",
    "from lightning.pytorch.loggers import CSVLogger\n",
    "\n",
    "\n",
    "callbacks = [\n",
    "    ModelCheckpoint(\n",
    "        save_top_k=1, mode=\"max\", monitor=\"val_acc\"\n",
    "    )  # save top 1 model\n",
    "]\n",
    "logger = CSVLogger(save_dir=\"logs/\", name=\"my-model\")"
   ]
  },
  {
   "cell_type": "code",
   "execution_count": 19,
   "id": "90ce0ea2-025b-4489-b1d1-199bddfb993e",
   "metadata": {},
   "outputs": [
    {
     "name": "stderr",
     "output_type": "stream",
     "text": [
      "Using 16bit Automatic Mixed Precision (AMP)\n",
      "GPU available: True (cuda), used: True\n",
      "TPU available: False, using: 0 TPU cores\n",
      "HPU available: False, using: 0 HPUs\n"
     ]
    }
   ],
   "source": [
    "trainer = L.Trainer(\n",
    "    max_epochs=3,\n",
    "    callbacks=callbacks,\n",
    "    accelerator=\"gpu\",\n",
    "    precision=\"16-mixed\",\n",
    "    devices=1,\n",
    "    logger=logger,\n",
    "    log_every_n_steps=10,\n",
    ")"
   ]
  },
  {
   "cell_type": "code",
   "execution_count": 20,
   "id": "add7c6e9-42f1-434b-825d-8f37674d4aeb",
   "metadata": {},
   "outputs": [
    {
     "name": "stderr",
     "output_type": "stream",
     "text": [
      "You are using a CUDA device ('NVIDIA GeForce RTX 3090') that has Tensor Cores. To properly utilize them, you should set `torch.set_float32_matmul_precision('medium' | 'high')` which will trade-off precision for performance. For more details, read https://pytorch.org/docs/stable/generated/torch.set_float32_matmul_precision.html#torch.set_float32_matmul_precision\n",
      "LOCAL_RANK: 0 - CUDA_VISIBLE_DEVICES: [0]\n",
      "\n",
      "  | Name     | Type                                | Params | Mode \n",
      "-------------------------------------------------------------------------\n",
      "0 | model    | DistilBertForSequenceClassification | 67.0 M | eval \n",
      "1 | val_acc  | MulticlassAccuracy                  | 0      | train\n",
      "2 | test_acc | MulticlassAccuracy                  | 0      | train\n",
      "-------------------------------------------------------------------------\n",
      "67.0 M    Trainable params\n",
      "0         Non-trainable params\n",
      "67.0 M    Total params\n",
      "267.820   Total estimated model params size (MB)\n",
      "2         Modules in train mode\n",
      "96        Modules in eval mode\n"
     ]
    },
    {
     "data": {
      "application/vnd.jupyter.widget-view+json": {
       "model_id": "",
       "version_major": 2,
       "version_minor": 0
      },
      "text/plain": [
       "Sanity Checking: |          | 0/? [00:00<?, ?it/s]"
      ]
     },
     "metadata": {},
     "output_type": "display_data"
    },
    {
     "data": {
      "application/vnd.jupyter.widget-view+json": {
       "model_id": "751b182731dc431a9c00d0206b860654",
       "version_major": 2,
       "version_minor": 0
      },
      "text/plain": [
       "Training: |          | 0/? [00:00<?, ?it/s]"
      ]
     },
     "metadata": {},
     "output_type": "display_data"
    },
    {
     "data": {
      "application/vnd.jupyter.widget-view+json": {
       "model_id": "",
       "version_major": 2,
       "version_minor": 0
      },
      "text/plain": [
       "Validation: |          | 0/? [00:00<?, ?it/s]"
      ]
     },
     "metadata": {},
     "output_type": "display_data"
    },
    {
     "data": {
      "application/vnd.jupyter.widget-view+json": {
       "model_id": "",
       "version_major": 2,
       "version_minor": 0
      },
      "text/plain": [
       "Validation: |          | 0/? [00:00<?, ?it/s]"
      ]
     },
     "metadata": {},
     "output_type": "display_data"
    },
    {
     "data": {
      "application/vnd.jupyter.widget-view+json": {
       "model_id": "",
       "version_major": 2,
       "version_minor": 0
      },
      "text/plain": [
       "Validation: |          | 0/? [00:00<?, ?it/s]"
      ]
     },
     "metadata": {},
     "output_type": "display_data"
    },
    {
     "name": "stderr",
     "output_type": "stream",
     "text": [
      "`Trainer.fit` stopped: `max_epochs=3` reached.\n"
     ]
    },
    {
     "name": "stdout",
     "output_type": "stream",
     "text": [
      "Time elapsed 12.33 min\n"
     ]
    }
   ],
   "source": [
    "import time\n",
    "start = time.time()\n",
    "\n",
    "trainer.fit(model=lightning_model,\n",
    "            train_dataloaders=train_loader,\n",
    "            val_dataloaders=val_loader)\n",
    "\n",
    "end = time.time()\n",
    "elapsed = end - start\n",
    "print(f\"Time elapsed {elapsed/60:.2f} min\")"
   ]
  },
  {
   "cell_type": "code",
   "execution_count": 21,
   "id": "f1ee3b72-64ff-4a54-884a-804b6850fa58",
   "metadata": {},
   "outputs": [
    {
     "name": "stderr",
     "output_type": "stream",
     "text": [
      "Restoring states from the checkpoint path at logs/my-model/version_0/checkpoints/epoch=0-step=2917.ckpt\n",
      "LOCAL_RANK: 0 - CUDA_VISIBLE_DEVICES: [0]\n",
      "Loaded model weights from the checkpoint at logs/my-model/version_0/checkpoints/epoch=0-step=2917.ckpt\n",
      "/root/miniconda3/lib/python3.10/site-packages/lightning/pytorch/trainer/connectors/data_connector.py:475: Your `test_dataloader`'s sampler has shuffling enabled, it is strongly recommended that you turn shuffling off for val/test dataloaders.\n"
     ]
    },
    {
     "data": {
      "application/vnd.jupyter.widget-view+json": {
       "model_id": "a8db1c9c45334718894e95410e7d59ba",
       "version_major": 2,
       "version_minor": 0
      },
      "text/plain": [
       "Testing: |          | 0/? [00:00<?, ?it/s]"
      ]
     },
     "metadata": {},
     "output_type": "display_data"
    },
    {
     "name": "stderr",
     "output_type": "stream",
     "text": [
      "Restoring states from the checkpoint path at logs/my-model/version_0/checkpoints/epoch=0-step=2917.ckpt\n",
      "LOCAL_RANK: 0 - CUDA_VISIBLE_DEVICES: [0]\n",
      "Loaded model weights from the checkpoint at logs/my-model/version_0/checkpoints/epoch=0-step=2917.ckpt\n"
     ]
    },
    {
     "data": {
      "application/vnd.jupyter.widget-view+json": {
       "model_id": "cf966fead0334e038b4d2e12d1b42dc1",
       "version_major": 2,
       "version_minor": 0
      },
      "text/plain": [
       "Testing: |          | 0/? [00:00<?, ?it/s]"
      ]
     },
     "metadata": {},
     "output_type": "display_data"
    },
    {
     "name": "stderr",
     "output_type": "stream",
     "text": [
      "Restoring states from the checkpoint path at logs/my-model/version_0/checkpoints/epoch=0-step=2917.ckpt\n",
      "LOCAL_RANK: 0 - CUDA_VISIBLE_DEVICES: [0]\n",
      "Loaded model weights from the checkpoint at logs/my-model/version_0/checkpoints/epoch=0-step=2917.ckpt\n"
     ]
    },
    {
     "data": {
      "application/vnd.jupyter.widget-view+json": {
       "model_id": "e6e6c5ab8f914b6f9535d471bc33ec15",
       "version_major": 2,
       "version_minor": 0
      },
      "text/plain": [
       "Testing: |          | 0/? [00:00<?, ?it/s]"
      ]
     },
     "metadata": {},
     "output_type": "display_data"
    }
   ],
   "source": [
    "train_acc = trainer.test(lightning_model, dataloaders=train_loader, ckpt_path=\"best\", verbose=False)\n",
    "val_acc = trainer.test(lightning_model, dataloaders=val_loader, ckpt_path=\"best\", verbose=False)\n",
    "test_acc = trainer.test(lightning_model, dataloaders=test_loader, ckpt_path=\"best\", verbose=False)"
   ]
  },
  {
   "cell_type": "code",
   "execution_count": 22,
   "id": "56c67427-2b7e-4eb7-b21d-2a82d3fbd4e0",
   "metadata": {},
   "outputs": [
    {
     "name": "stdout",
     "output_type": "stream",
     "text": [
      "Train acc: 96.28%\n",
      "Val acc:   92.32%\n",
      "Test acc:  91.82%\n"
     ]
    }
   ],
   "source": [
    "print(f\"Train acc: {train_acc[0]['accuracy']*100:2.2f}%\")\n",
    "print(f\"Val acc:   {val_acc[0]['accuracy']*100:2.2f}%\")\n",
    "print(f\"Test acc:  {test_acc[0]['accuracy']*100:2.2f}%\")"
   ]
  },
  {
   "cell_type": "code",
   "execution_count": 23,
   "id": "f93cbd71-7fde-4e65-9b97-27aaa29af14b",
   "metadata": {},
   "outputs": [],
   "source": [
    "import shutil\n",
    "\n",
    "# Cleanup checkpoint files as we don't need them later\n",
    "log_dir = f\"logs/my-model\"\n",
    "if os.path.exists(log_dir):\n",
    "    shutil.rmtree(log_dir)"
   ]
  },
  {
   "cell_type": "code",
   "execution_count": null,
   "id": "d3b14cb7-7369-4ad5-ac91-328811d34d62",
   "metadata": {},
   "outputs": [],
   "source": []
  }
 ],
 "metadata": {
  "kernelspec": {
   "display_name": "Python 3 (ipykernel)",
   "language": "python",
   "name": "python3"
  },
  "language_info": {
   "codemirror_mode": {
    "name": "ipython",
    "version": 3
   },
   "file_extension": ".py",
   "mimetype": "text/x-python",
   "name": "python",
   "nbconvert_exporter": "python",
   "pygments_lexer": "ipython3",
   "version": "3.10.8"
  }
 },
 "nbformat": 4,
 "nbformat_minor": 5
}
