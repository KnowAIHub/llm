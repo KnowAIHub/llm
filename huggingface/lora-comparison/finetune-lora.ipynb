{
 "cells": [
  {
   "cell_type": "markdown",
   "id": "f1220e85-3276-4ba4-9be3-061e2ed96523",
   "metadata": {},
   "source": [
    "### Loading the dataset into DataFrames"
   ]
  },
  {
   "cell_type": "code",
   "execution_count": 1,
   "id": "42c9d344-d7ab-4143-9ba9-f0c74390e2d2",
   "metadata": {},
   "outputs": [],
   "source": [
    "import os\n",
    "from datasets import load_dataset\n",
    "\n",
    "import lightning as L\n",
    "from lightning.pytorch.loggers import CSVLogger\n",
    "from lightning.pytorch.callbacks import ModelCheckpoint\n",
    "\n",
    "import pandas as pd\n",
    "import torch\n",
    "\n",
    "from local_dataset_utilities import download_dataset, load_dataset_into_to_dataframe, partition_dataset\n",
    "from local_dataset_utilities import IMDBDataset"
   ]
  },
  {
   "cell_type": "code",
   "execution_count": 3,
   "id": "eed3658d-9687-4fe6-84eb-d2d6f01c7341",
   "metadata": {},
   "outputs": [],
   "source": [
    "if not torch.cuda.is_available():\n",
    "    print(\"Please switch to a GPU machine before running this notebook.\")"
   ]
  },
  {
   "cell_type": "code",
   "execution_count": 4,
   "id": "5e076858-4db5-4d5b-bb0a-c27aea2af0bb",
   "metadata": {},
   "outputs": [],
   "source": [
    "files = (\"test.csv\", \"train.csv\", \"val.csv\")\n",
    "download = True\n",
    "\n",
    "for f in files:\n",
    "    if not os.path.exists(os.path.join(\"data\", f)):\n",
    "        download = False\n",
    "\n",
    "if download is False:\n",
    "    download_dataset()\n",
    "    df = load_dataset_into_to_dataframe()\n",
    "    partition_dataset(df)"
   ]
  },
  {
   "cell_type": "code",
   "execution_count": 5,
   "id": "72408da0-f1cc-4a25-ad00-85c695b22359",
   "metadata": {},
   "outputs": [],
   "source": [
    "files = (\"test.csv\", \"train.csv\", \"val.csv\")\n",
    "download = True\n",
    "\n",
    "for f in files:\n",
    "    if not os.path.exists(os.path.join(\"data\", f)):\n",
    "        download = False\n",
    "\n",
    "if download is False:\n",
    "    download_dataset()\n",
    "    df = load_dataset_into_to_dataframe()\n",
    "    partition_dataset(df)"
   ]
  },
  {
   "cell_type": "code",
   "execution_count": 6,
   "id": "9ae242ca-75fb-43fe-925b-8a5f266baa1a",
   "metadata": {},
   "outputs": [],
   "source": [
    "df_train = pd.read_csv(os.path.join(\"data\", \"train.csv\"))\n",
    "df_val = pd.read_csv(os.path.join(\"data\", \"val.csv\"))\n",
    "df_test = pd.read_csv(os.path.join(\"data\", \"test.csv\"))"
   ]
  },
  {
   "cell_type": "markdown",
   "id": "ec239fe0-b159-4058-a816-eda9a93c77b5",
   "metadata": {},
   "source": [
    "### Tokenization and Numericalization"
   ]
  },
  {
   "cell_type": "code",
   "execution_count": 7,
   "id": "7d1ff691-1ff2-49a1-8892-29d3235d9600",
   "metadata": {},
   "outputs": [
    {
     "name": "stdout",
     "output_type": "stream",
     "text": [
      "DatasetDict({\n",
      "    train: Dataset({\n",
      "        features: ['index', 'text', 'label'],\n",
      "        num_rows: 35000\n",
      "    })\n",
      "    validation: Dataset({\n",
      "        features: ['index', 'text', 'label'],\n",
      "        num_rows: 5000\n",
      "    })\n",
      "    test: Dataset({\n",
      "        features: ['index', 'text', 'label'],\n",
      "        num_rows: 10000\n",
      "    })\n",
      "})\n"
     ]
    }
   ],
   "source": [
    "imdb_dataset = load_dataset(\n",
    "    \"csv\",\n",
    "    data_files={\n",
    "        \"train\": os.path.join(\"data\", \"train.csv\"),\n",
    "        \"validation\": os.path.join(\"data\", \"val.csv\"),\n",
    "        \"test\": os.path.join(\"data\", \"test.csv\"),\n",
    "    },\n",
    ")\n",
    "\n",
    "print(imdb_dataset)"
   ]
  },
  {
   "cell_type": "code",
   "execution_count": 8,
   "id": "d896e4aa-3f01-4869-b0d2-183032586ca9",
   "metadata": {},
   "outputs": [
    {
     "name": "stdout",
     "output_type": "stream",
     "text": [
      "Tokenizer input max length: 512\n",
      "Tokenizer vocabulary size: 30522\n"
     ]
    },
    {
     "name": "stderr",
     "output_type": "stream",
     "text": [
      "/root/miniconda3/lib/python3.10/site-packages/transformers/tokenization_utils_base.py:1617: FutureWarning: `clean_up_tokenization_spaces` was not set. It will be set to `True` by default. This behavior will be deprecated in transformers v4.45, and will be then set to `False` by default. For more details check this issue: https://github.com/huggingface/transformers/issues/31884\n",
      "  warnings.warn(\n"
     ]
    }
   ],
   "source": [
    "from transformers import AutoTokenizer\n",
    "\n",
    "tokenizer = AutoTokenizer.from_pretrained(\"distilbert-base-uncased\")\n",
    "print(\"Tokenizer input max length:\", tokenizer.model_max_length)\n",
    "print(\"Tokenizer vocabulary size:\", tokenizer.vocab_size)"
   ]
  },
  {
   "cell_type": "code",
   "execution_count": 9,
   "id": "0b445db5-0487-4361-be0c-7a40bfa241dd",
   "metadata": {},
   "outputs": [],
   "source": [
    "def tokenize_text(batch):\n",
    "    return tokenizer(batch[\"text\"], truncation=True, padding=True)"
   ]
  },
  {
   "cell_type": "code",
   "execution_count": 10,
   "id": "a2e3bf05-6150-4645-b4ce-a1a129c52732",
   "metadata": {},
   "outputs": [],
   "source": [
    "imdb_tokenized = imdb_dataset.map(tokenize_text, batched=True, batch_size=None)"
   ]
  },
  {
   "cell_type": "code",
   "execution_count": 11,
   "id": "3adbfbdd-9417-43f5-a331-5da04c2c305c",
   "metadata": {},
   "outputs": [],
   "source": [
    "del imdb_dataset"
   ]
  },
  {
   "cell_type": "code",
   "execution_count": 12,
   "id": "b424875f-1ea9-4d11-8d34-ef4b6d4ffc14",
   "metadata": {},
   "outputs": [],
   "source": [
    "imdb_tokenized.set_format(\"torch\", columns=[\"input_ids\", \"attention_mask\", \"label\"])"
   ]
  },
  {
   "cell_type": "code",
   "execution_count": 13,
   "id": "1672137c-61a7-421c-bbea-138d4791c048",
   "metadata": {},
   "outputs": [],
   "source": [
    "os.environ[\"TOKENIZERS_PARALLELISM\"] = \"false\""
   ]
  },
  {
   "cell_type": "markdown",
   "id": "8076e859-7202-4fe5-87e6-659912818b4e",
   "metadata": {},
   "source": [
    "### Set Up DataLoaders"
   ]
  },
  {
   "cell_type": "code",
   "execution_count": 14,
   "id": "b487c998-a6d6-4470-b42d-3869f2184841",
   "metadata": {},
   "outputs": [],
   "source": [
    "from torch.utils.data import DataLoader, Dataset\n",
    "\n",
    "\n",
    "class IMDBDataset(Dataset):\n",
    "    def __init__(self, dataset_dict, partition_key=\"train\"):\n",
    "        self.partition = dataset_dict[partition_key]\n",
    "\n",
    "    def __getitem__(self, index):\n",
    "        return self.partition[index]\n",
    "\n",
    "    def __len__(self):\n",
    "        return self.partition.num_rows"
   ]
  },
  {
   "cell_type": "code",
   "execution_count": 15,
   "id": "4f24aee0-5566-43d9-8f26-a772a67b5e40",
   "metadata": {},
   "outputs": [],
   "source": [
    "train_dataset = IMDBDataset(imdb_tokenized, partition_key=\"train\")\n",
    "val_dataset = IMDBDataset(imdb_tokenized, partition_key=\"validation\")\n",
    "test_dataset = IMDBDataset(imdb_tokenized, partition_key=\"test\")\n",
    "\n",
    "train_loader = DataLoader(\n",
    "    dataset=train_dataset,\n",
    "    batch_size=12,\n",
    "    shuffle=True, \n",
    "    num_workers=4\n",
    ")\n",
    "\n",
    "val_loader = DataLoader(\n",
    "    dataset=val_dataset,\n",
    "    batch_size=12,\n",
    "    num_workers=4\n",
    ")\n",
    "\n",
    "test_loader = DataLoader(\n",
    "    dataset=test_dataset,\n",
    "    batch_size=12,\n",
    "    num_workers=4\n",
    ")"
   ]
  },
  {
   "cell_type": "markdown",
   "id": "8eb867b1-a66d-4522-8cbc-0de746b3e39a",
   "metadata": {},
   "source": [
    "### Initializing DistilBERT"
   ]
  },
  {
   "cell_type": "code",
   "execution_count": 16,
   "id": "1b0b7a0d-7491-4dad-b973-a18917dbac53",
   "metadata": {},
   "outputs": [
    {
     "name": "stderr",
     "output_type": "stream",
     "text": [
      "Some weights of DistilBertForSequenceClassification were not initialized from the model checkpoint at distilbert-base-uncased and are newly initialized: ['classifier.bias', 'classifier.weight', 'pre_classifier.bias', 'pre_classifier.weight']\n",
      "You should probably TRAIN this model on a down-stream task to be able to use it for predictions and inference.\n"
     ]
    }
   ],
   "source": [
    "from transformers import AutoModelForSequenceClassification\n",
    "\n",
    "\n",
    "model = AutoModelForSequenceClassification.from_pretrained(\n",
    "    \"distilbert-base-uncased\", num_labels=2)"
   ]
  },
  {
   "cell_type": "code",
   "execution_count": 17,
   "id": "07757fb6-a704-4847-909b-8b8b66f8878c",
   "metadata": {},
   "outputs": [
    {
     "name": "stdout",
     "output_type": "stream",
     "text": [
      "Parameter: distilbert.embeddings.word_embeddings.weight, requires_grad: True\n",
      "Parameter: distilbert.embeddings.position_embeddings.weight, requires_grad: True\n",
      "Parameter: distilbert.embeddings.LayerNorm.weight, requires_grad: True\n",
      "Parameter: distilbert.embeddings.LayerNorm.bias, requires_grad: True\n",
      "Parameter: distilbert.transformer.layer.0.attention.q_lin.weight, requires_grad: True\n",
      "Parameter: distilbert.transformer.layer.0.attention.q_lin.bias, requires_grad: True\n",
      "Parameter: distilbert.transformer.layer.0.attention.k_lin.weight, requires_grad: True\n",
      "Parameter: distilbert.transformer.layer.0.attention.k_lin.bias, requires_grad: True\n",
      "Parameter: distilbert.transformer.layer.0.attention.v_lin.weight, requires_grad: True\n",
      "Parameter: distilbert.transformer.layer.0.attention.v_lin.bias, requires_grad: True\n",
      "Parameter: distilbert.transformer.layer.0.attention.out_lin.weight, requires_grad: True\n",
      "Parameter: distilbert.transformer.layer.0.attention.out_lin.bias, requires_grad: True\n",
      "Parameter: distilbert.transformer.layer.0.sa_layer_norm.weight, requires_grad: True\n",
      "Parameter: distilbert.transformer.layer.0.sa_layer_norm.bias, requires_grad: True\n",
      "Parameter: distilbert.transformer.layer.0.ffn.lin1.weight, requires_grad: True\n",
      "Parameter: distilbert.transformer.layer.0.ffn.lin1.bias, requires_grad: True\n",
      "Parameter: distilbert.transformer.layer.0.ffn.lin2.weight, requires_grad: True\n",
      "Parameter: distilbert.transformer.layer.0.ffn.lin2.bias, requires_grad: True\n",
      "Parameter: distilbert.transformer.layer.0.output_layer_norm.weight, requires_grad: True\n",
      "Parameter: distilbert.transformer.layer.0.output_layer_norm.bias, requires_grad: True\n",
      "Parameter: distilbert.transformer.layer.1.attention.q_lin.weight, requires_grad: True\n",
      "Parameter: distilbert.transformer.layer.1.attention.q_lin.bias, requires_grad: True\n",
      "Parameter: distilbert.transformer.layer.1.attention.k_lin.weight, requires_grad: True\n",
      "Parameter: distilbert.transformer.layer.1.attention.k_lin.bias, requires_grad: True\n",
      "Parameter: distilbert.transformer.layer.1.attention.v_lin.weight, requires_grad: True\n",
      "Parameter: distilbert.transformer.layer.1.attention.v_lin.bias, requires_grad: True\n",
      "Parameter: distilbert.transformer.layer.1.attention.out_lin.weight, requires_grad: True\n",
      "Parameter: distilbert.transformer.layer.1.attention.out_lin.bias, requires_grad: True\n",
      "Parameter: distilbert.transformer.layer.1.sa_layer_norm.weight, requires_grad: True\n",
      "Parameter: distilbert.transformer.layer.1.sa_layer_norm.bias, requires_grad: True\n",
      "Parameter: distilbert.transformer.layer.1.ffn.lin1.weight, requires_grad: True\n",
      "Parameter: distilbert.transformer.layer.1.ffn.lin1.bias, requires_grad: True\n",
      "Parameter: distilbert.transformer.layer.1.ffn.lin2.weight, requires_grad: True\n",
      "Parameter: distilbert.transformer.layer.1.ffn.lin2.bias, requires_grad: True\n",
      "Parameter: distilbert.transformer.layer.1.output_layer_norm.weight, requires_grad: True\n",
      "Parameter: distilbert.transformer.layer.1.output_layer_norm.bias, requires_grad: True\n",
      "Parameter: distilbert.transformer.layer.2.attention.q_lin.weight, requires_grad: True\n",
      "Parameter: distilbert.transformer.layer.2.attention.q_lin.bias, requires_grad: True\n",
      "Parameter: distilbert.transformer.layer.2.attention.k_lin.weight, requires_grad: True\n",
      "Parameter: distilbert.transformer.layer.2.attention.k_lin.bias, requires_grad: True\n",
      "Parameter: distilbert.transformer.layer.2.attention.v_lin.weight, requires_grad: True\n",
      "Parameter: distilbert.transformer.layer.2.attention.v_lin.bias, requires_grad: True\n",
      "Parameter: distilbert.transformer.layer.2.attention.out_lin.weight, requires_grad: True\n",
      "Parameter: distilbert.transformer.layer.2.attention.out_lin.bias, requires_grad: True\n",
      "Parameter: distilbert.transformer.layer.2.sa_layer_norm.weight, requires_grad: True\n",
      "Parameter: distilbert.transformer.layer.2.sa_layer_norm.bias, requires_grad: True\n",
      "Parameter: distilbert.transformer.layer.2.ffn.lin1.weight, requires_grad: True\n",
      "Parameter: distilbert.transformer.layer.2.ffn.lin1.bias, requires_grad: True\n",
      "Parameter: distilbert.transformer.layer.2.ffn.lin2.weight, requires_grad: True\n",
      "Parameter: distilbert.transformer.layer.2.ffn.lin2.bias, requires_grad: True\n",
      "Parameter: distilbert.transformer.layer.2.output_layer_norm.weight, requires_grad: True\n",
      "Parameter: distilbert.transformer.layer.2.output_layer_norm.bias, requires_grad: True\n",
      "Parameter: distilbert.transformer.layer.3.attention.q_lin.weight, requires_grad: True\n",
      "Parameter: distilbert.transformer.layer.3.attention.q_lin.bias, requires_grad: True\n",
      "Parameter: distilbert.transformer.layer.3.attention.k_lin.weight, requires_grad: True\n",
      "Parameter: distilbert.transformer.layer.3.attention.k_lin.bias, requires_grad: True\n",
      "Parameter: distilbert.transformer.layer.3.attention.v_lin.weight, requires_grad: True\n",
      "Parameter: distilbert.transformer.layer.3.attention.v_lin.bias, requires_grad: True\n",
      "Parameter: distilbert.transformer.layer.3.attention.out_lin.weight, requires_grad: True\n",
      "Parameter: distilbert.transformer.layer.3.attention.out_lin.bias, requires_grad: True\n",
      "Parameter: distilbert.transformer.layer.3.sa_layer_norm.weight, requires_grad: True\n",
      "Parameter: distilbert.transformer.layer.3.sa_layer_norm.bias, requires_grad: True\n",
      "Parameter: distilbert.transformer.layer.3.ffn.lin1.weight, requires_grad: True\n",
      "Parameter: distilbert.transformer.layer.3.ffn.lin1.bias, requires_grad: True\n",
      "Parameter: distilbert.transformer.layer.3.ffn.lin2.weight, requires_grad: True\n",
      "Parameter: distilbert.transformer.layer.3.ffn.lin2.bias, requires_grad: True\n",
      "Parameter: distilbert.transformer.layer.3.output_layer_norm.weight, requires_grad: True\n",
      "Parameter: distilbert.transformer.layer.3.output_layer_norm.bias, requires_grad: True\n",
      "Parameter: distilbert.transformer.layer.4.attention.q_lin.weight, requires_grad: True\n",
      "Parameter: distilbert.transformer.layer.4.attention.q_lin.bias, requires_grad: True\n",
      "Parameter: distilbert.transformer.layer.4.attention.k_lin.weight, requires_grad: True\n",
      "Parameter: distilbert.transformer.layer.4.attention.k_lin.bias, requires_grad: True\n",
      "Parameter: distilbert.transformer.layer.4.attention.v_lin.weight, requires_grad: True\n",
      "Parameter: distilbert.transformer.layer.4.attention.v_lin.bias, requires_grad: True\n",
      "Parameter: distilbert.transformer.layer.4.attention.out_lin.weight, requires_grad: True\n",
      "Parameter: distilbert.transformer.layer.4.attention.out_lin.bias, requires_grad: True\n",
      "Parameter: distilbert.transformer.layer.4.sa_layer_norm.weight, requires_grad: True\n",
      "Parameter: distilbert.transformer.layer.4.sa_layer_norm.bias, requires_grad: True\n",
      "Parameter: distilbert.transformer.layer.4.ffn.lin1.weight, requires_grad: True\n",
      "Parameter: distilbert.transformer.layer.4.ffn.lin1.bias, requires_grad: True\n",
      "Parameter: distilbert.transformer.layer.4.ffn.lin2.weight, requires_grad: True\n",
      "Parameter: distilbert.transformer.layer.4.ffn.lin2.bias, requires_grad: True\n",
      "Parameter: distilbert.transformer.layer.4.output_layer_norm.weight, requires_grad: True\n",
      "Parameter: distilbert.transformer.layer.4.output_layer_norm.bias, requires_grad: True\n",
      "Parameter: distilbert.transformer.layer.5.attention.q_lin.weight, requires_grad: True\n",
      "Parameter: distilbert.transformer.layer.5.attention.q_lin.bias, requires_grad: True\n",
      "Parameter: distilbert.transformer.layer.5.attention.k_lin.weight, requires_grad: True\n",
      "Parameter: distilbert.transformer.layer.5.attention.k_lin.bias, requires_grad: True\n",
      "Parameter: distilbert.transformer.layer.5.attention.v_lin.weight, requires_grad: True\n",
      "Parameter: distilbert.transformer.layer.5.attention.v_lin.bias, requires_grad: True\n",
      "Parameter: distilbert.transformer.layer.5.attention.out_lin.weight, requires_grad: True\n",
      "Parameter: distilbert.transformer.layer.5.attention.out_lin.bias, requires_grad: True\n",
      "Parameter: distilbert.transformer.layer.5.sa_layer_norm.weight, requires_grad: True\n",
      "Parameter: distilbert.transformer.layer.5.sa_layer_norm.bias, requires_grad: True\n",
      "Parameter: distilbert.transformer.layer.5.ffn.lin1.weight, requires_grad: True\n",
      "Parameter: distilbert.transformer.layer.5.ffn.lin1.bias, requires_grad: True\n",
      "Parameter: distilbert.transformer.layer.5.ffn.lin2.weight, requires_grad: True\n",
      "Parameter: distilbert.transformer.layer.5.ffn.lin2.bias, requires_grad: True\n",
      "Parameter: distilbert.transformer.layer.5.output_layer_norm.weight, requires_grad: True\n",
      "Parameter: distilbert.transformer.layer.5.output_layer_norm.bias, requires_grad: True\n",
      "Parameter: pre_classifier.weight, requires_grad: True\n",
      "Parameter: pre_classifier.bias, requires_grad: True\n",
      "Parameter: classifier.weight, requires_grad: True\n",
      "Parameter: classifier.bias, requires_grad: True\n"
     ]
    }
   ],
   "source": [
    "for name, param in model.named_parameters():\n",
    "    print(f\"Parameter: {name}, requires_grad: {param.requires_grad}\")"
   ]
  },
  {
   "cell_type": "code",
   "execution_count": 18,
   "id": "db659a22-5a54-4ff7-8664-9c00aeda7411",
   "metadata": {},
   "outputs": [],
   "source": [
    "for param in model.parameters():\n",
    "    param.requires_grad = False"
   ]
  },
  {
   "cell_type": "code",
   "execution_count": 22,
   "id": "062bde33-5c65-4566-92a6-b52f9c6810b2",
   "metadata": {},
   "outputs": [
    {
     "data": {
      "text/plain": [
       "DistilBertForSequenceClassification(\n",
       "  (distilbert): DistilBertModel(\n",
       "    (embeddings): Embeddings(\n",
       "      (word_embeddings): Embedding(30522, 768, padding_idx=0)\n",
       "      (position_embeddings): Embedding(512, 768)\n",
       "      (LayerNorm): LayerNorm((768,), eps=1e-12, elementwise_affine=True)\n",
       "      (dropout): Dropout(p=0.1, inplace=False)\n",
       "    )\n",
       "    (transformer): Transformer(\n",
       "      (layer): ModuleList(\n",
       "        (0-5): 6 x TransformerBlock(\n",
       "          (attention): MultiHeadSelfAttention(\n",
       "            (dropout): Dropout(p=0.1, inplace=False)\n",
       "            (q_lin): LinearWithLoRA(\n",
       "              (linear): Linear(in_features=768, out_features=768, bias=True)\n",
       "              (lora): LoRALayer()\n",
       "            )\n",
       "            (k_lin): Linear(in_features=768, out_features=768, bias=True)\n",
       "            (v_lin): LinearWithLoRA(\n",
       "              (linear): Linear(in_features=768, out_features=768, bias=True)\n",
       "              (lora): LoRALayer()\n",
       "            )\n",
       "            (out_lin): Linear(in_features=768, out_features=768, bias=True)\n",
       "          )\n",
       "          (sa_layer_norm): LayerNorm((768,), eps=1e-12, elementwise_affine=True)\n",
       "          (ffn): FFN(\n",
       "            (dropout): Dropout(p=0.1, inplace=False)\n",
       "            (lin1): Linear(in_features=768, out_features=3072, bias=True)\n",
       "            (lin2): Linear(in_features=3072, out_features=768, bias=True)\n",
       "            (activation): GELUActivation()\n",
       "          )\n",
       "          (output_layer_norm): LayerNorm((768,), eps=1e-12, elementwise_affine=True)\n",
       "        )\n",
       "      )\n",
       "    )\n",
       "  )\n",
       "  (pre_classifier): Linear(in_features=768, out_features=768, bias=True)\n",
       "  (classifier): Linear(in_features=768, out_features=2, bias=True)\n",
       "  (dropout): Dropout(p=0.2, inplace=False)\n",
       ")"
      ]
     },
     "execution_count": 22,
     "metadata": {},
     "output_type": "execute_result"
    }
   ],
   "source": [
    "model"
   ]
  },
  {
   "cell_type": "code",
   "execution_count": 19,
   "id": "e0dbb14e-331d-4189-baa9-6903321fdc28",
   "metadata": {},
   "outputs": [
    {
     "name": "stdout",
     "output_type": "stream",
     "text": [
      "Parameter: distilbert.embeddings.word_embeddings.weight, requires_grad: False\n",
      "Parameter: distilbert.embeddings.position_embeddings.weight, requires_grad: False\n",
      "Parameter: distilbert.embeddings.LayerNorm.weight, requires_grad: False\n",
      "Parameter: distilbert.embeddings.LayerNorm.bias, requires_grad: False\n",
      "Parameter: distilbert.transformer.layer.0.attention.q_lin.weight, requires_grad: False\n",
      "Parameter: distilbert.transformer.layer.0.attention.q_lin.bias, requires_grad: False\n",
      "Parameter: distilbert.transformer.layer.0.attention.k_lin.weight, requires_grad: False\n",
      "Parameter: distilbert.transformer.layer.0.attention.k_lin.bias, requires_grad: False\n",
      "Parameter: distilbert.transformer.layer.0.attention.v_lin.weight, requires_grad: False\n",
      "Parameter: distilbert.transformer.layer.0.attention.v_lin.bias, requires_grad: False\n",
      "Parameter: distilbert.transformer.layer.0.attention.out_lin.weight, requires_grad: False\n",
      "Parameter: distilbert.transformer.layer.0.attention.out_lin.bias, requires_grad: False\n",
      "Parameter: distilbert.transformer.layer.0.sa_layer_norm.weight, requires_grad: False\n",
      "Parameter: distilbert.transformer.layer.0.sa_layer_norm.bias, requires_grad: False\n",
      "Parameter: distilbert.transformer.layer.0.ffn.lin1.weight, requires_grad: False\n",
      "Parameter: distilbert.transformer.layer.0.ffn.lin1.bias, requires_grad: False\n",
      "Parameter: distilbert.transformer.layer.0.ffn.lin2.weight, requires_grad: False\n",
      "Parameter: distilbert.transformer.layer.0.ffn.lin2.bias, requires_grad: False\n",
      "Parameter: distilbert.transformer.layer.0.output_layer_norm.weight, requires_grad: False\n",
      "Parameter: distilbert.transformer.layer.0.output_layer_norm.bias, requires_grad: False\n",
      "Parameter: distilbert.transformer.layer.1.attention.q_lin.weight, requires_grad: False\n",
      "Parameter: distilbert.transformer.layer.1.attention.q_lin.bias, requires_grad: False\n",
      "Parameter: distilbert.transformer.layer.1.attention.k_lin.weight, requires_grad: False\n",
      "Parameter: distilbert.transformer.layer.1.attention.k_lin.bias, requires_grad: False\n",
      "Parameter: distilbert.transformer.layer.1.attention.v_lin.weight, requires_grad: False\n",
      "Parameter: distilbert.transformer.layer.1.attention.v_lin.bias, requires_grad: False\n",
      "Parameter: distilbert.transformer.layer.1.attention.out_lin.weight, requires_grad: False\n",
      "Parameter: distilbert.transformer.layer.1.attention.out_lin.bias, requires_grad: False\n",
      "Parameter: distilbert.transformer.layer.1.sa_layer_norm.weight, requires_grad: False\n",
      "Parameter: distilbert.transformer.layer.1.sa_layer_norm.bias, requires_grad: False\n",
      "Parameter: distilbert.transformer.layer.1.ffn.lin1.weight, requires_grad: False\n",
      "Parameter: distilbert.transformer.layer.1.ffn.lin1.bias, requires_grad: False\n",
      "Parameter: distilbert.transformer.layer.1.ffn.lin2.weight, requires_grad: False\n",
      "Parameter: distilbert.transformer.layer.1.ffn.lin2.bias, requires_grad: False\n",
      "Parameter: distilbert.transformer.layer.1.output_layer_norm.weight, requires_grad: False\n",
      "Parameter: distilbert.transformer.layer.1.output_layer_norm.bias, requires_grad: False\n",
      "Parameter: distilbert.transformer.layer.2.attention.q_lin.weight, requires_grad: False\n",
      "Parameter: distilbert.transformer.layer.2.attention.q_lin.bias, requires_grad: False\n",
      "Parameter: distilbert.transformer.layer.2.attention.k_lin.weight, requires_grad: False\n",
      "Parameter: distilbert.transformer.layer.2.attention.k_lin.bias, requires_grad: False\n",
      "Parameter: distilbert.transformer.layer.2.attention.v_lin.weight, requires_grad: False\n",
      "Parameter: distilbert.transformer.layer.2.attention.v_lin.bias, requires_grad: False\n",
      "Parameter: distilbert.transformer.layer.2.attention.out_lin.weight, requires_grad: False\n",
      "Parameter: distilbert.transformer.layer.2.attention.out_lin.bias, requires_grad: False\n",
      "Parameter: distilbert.transformer.layer.2.sa_layer_norm.weight, requires_grad: False\n",
      "Parameter: distilbert.transformer.layer.2.sa_layer_norm.bias, requires_grad: False\n",
      "Parameter: distilbert.transformer.layer.2.ffn.lin1.weight, requires_grad: False\n",
      "Parameter: distilbert.transformer.layer.2.ffn.lin1.bias, requires_grad: False\n",
      "Parameter: distilbert.transformer.layer.2.ffn.lin2.weight, requires_grad: False\n",
      "Parameter: distilbert.transformer.layer.2.ffn.lin2.bias, requires_grad: False\n",
      "Parameter: distilbert.transformer.layer.2.output_layer_norm.weight, requires_grad: False\n",
      "Parameter: distilbert.transformer.layer.2.output_layer_norm.bias, requires_grad: False\n",
      "Parameter: distilbert.transformer.layer.3.attention.q_lin.weight, requires_grad: False\n",
      "Parameter: distilbert.transformer.layer.3.attention.q_lin.bias, requires_grad: False\n",
      "Parameter: distilbert.transformer.layer.3.attention.k_lin.weight, requires_grad: False\n",
      "Parameter: distilbert.transformer.layer.3.attention.k_lin.bias, requires_grad: False\n",
      "Parameter: distilbert.transformer.layer.3.attention.v_lin.weight, requires_grad: False\n",
      "Parameter: distilbert.transformer.layer.3.attention.v_lin.bias, requires_grad: False\n",
      "Parameter: distilbert.transformer.layer.3.attention.out_lin.weight, requires_grad: False\n",
      "Parameter: distilbert.transformer.layer.3.attention.out_lin.bias, requires_grad: False\n",
      "Parameter: distilbert.transformer.layer.3.sa_layer_norm.weight, requires_grad: False\n",
      "Parameter: distilbert.transformer.layer.3.sa_layer_norm.bias, requires_grad: False\n",
      "Parameter: distilbert.transformer.layer.3.ffn.lin1.weight, requires_grad: False\n",
      "Parameter: distilbert.transformer.layer.3.ffn.lin1.bias, requires_grad: False\n",
      "Parameter: distilbert.transformer.layer.3.ffn.lin2.weight, requires_grad: False\n",
      "Parameter: distilbert.transformer.layer.3.ffn.lin2.bias, requires_grad: False\n",
      "Parameter: distilbert.transformer.layer.3.output_layer_norm.weight, requires_grad: False\n",
      "Parameter: distilbert.transformer.layer.3.output_layer_norm.bias, requires_grad: False\n",
      "Parameter: distilbert.transformer.layer.4.attention.q_lin.weight, requires_grad: False\n",
      "Parameter: distilbert.transformer.layer.4.attention.q_lin.bias, requires_grad: False\n",
      "Parameter: distilbert.transformer.layer.4.attention.k_lin.weight, requires_grad: False\n",
      "Parameter: distilbert.transformer.layer.4.attention.k_lin.bias, requires_grad: False\n",
      "Parameter: distilbert.transformer.layer.4.attention.v_lin.weight, requires_grad: False\n",
      "Parameter: distilbert.transformer.layer.4.attention.v_lin.bias, requires_grad: False\n",
      "Parameter: distilbert.transformer.layer.4.attention.out_lin.weight, requires_grad: False\n",
      "Parameter: distilbert.transformer.layer.4.attention.out_lin.bias, requires_grad: False\n",
      "Parameter: distilbert.transformer.layer.4.sa_layer_norm.weight, requires_grad: False\n",
      "Parameter: distilbert.transformer.layer.4.sa_layer_norm.bias, requires_grad: False\n",
      "Parameter: distilbert.transformer.layer.4.ffn.lin1.weight, requires_grad: False\n",
      "Parameter: distilbert.transformer.layer.4.ffn.lin1.bias, requires_grad: False\n",
      "Parameter: distilbert.transformer.layer.4.ffn.lin2.weight, requires_grad: False\n",
      "Parameter: distilbert.transformer.layer.4.ffn.lin2.bias, requires_grad: False\n",
      "Parameter: distilbert.transformer.layer.4.output_layer_norm.weight, requires_grad: False\n",
      "Parameter: distilbert.transformer.layer.4.output_layer_norm.bias, requires_grad: False\n",
      "Parameter: distilbert.transformer.layer.5.attention.q_lin.weight, requires_grad: False\n",
      "Parameter: distilbert.transformer.layer.5.attention.q_lin.bias, requires_grad: False\n",
      "Parameter: distilbert.transformer.layer.5.attention.k_lin.weight, requires_grad: False\n",
      "Parameter: distilbert.transformer.layer.5.attention.k_lin.bias, requires_grad: False\n",
      "Parameter: distilbert.transformer.layer.5.attention.v_lin.weight, requires_grad: False\n",
      "Parameter: distilbert.transformer.layer.5.attention.v_lin.bias, requires_grad: False\n",
      "Parameter: distilbert.transformer.layer.5.attention.out_lin.weight, requires_grad: False\n",
      "Parameter: distilbert.transformer.layer.5.attention.out_lin.bias, requires_grad: False\n",
      "Parameter: distilbert.transformer.layer.5.sa_layer_norm.weight, requires_grad: False\n",
      "Parameter: distilbert.transformer.layer.5.sa_layer_norm.bias, requires_grad: False\n",
      "Parameter: distilbert.transformer.layer.5.ffn.lin1.weight, requires_grad: False\n",
      "Parameter: distilbert.transformer.layer.5.ffn.lin1.bias, requires_grad: False\n",
      "Parameter: distilbert.transformer.layer.5.ffn.lin2.weight, requires_grad: False\n",
      "Parameter: distilbert.transformer.layer.5.ffn.lin2.bias, requires_grad: False\n",
      "Parameter: distilbert.transformer.layer.5.output_layer_norm.weight, requires_grad: False\n",
      "Parameter: distilbert.transformer.layer.5.output_layer_norm.bias, requires_grad: False\n",
      "Parameter: pre_classifier.weight, requires_grad: False\n",
      "Parameter: pre_classifier.bias, requires_grad: False\n",
      "Parameter: classifier.weight, requires_grad: False\n",
      "Parameter: classifier.bias, requires_grad: False\n"
     ]
    }
   ],
   "source": [
    "for name, param in model.named_parameters():\n",
    "    print(f\"Parameter: {name}, requires_grad: {param.requires_grad}\")"
   ]
  },
  {
   "cell_type": "code",
   "execution_count": 20,
   "id": "ce87d090-ae60-457d-b223-098ca1697d36",
   "metadata": {},
   "outputs": [],
   "source": [
    "class LoRALayer(torch.nn.Module):\n",
    "    def __init__(self, in_dim, out_dim, rank, alpha):\n",
    "        super().__init__()\n",
    "        std_dev = 1 / torch.sqrt(torch.tensor(rank).float())\n",
    "        self.W_a = torch.nn.Parameter(torch.randn(in_dim, rank) * std_dev)\n",
    "        self.W_b = torch.nn.Parameter(torch.zeros(rank, out_dim))\n",
    "        self.alpha = alpha\n",
    "\n",
    "    def forward(self, x):\n",
    "        x = self.alpha * (x @ self.W_a @ self.W_b)\n",
    "        return x\n",
    "\n",
    "\n",
    "class LinearWithLoRA(torch.nn.Module):\n",
    "    def __init__(self, linear, rank, alpha):\n",
    "        super().__init__()\n",
    "        self.linear = linear\n",
    "        self.lora = LoRALayer(\n",
    "            linear.in_features, linear.out_features, rank, alpha\n",
    "        )\n",
    "\n",
    "    def forward(self, x):\n",
    "        return self.linear(x) + self.lora(x)"
   ]
  },
  {
   "cell_type": "code",
   "execution_count": 21,
   "id": "8d3a3423-5704-4dac-81db-0464d5ed96d5",
   "metadata": {},
   "outputs": [],
   "source": [
    "from functools import partial\n",
    "\n",
    "lora_r = 8\n",
    "lora_alpha = 16\n",
    "lora_dropout = 0.05\n",
    "lora_query = True\n",
    "lora_key = False\n",
    "lora_value = True\n",
    "lora_projection = False\n",
    "lora_mlp = False\n",
    "lora_head = False\n",
    "\n",
    "layers = []\n",
    "\n",
    "assign_lora = partial(LinearWithLoRA, rank=lora_r, alpha=lora_alpha)\n",
    "\n",
    "for layer in model.distilbert.transformer.layer:\n",
    "    if lora_query:\n",
    "        layer.attention.q_lin = assign_lora(layer.attention.q_lin)\n",
    "    if lora_key:\n",
    "        layer.attention.k_lin = assign_lora(layer.attention.k_lin)\n",
    "    if lora_value:\n",
    "        layer.attention.v_lin = assign_lora(layer.attention.v_lin)\n",
    "    if lora_projection:\n",
    "        layer.attention.out_lin = assign_lora(layer.attention.out_lin)\n",
    "    if lora_mlp:\n",
    "        layer.ffn.lin1 = assign_lora(layer.ffn.lin1)\n",
    "        layer.ffn.lin2 = assign_lora(layer.ffn.lin2)\n",
    "if lora_head:\n",
    "    model.pre_classifier = assign_lora(model.pre_classifier)\n",
    "    model.classifier = assign_lora(model.classifier)"
   ]
  },
  {
   "cell_type": "code",
   "execution_count": 23,
   "id": "41a2835e-d7da-493c-a56b-2e11a2ddf9b9",
   "metadata": {},
   "outputs": [
    {
     "data": {
      "text/plain": [
       "DistilBertForSequenceClassification(\n",
       "  (distilbert): DistilBertModel(\n",
       "    (embeddings): Embeddings(\n",
       "      (word_embeddings): Embedding(30522, 768, padding_idx=0)\n",
       "      (position_embeddings): Embedding(512, 768)\n",
       "      (LayerNorm): LayerNorm((768,), eps=1e-12, elementwise_affine=True)\n",
       "      (dropout): Dropout(p=0.1, inplace=False)\n",
       "    )\n",
       "    (transformer): Transformer(\n",
       "      (layer): ModuleList(\n",
       "        (0-5): 6 x TransformerBlock(\n",
       "          (attention): MultiHeadSelfAttention(\n",
       "            (dropout): Dropout(p=0.1, inplace=False)\n",
       "            (q_lin): LinearWithLoRA(\n",
       "              (linear): Linear(in_features=768, out_features=768, bias=True)\n",
       "              (lora): LoRALayer()\n",
       "            )\n",
       "            (k_lin): Linear(in_features=768, out_features=768, bias=True)\n",
       "            (v_lin): LinearWithLoRA(\n",
       "              (linear): Linear(in_features=768, out_features=768, bias=True)\n",
       "              (lora): LoRALayer()\n",
       "            )\n",
       "            (out_lin): Linear(in_features=768, out_features=768, bias=True)\n",
       "          )\n",
       "          (sa_layer_norm): LayerNorm((768,), eps=1e-12, elementwise_affine=True)\n",
       "          (ffn): FFN(\n",
       "            (dropout): Dropout(p=0.1, inplace=False)\n",
       "            (lin1): Linear(in_features=768, out_features=3072, bias=True)\n",
       "            (lin2): Linear(in_features=3072, out_features=768, bias=True)\n",
       "            (activation): GELUActivation()\n",
       "          )\n",
       "          (output_layer_norm): LayerNorm((768,), eps=1e-12, elementwise_affine=True)\n",
       "        )\n",
       "      )\n",
       "    )\n",
       "  )\n",
       "  (pre_classifier): Linear(in_features=768, out_features=768, bias=True)\n",
       "  (classifier): Linear(in_features=768, out_features=2, bias=True)\n",
       "  (dropout): Dropout(p=0.2, inplace=False)\n",
       ")"
      ]
     },
     "execution_count": 23,
     "metadata": {},
     "output_type": "execute_result"
    }
   ],
   "source": [
    "model"
   ]
  },
  {
   "cell_type": "code",
   "execution_count": 24,
   "id": "f6719644-42fa-4c83-9322-eaa2fdc78fe2",
   "metadata": {},
   "outputs": [
    {
     "name": "stdout",
     "output_type": "stream",
     "text": [
      "Total number of trainable parameters: 147456\n"
     ]
    }
   ],
   "source": [
    "def count_parameters(model):\n",
    "    return sum(p.numel() for p in model.parameters() if p.requires_grad)\n",
    "\n",
    "print(\"Total number of trainable parameters:\", count_parameters(model))"
   ]
  },
  {
   "cell_type": "markdown",
   "id": "9c953ab9-c1c2-4d58-84fb-c8860637d4ed",
   "metadata": {},
   "source": [
    "### Finetuning"
   ]
  },
  {
   "cell_type": "code",
   "execution_count": 25,
   "id": "a7fc4a6c-7095-488f-adc2-ab20e827858d",
   "metadata": {},
   "outputs": [],
   "source": [
    "from local_model_utilities import CustomLightningModule\n",
    "\n",
    "lightning_model = CustomLightningModule(model)"
   ]
  },
  {
   "cell_type": "code",
   "execution_count": 26,
   "id": "729ba7ae-623b-4416-810c-70a76b18b56d",
   "metadata": {},
   "outputs": [],
   "source": [
    "callbacks = [\n",
    "    ModelCheckpoint(\n",
    "        save_top_k=1, mode=\"max\", monitor=\"val_acc\"\n",
    "    )  # save top 1 model\n",
    "]\n",
    "logger = CSVLogger(save_dir=\"logs/\", name=\"my-model\")"
   ]
  },
  {
   "cell_type": "code",
   "execution_count": 27,
   "id": "f1290524-2f42-4be0-8622-d5bc60214655",
   "metadata": {},
   "outputs": [
    {
     "name": "stderr",
     "output_type": "stream",
     "text": [
      "Using 16bit Automatic Mixed Precision (AMP)\n",
      "GPU available: True (cuda), used: True\n",
      "TPU available: False, using: 0 TPU cores\n",
      "HPU available: False, using: 0 HPUs\n"
     ]
    }
   ],
   "source": [
    "trainer = L.Trainer(\n",
    "    max_epochs=3,\n",
    "    callbacks=callbacks,\n",
    "    accelerator=\"gpu\",\n",
    "    precision=\"16-mixed\",\n",
    "    devices=1,\n",
    "    logger=logger,\n",
    "    log_every_n_steps=10,\n",
    ")"
   ]
  },
  {
   "cell_type": "code",
   "execution_count": 28,
   "id": "3918e6c1-4a08-41a7-b11f-5ed5716665a5",
   "metadata": {},
   "outputs": [
    {
     "name": "stderr",
     "output_type": "stream",
     "text": [
      "You are using a CUDA device ('NVIDIA GeForce RTX 3090') that has Tensor Cores. To properly utilize them, you should set `torch.set_float32_matmul_precision('medium' | 'high')` which will trade-off precision for performance. For more details, read https://pytorch.org/docs/stable/generated/torch.set_float32_matmul_precision.html#torch.set_float32_matmul_precision\n",
      "LOCAL_RANK: 0 - CUDA_VISIBLE_DEVICES: [0]\n",
      "\n",
      "  | Name     | Type                                | Params | Mode \n",
      "-------------------------------------------------------------------------\n",
      "0 | model    | DistilBertForSequenceClassification | 67.1 M | eval \n",
      "1 | val_acc  | MulticlassAccuracy                  | 0      | train\n",
      "2 | test_acc | MulticlassAccuracy                  | 0      | train\n",
      "-------------------------------------------------------------------------\n",
      "147 K     Trainable params\n",
      "67.0 M    Non-trainable params\n",
      "67.1 M    Total params\n",
      "268.410   Total estimated model params size (MB)\n",
      "26        Modules in train mode\n",
      "96        Modules in eval mode\n"
     ]
    },
    {
     "data": {
      "application/vnd.jupyter.widget-view+json": {
       "model_id": "",
       "version_major": 2,
       "version_minor": 0
      },
      "text/plain": [
       "Sanity Checking: |          | 0/? [00:00<?, ?it/s]"
      ]
     },
     "metadata": {},
     "output_type": "display_data"
    },
    {
     "data": {
      "application/vnd.jupyter.widget-view+json": {
       "model_id": "3332698bc180471fb1880972e7b7a56d",
       "version_major": 2,
       "version_minor": 0
      },
      "text/plain": [
       "Training: |          | 0/? [00:00<?, ?it/s]"
      ]
     },
     "metadata": {},
     "output_type": "display_data"
    },
    {
     "data": {
      "application/vnd.jupyter.widget-view+json": {
       "model_id": "",
       "version_major": 2,
       "version_minor": 0
      },
      "text/plain": [
       "Validation: |          | 0/? [00:00<?, ?it/s]"
      ]
     },
     "metadata": {},
     "output_type": "display_data"
    },
    {
     "data": {
      "application/vnd.jupyter.widget-view+json": {
       "model_id": "",
       "version_major": 2,
       "version_minor": 0
      },
      "text/plain": [
       "Validation: |          | 0/? [00:00<?, ?it/s]"
      ]
     },
     "metadata": {},
     "output_type": "display_data"
    },
    {
     "data": {
      "application/vnd.jupyter.widget-view+json": {
       "model_id": "",
       "version_major": 2,
       "version_minor": 0
      },
      "text/plain": [
       "Validation: |          | 0/? [00:00<?, ?it/s]"
      ]
     },
     "metadata": {},
     "output_type": "display_data"
    },
    {
     "name": "stderr",
     "output_type": "stream",
     "text": [
      "`Trainer.fit` stopped: `max_epochs=3` reached.\n"
     ]
    },
    {
     "name": "stdout",
     "output_type": "stream",
     "text": [
      "Time elapsed 9.33 min\n"
     ]
    }
   ],
   "source": [
    "import time\n",
    "start = time.time()\n",
    "\n",
    "trainer.fit(model=lightning_model,\n",
    "            train_dataloaders=train_loader,\n",
    "            val_dataloaders=val_loader)\n",
    "\n",
    "end = time.time()\n",
    "elapsed = end - start\n",
    "print(f\"Time elapsed {elapsed/60:.2f} min\")"
   ]
  },
  {
   "cell_type": "code",
   "execution_count": 29,
   "id": "13dd7828-14e1-45a4-ab6e-8b7586faf1c3",
   "metadata": {},
   "outputs": [
    {
     "name": "stderr",
     "output_type": "stream",
     "text": [
      "Restoring states from the checkpoint path at logs/my-model/version_0/checkpoints/epoch=1-step=5834.ckpt\n",
      "LOCAL_RANK: 0 - CUDA_VISIBLE_DEVICES: [0]\n",
      "Loaded model weights from the checkpoint at logs/my-model/version_0/checkpoints/epoch=1-step=5834.ckpt\n",
      "/root/miniconda3/lib/python3.10/site-packages/lightning/pytorch/trainer/connectors/data_connector.py:475: Your `test_dataloader`'s sampler has shuffling enabled, it is strongly recommended that you turn shuffling off for val/test dataloaders.\n"
     ]
    },
    {
     "data": {
      "application/vnd.jupyter.widget-view+json": {
       "model_id": "d5a517aad82b4102b9620f813edb2576",
       "version_major": 2,
       "version_minor": 0
      },
      "text/plain": [
       "Testing: |          | 0/? [00:00<?, ?it/s]"
      ]
     },
     "metadata": {},
     "output_type": "display_data"
    },
    {
     "name": "stderr",
     "output_type": "stream",
     "text": [
      "Restoring states from the checkpoint path at logs/my-model/version_0/checkpoints/epoch=1-step=5834.ckpt\n",
      "LOCAL_RANK: 0 - CUDA_VISIBLE_DEVICES: [0]\n",
      "Loaded model weights from the checkpoint at logs/my-model/version_0/checkpoints/epoch=1-step=5834.ckpt\n"
     ]
    },
    {
     "data": {
      "application/vnd.jupyter.widget-view+json": {
       "model_id": "6dd1fbd8910747c289a491cf85e9bb54",
       "version_major": 2,
       "version_minor": 0
      },
      "text/plain": [
       "Testing: |          | 0/? [00:00<?, ?it/s]"
      ]
     },
     "metadata": {},
     "output_type": "display_data"
    },
    {
     "name": "stderr",
     "output_type": "stream",
     "text": [
      "Restoring states from the checkpoint path at logs/my-model/version_0/checkpoints/epoch=1-step=5834.ckpt\n",
      "LOCAL_RANK: 0 - CUDA_VISIBLE_DEVICES: [0]\n",
      "Loaded model weights from the checkpoint at logs/my-model/version_0/checkpoints/epoch=1-step=5834.ckpt\n"
     ]
    },
    {
     "data": {
      "application/vnd.jupyter.widget-view+json": {
       "model_id": "1a00777e09634dbcb0be6f1546677315",
       "version_major": 2,
       "version_minor": 0
      },
      "text/plain": [
       "Testing: |          | 0/? [00:00<?, ?it/s]"
      ]
     },
     "metadata": {},
     "output_type": "display_data"
    }
   ],
   "source": [
    "train_acc = trainer.test(lightning_model, dataloaders=train_loader, ckpt_path=\"best\", verbose=False)\n",
    "val_acc = trainer.test(lightning_model, dataloaders=val_loader, ckpt_path=\"best\", verbose=False)\n",
    "test_acc = trainer.test(lightning_model, dataloaders=test_loader, ckpt_path=\"best\", verbose=False)"
   ]
  },
  {
   "cell_type": "code",
   "execution_count": 30,
   "id": "898cba27-76f3-4770-ac85-c75333fb2a3d",
   "metadata": {},
   "outputs": [
    {
     "name": "stdout",
     "output_type": "stream",
     "text": [
      "Train acc: 92.64%\n",
      "Val acc:   89.90%\n",
      "Test acc:  88.99%\n"
     ]
    }
   ],
   "source": [
    "print(f\"Train acc: {train_acc[0]['accuracy']*100:2.2f}%\")\n",
    "print(f\"Val acc:   {val_acc[0]['accuracy']*100:2.2f}%\")\n",
    "print(f\"Test acc:  {test_acc[0]['accuracy']*100:2.2f}%\")"
   ]
  },
  {
   "cell_type": "code",
   "execution_count": 31,
   "id": "74f787a8-82be-4a3e-91c8-1e9ecc0ad6a1",
   "metadata": {},
   "outputs": [],
   "source": [
    "import shutil\n",
    "\n",
    "# Cleanup checkpoint files as we don't need them later\n",
    "log_dir = f\"logs/my-model\"\n",
    "if os.path.exists(log_dir):\n",
    "    shutil.rmtree(log_dir)"
   ]
  },
  {
   "cell_type": "code",
   "execution_count": null,
   "id": "ac4f71fb-f1aa-44d4-b872-668ee6711014",
   "metadata": {},
   "outputs": [],
   "source": []
  }
 ],
 "metadata": {
  "kernelspec": {
   "display_name": "Python 3 (ipykernel)",
   "language": "python",
   "name": "python3"
  },
  "language_info": {
   "codemirror_mode": {
    "name": "ipython",
    "version": 3
   },
   "file_extension": ".py",
   "mimetype": "text/x-python",
   "name": "python",
   "nbconvert_exporter": "python",
   "pygments_lexer": "ipython3",
   "version": "3.10.8"
  }
 },
 "nbformat": 4,
 "nbformat_minor": 5
}
