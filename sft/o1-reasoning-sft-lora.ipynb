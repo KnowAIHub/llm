{
 "cells": [
  {
   "cell_type": "markdown",
   "metadata": {
    "id": "2yievghzP1mE"
   },
   "source": [
    "# 安装必要的环境"
   ]
  },
  {
   "cell_type": "code",
   "execution_count": 1,
   "metadata": {
    "colab": {
     "base_uri": "https://localhost:8080/"
    },
    "id": "cfQVpi4UNTJY",
    "outputId": "55a63297-b10e-44dd-ea96-511506cc4dea"
   },
   "outputs": [
    {
     "name": "stdout",
     "output_type": "stream",
     "text": [
      "\u001b[33mWARNING: Running pip as the 'root' user can result in broken permissions and conflicting behaviour with the system package manager. It is recommended to use a virtual environment instead: https://pip.pypa.io/warnings/venv\u001b[0m\u001b[33m\n",
      "\u001b[0m"
     ]
    }
   ],
   "source": [
    "!pip install accelerate datasets -q"
   ]
  },
  {
   "cell_type": "markdown",
   "metadata": {
    "id": "Vz-ht4y_QBq7"
   },
   "source": [
    "# 0、加载训练好的基座模型（qwen2.5-1.5B）"
   ]
  },
  {
   "cell_type": "code",
   "execution_count": 1,
   "metadata": {
    "colab": {
     "base_uri": "https://localhost:8080/",
     "height": 241,
     "referenced_widgets": [
      "5f701e7d23f346859b2fd0f885f2c58f",
      "e30e11637be7473b873835e115517853",
      "0a575b3a5a5140b680ff8e20676f3dce",
      "f4c353c0fe944932bcf7879c7cd3dd2a",
      "7831b1d7c9054f3faa8f7e280f3676b9",
      "a4435caad91a4ab6ac25ebb860a1108e",
      "69b75a00c15f46568b6caf44e6b72384",
      "611af89de8ee4108adb8fccb5bb9cf32",
      "438b937befce4e2d9d49edca9d77d7d2",
      "39ae78eff3714fbfa1ef5ef006e45b5a",
      "d473f10ea00548428718b827ba7217db",
      "ffeb8b36b8dc4c0686940a4293ff0d2b",
      "6c57207ee15e46488f3b7d8a206e6fe6",
      "c453996f237f43f38d02ed0c3a808bc9",
      "5ce999cad3d84a00af2a479a86914bb1",
      "62d159e5720f496c82312d9efd4bfe79",
      "8142a04b596d484f87c2620cb1afab2f",
      "b6ee43871869434d9cc65504cba5cac7",
      "1c0ebb52daab43a7b316a8460535e897",
      "f8796e310a9548528122a3b20aab3582",
      "5e80ecdc0e75417285f8c45785a3d9ed",
      "7563d173e09d4c6eac618aaa1269a8fd",
      "a2b2494c19764c22908fa7247a1fc02c",
      "deb2379001af474cabbeca1df3c7dc95",
      "8ca7b55e3b8f40668eb4abd2892971df",
      "7dfab99d13504e76a3fbed258f1933b4",
      "2b05d0a1e27f4c4094ffb7801ad11076",
      "f7ea2b985bd44ab089b515a002cdcc44",
      "2c9c1b6e18fa4cd9979d5f13f41adf48",
      "a198338d2c6945699da654673bf9b745",
      "8164fbc2518641558417b26eaa2fb3be",
      "256ace0d05ae489fad26cdbac9fd3502",
      "1571ba54beca47a69ef597cb15df214b",
      "14637cdcc5d642b0989bf887100601a2",
      "cf98d52df6b9432a9877c8b5355c82e6",
      "e9ae9ba627aa4bf8a4eb64d68809f566",
      "d5ec0c9ab8d6453fb32e867102ee0eaf",
      "2434babf7137418b84dcf59553f33a3a",
      "197f61d70ab541aa9a1b1c1298435b2b",
      "e4c2626eabb84dc78273acfffcef82bd",
      "138e15d45660471baff2f09c93efe771",
      "e7aa821a05734fa8b2c81dff7f38c8af",
      "756f373c43b64c1ba4f9668d91d059ec",
      "76d6fcf7d45649a3947ef199beccac83",
      "28784f7543294c49b54a09c908b56c9e",
      "0c6887b9851644a684659752c7375885",
      "68d87d30b17c4970bcf48873fb6c9247",
      "d7e56c2c917648c1b8443247f8b49be3",
      "18d67eed7b8f407da269ec244cd04abb",
      "45f1f88bf6424096a522d364a1aa458b",
      "ddbc147f7ec34bbc9a1b0f0721f6451b",
      "9b977ee086ed49d38325d4fbb005d664",
      "09753c16b5c949d987236ee940ec5fa3",
      "bcbd9e82d1ed4ad6b51e8699a6087041",
      "5ebd1a93c8f744629cb6ba95289cedd8",
      "1116b93b89eb420490a12deacfb06c21",
      "2f401b1fcb8e4c969dac72bf215f6561",
      "c79df3e8fa824c8687d2bfaa57e7fe01",
      "415e8e498c2a4afc8e85d15a72f2fd73",
      "9bfa854836e249d79617969ac207754b",
      "6d3fa20d73e2496d81cf7fa17b8efc6c",
      "afdcb773c48f419a92b7231f3a07255f",
      "c4e994712aec44faa6204cdeb803c131",
      "58127f0348e94a9582de29fb9bcc7f92",
      "0f34d6fa253444e1a73c240cc5bdb62e",
      "01143789eb8f46379f9ce7b3e51ba846",
      "cdeaa1d0b6f54adcab53755eaeed3c71",
      "1f2f325f8f66426795de63fbed7b606b",
      "a820971e767f4c49a157e5ff2db82c6f",
      "24028c99b8a04fab8c122ab54412ea54",
      "938d14371d034e859cba003bab3c0cc5",
      "930dd8bebebc475795350db5405a591e",
      "cb748c092e4e4917ac1dbb64dbf2e14d",
      "6365c0f5fc35484dba06f88fbc8f0656",
      "aba50b35a10e4f6892742eed763a8890",
      "ef94fa10df1049eaa598e77851c05411",
      "b7f1116dd979421f986a3289bf98ad19"
     ]
    },
    "id": "Bvs0B3GEQNML",
    "outputId": "8df777dd-f137-4fd0-ff91-3463fd47efb2"
   },
   "outputs": [],
   "source": [
    "from transformers import AutoModelForCausalLM, AutoTokenizer\n",
    "import torch\n",
    "import os\n",
    "import numpy as np\n",
    "device = \"cuda\" # the device to load the model onto\n",
    "model_name = \"Qwen2___5-1___5B\"\n",
    "model_path = f'Qwen/{model_name}'\n",
    "\n",
    "# 获取可用GPU设备的数量和内存信息\n",
    "gpu_memory = {i: torch.cuda.get_device_properties(i).total_memory for i in range(torch.cuda.device_count())}\n",
    "# 加载模型\n",
    "try:\n",
    "    model = AutoModelForCausalLM.from_pretrained(\n",
    "        model_path,\n",
    "        torch_dtype=\"auto\",\n",
    "        device_map=\"balanced\",\n",
    "        max_memory={i: f\"{gpu_memory[i] // (1024 ** 3)}GB\" for i in range(len(gpu_memory))}\n",
    "    )\n",
    "except Exception as e:\n",
    "    print(f\"Failed to load model from {model_path}: {e}\")\n",
    "    raise\n",
    "# 加载分词器\n",
    "tokenizer = AutoTokenizer.from_pretrained(model_path)"
   ]
  },
  {
   "cell_type": "code",
   "execution_count": 2,
   "metadata": {},
   "outputs": [
    {
     "data": {
      "text/plain": [
       "{151643: AddedToken(\"<|endoftext|>\", rstrip=False, lstrip=False, single_word=False, normalized=False, special=True),\n",
       " 151644: AddedToken(\"<|im_start|>\", rstrip=False, lstrip=False, single_word=False, normalized=False, special=True),\n",
       " 151645: AddedToken(\"<|im_end|>\", rstrip=False, lstrip=False, single_word=False, normalized=False, special=True),\n",
       " 151646: AddedToken(\"<|object_ref_start|>\", rstrip=False, lstrip=False, single_word=False, normalized=False, special=True),\n",
       " 151647: AddedToken(\"<|object_ref_end|>\", rstrip=False, lstrip=False, single_word=False, normalized=False, special=True),\n",
       " 151648: AddedToken(\"<|box_start|>\", rstrip=False, lstrip=False, single_word=False, normalized=False, special=True),\n",
       " 151649: AddedToken(\"<|box_end|>\", rstrip=False, lstrip=False, single_word=False, normalized=False, special=True),\n",
       " 151650: AddedToken(\"<|quad_start|>\", rstrip=False, lstrip=False, single_word=False, normalized=False, special=True),\n",
       " 151651: AddedToken(\"<|quad_end|>\", rstrip=False, lstrip=False, single_word=False, normalized=False, special=True),\n",
       " 151652: AddedToken(\"<|vision_start|>\", rstrip=False, lstrip=False, single_word=False, normalized=False, special=True),\n",
       " 151653: AddedToken(\"<|vision_end|>\", rstrip=False, lstrip=False, single_word=False, normalized=False, special=True),\n",
       " 151654: AddedToken(\"<|vision_pad|>\", rstrip=False, lstrip=False, single_word=False, normalized=False, special=True),\n",
       " 151655: AddedToken(\"<|image_pad|>\", rstrip=False, lstrip=False, single_word=False, normalized=False, special=True),\n",
       " 151656: AddedToken(\"<|video_pad|>\", rstrip=False, lstrip=False, single_word=False, normalized=False, special=True),\n",
       " 151657: AddedToken(\"<tool_call>\", rstrip=False, lstrip=False, single_word=False, normalized=False, special=False),\n",
       " 151658: AddedToken(\"</tool_call>\", rstrip=False, lstrip=False, single_word=False, normalized=False, special=False),\n",
       " 151659: AddedToken(\"<|fim_prefix|>\", rstrip=False, lstrip=False, single_word=False, normalized=False, special=False),\n",
       " 151660: AddedToken(\"<|fim_middle|>\", rstrip=False, lstrip=False, single_word=False, normalized=False, special=False),\n",
       " 151661: AddedToken(\"<|fim_suffix|>\", rstrip=False, lstrip=False, single_word=False, normalized=False, special=False),\n",
       " 151662: AddedToken(\"<|fim_pad|>\", rstrip=False, lstrip=False, single_word=False, normalized=False, special=False),\n",
       " 151663: AddedToken(\"<|repo_name|>\", rstrip=False, lstrip=False, single_word=False, normalized=False, special=False),\n",
       " 151664: AddedToken(\"<|file_sep|>\", rstrip=False, lstrip=False, single_word=False, normalized=False, special=False)}"
      ]
     },
     "execution_count": 2,
     "metadata": {},
     "output_type": "execute_result"
    }
   ],
   "source": [
    "tokenizer.added_tokens_decoder"
   ]
  },
  {
   "cell_type": "code",
   "execution_count": 3,
   "metadata": {
    "colab": {
     "base_uri": "https://localhost:8080/"
    },
    "id": "bQJdfCrjkxLp",
    "outputId": "fdfde7b0-688b-44d7-ae7f-5a8866cee357"
   },
   "outputs": [
    {
     "data": {
      "text/plain": [
       "Embedding(151936, 1536)"
      ]
     },
     "execution_count": 3,
     "metadata": {},
     "output_type": "execute_result"
    }
   ],
   "source": [
    "model.model.embed_tokens"
   ]
  },
  {
   "cell_type": "code",
   "execution_count": 4,
   "metadata": {
    "colab": {
     "base_uri": "https://localhost:8080/"
    },
    "id": "Hugel2DfRE-D",
    "outputId": "7f199f47-003f-485c-afca-4526076be1a4"
   },
   "outputs": [
    {
     "data": {
      "text/plain": [
       "{'eos_token': '<|endoftext|>',\n",
       " 'pad_token': '<|endoftext|>',\n",
       " 'additional_special_tokens': ['<|im_start|>',\n",
       "  '<|im_end|>',\n",
       "  '<|object_ref_start|>',\n",
       "  '<|object_ref_end|>',\n",
       "  '<|box_start|>',\n",
       "  '<|box_end|>',\n",
       "  '<|quad_start|>',\n",
       "  '<|quad_end|>',\n",
       "  '<|vision_start|>',\n",
       "  '<|vision_end|>',\n",
       "  '<|vision_pad|>',\n",
       "  '<|image_pad|>',\n",
       "  '<|video_pad|>']}"
      ]
     },
     "execution_count": 4,
     "metadata": {},
     "output_type": "execute_result"
    }
   ],
   "source": [
    "# 查看分词器中的special token\n",
    "tokenizer.special_tokens_map"
   ]
  },
  {
   "cell_type": "code",
   "execution_count": 5,
   "metadata": {
    "colab": {
     "base_uri": "https://localhost:8080/"
    },
    "id": "r7Pqr6bERhPy",
    "outputId": "9da6e7fe-efd7-4ce4-d518-06f475ac6678"
   },
   "outputs": [
    {
     "data": {
      "text/plain": [
       "['<|endoftext|>',\n",
       " '<|im_start|>',\n",
       " '<|im_end|>',\n",
       " '<|object_ref_start|>',\n",
       " '<|object_ref_end|>',\n",
       " '<|box_start|>',\n",
       " '<|box_end|>',\n",
       " '<|quad_start|>',\n",
       " '<|quad_end|>',\n",
       " '<|vision_start|>',\n",
       " '<|vision_end|>',\n",
       " '<|vision_pad|>',\n",
       " '<|image_pad|>',\n",
       " '<|video_pad|>']"
      ]
     },
     "execution_count": 5,
     "metadata": {},
     "output_type": "execute_result"
    }
   ],
   "source": [
    "tokenizer.all_special_tokens"
   ]
  },
  {
   "cell_type": "code",
   "execution_count": 6,
   "metadata": {
    "colab": {
     "base_uri": "https://localhost:8080/"
    },
    "id": "fBdLWgUYRp4N",
    "outputId": "6e196bc4-0d18-49f5-99a8-64c2d8381c7b"
   },
   "outputs": [
    {
     "data": {
      "text/plain": [
       "[151643,\n",
       " 151644,\n",
       " 151645,\n",
       " 151646,\n",
       " 151647,\n",
       " 151648,\n",
       " 151649,\n",
       " 151650,\n",
       " 151651,\n",
       " 151652,\n",
       " 151653,\n",
       " 151654,\n",
       " 151655,\n",
       " 151656]"
      ]
     },
     "execution_count": 6,
     "metadata": {},
     "output_type": "execute_result"
    }
   ],
   "source": [
    "tokenizer.all_special_ids"
   ]
  },
  {
   "cell_type": "code",
   "execution_count": 7,
   "metadata": {
    "colab": {
     "base_uri": "https://localhost:8080/"
    },
    "id": "0gywWK6iSBzP",
    "outputId": "d8769884-56e5-475f-d52f-e0e48161a6f0"
   },
   "outputs": [
    {
     "data": {
      "text/plain": [
       "GenerationConfig {\n",
       "  \"bos_token_id\": 151643,\n",
       "  \"eos_token_id\": 151643,\n",
       "  \"max_new_tokens\": 2048\n",
       "}"
      ]
     },
     "execution_count": 7,
     "metadata": {},
     "output_type": "execute_result"
    }
   ],
   "source": [
    "model.generation_config"
   ]
  },
  {
   "cell_type": "markdown",
   "metadata": {
    "id": "5FbPvsSPnYbB"
   },
   "source": [
    "## 0.2 重设模型的generation_config文件"
   ]
  },
  {
   "cell_type": "code",
   "execution_count": 8,
   "metadata": {
    "colab": {
     "base_uri": "https://localhost:8080/"
    },
    "id": "kcrQ2QFVnXuS",
    "outputId": "2de88642-d5fd-48f7-af3f-e4763cd946de"
   },
   "outputs": [
    {
     "data": {
      "text/plain": [
       "GenerationConfig {\n",
       "  \"bos_token_id\": 151643,\n",
       "  \"do_sample\": true,\n",
       "  \"eos_token_id\": [\n",
       "    151645,\n",
       "    151643\n",
       "  ],\n",
       "  \"max_new_tokens\": 2048,\n",
       "  \"pad_token_id\": 151643,\n",
       "  \"repetition_penalty\": 1.05,\n",
       "  \"temperature\": 0.7,\n",
       "  \"top_k\": 20,\n",
       "  \"top_p\": 0.8\n",
       "}"
      ]
     },
     "execution_count": 8,
     "metadata": {},
     "output_type": "execute_result"
    }
   ],
   "source": [
    "model.generation_config.do_sample = True\n",
    "model.generation_config.eos_token_id = [151645, 151643]\n",
    "model.generation_config.pad_token_id = 151643\n",
    "model.generation_config.temperature = 0.7\n",
    "model.generation_config.top_p = 0.8\n",
    "model.generation_config.top_k = 20\n",
    "model.generation_config.transformers_version = \"4.37.0\"\n",
    "model.generation_config.repetition_penalty = 1.05\n",
    "\n",
    "model.generation_config"
   ]
  },
  {
   "cell_type": "markdown",
   "metadata": {
    "id": "v1VC87iYW6pW"
   },
   "source": [
    "# 1、 新增`reasoning`special token + 同步调整模型的`embedding`层\n",
    "- reasoning特殊标签格式：  **<|reasoning|>**\n",
    "- 模型的分词器、嵌入层和lm_head均适配新增一个特殊token：<|reasoning|>"
   ]
  },
  {
   "cell_type": "code",
   "execution_count": 9,
   "metadata": {
    "colab": {
     "base_uri": "https://localhost:8080/"
    },
    "id": "rMMLykkr_TE6",
    "outputId": "50c71858-84e8-4dd8-8077-425e3ac7d240"
   },
   "outputs": [
    {
     "data": {
      "text/plain": [
       "Embedding(151936, 1536)"
      ]
     },
     "execution_count": 9,
     "metadata": {},
     "output_type": "execute_result"
    }
   ],
   "source": [
    "# 查看模型嵌入层\n",
    "model.model.embed_tokens"
   ]
  },
  {
   "cell_type": "code",
   "execution_count": 10,
   "metadata": {
    "colab": {
     "base_uri": "https://localhost:8080/"
    },
    "id": "46Gt8uPuEiyn",
    "outputId": "5c786f37-2c53-444f-f63d-7d3a43588ab5"
   },
   "outputs": [
    {
     "data": {
      "text/plain": [
       "151643"
      ]
     },
     "execution_count": 10,
     "metadata": {},
     "output_type": "execute_result"
    }
   ],
   "source": [
    "# 查看模型的vocab_size\n",
    "tokenizer.vocab_size"
   ]
  },
  {
   "cell_type": "code",
   "execution_count": 11,
   "metadata": {
    "colab": {
     "base_uri": "https://localhost:8080/"
    },
    "id": "T6-jG7geEpsX",
    "outputId": "abae71d6-6051-41e5-d3d2-1ad87c966f3d"
   },
   "outputs": [
    {
     "data": {
      "text/plain": [
       "151665"
      ]
     },
     "execution_count": 11,
     "metadata": {},
     "output_type": "execute_result"
    }
   ],
   "source": [
    "len(tokenizer)"
   ]
  },
  {
   "cell_type": "code",
   "execution_count": 12,
   "metadata": {
    "colab": {
     "base_uri": "https://localhost:8080/"
    },
    "id": "j_eLKGwLj56k",
    "outputId": "1a977d05-51a0-483c-9bb8-c0440a55b834"
   },
   "outputs": [
    {
     "data": {
      "text/plain": [
       "22"
      ]
     },
     "execution_count": 12,
     "metadata": {},
     "output_type": "execute_result"
    }
   ],
   "source": [
    "len(tokenizer) - tokenizer.vocab_size"
   ]
  },
  {
   "cell_type": "code",
   "execution_count": 13,
   "metadata": {
    "colab": {
     "base_uri": "https://localhost:8080/"
    },
    "id": "csIQxiLoEvjP",
    "outputId": "2ae71970-3fc7-4ada-ebc9-5b5c85238ab6"
   },
   "outputs": [
    {
     "data": {
      "text/plain": [
       "{151643: '<|endoftext|>',\n",
       " 151644: '<|im_start|>',\n",
       " 151645: '<|im_end|>',\n",
       " 151646: '<|object_ref_start|>',\n",
       " 151647: '<|object_ref_end|>',\n",
       " 151648: '<|box_start|>',\n",
       " 151649: '<|box_end|>',\n",
       " 151650: '<|quad_start|>',\n",
       " 151651: '<|quad_end|>',\n",
       " 151652: '<|vision_start|>',\n",
       " 151653: '<|vision_end|>',\n",
       " 151654: '<|vision_pad|>',\n",
       " 151655: '<|image_pad|>',\n",
       " 151656: '<|video_pad|>',\n",
       " 151657: '<tool_call>',\n",
       " 151658: '</tool_call>',\n",
       " 151659: '<|fim_prefix|>',\n",
       " 151660: '<|fim_middle|>',\n",
       " 151661: '<|fim_suffix|>',\n",
       " 151662: '<|fim_pad|>',\n",
       " 151663: '<|repo_name|>',\n",
       " 151664: '<|file_sep|>'}"
      ]
     },
     "execution_count": 13,
     "metadata": {},
     "output_type": "execute_result"
    }
   ],
   "source": [
    "import numpy as np\n",
    "{k:v for k,v in zip([i for i in np.arange(tokenizer.vocab_size, len(tokenizer))], [tokenizer.decode(i) for i in np.arange(tokenizer.vocab_size, len(tokenizer))])}"
   ]
  },
  {
   "cell_type": "markdown",
   "metadata": {
    "id": "CwwTNQWUkFX5"
   },
   "source": [
    "可见，151643 - 151664 ，这22个元素是特殊token (有些甚至还是预留的适配多模态以及工具利用的特殊token标记)"
   ]
  },
  {
   "cell_type": "code",
   "execution_count": 14,
   "metadata": {
    "colab": {
     "base_uri": "https://localhost:8080/"
    },
    "id": "a1OzO3sgIBKV",
    "outputId": "828b4145-819d-4457-a738-b8d4544cb8b0"
   },
   "outputs": [
    {
     "name": "stdout",
     "output_type": "stream",
     "text": [
      "tensor([[ 0.0077,  0.0110, -0.0062,  ...,  0.0048,  0.0024,  0.0010],\n",
      "        [ 0.0077,  0.0110, -0.0062,  ...,  0.0048,  0.0024,  0.0010],\n",
      "        [ 0.0077,  0.0110, -0.0062,  ...,  0.0048,  0.0024,  0.0010],\n",
      "        ...,\n",
      "        [ 0.0077,  0.0110, -0.0062,  ...,  0.0048,  0.0024,  0.0010],\n",
      "        [ 0.0077,  0.0110, -0.0062,  ...,  0.0048,  0.0024,  0.0010],\n",
      "        [ 0.0077,  0.0110, -0.0062,  ...,  0.0048,  0.0024,  0.0010]],\n",
      "       device='cuda:0', dtype=torch.bfloat16)\n",
      "tensor size: torch.Size([21, 1536])\n",
      "所有张量都相同（在容差范围内）\n"
     ]
    }
   ],
   "source": [
    "# 因为我们导入的是基座模型（预训练模型），除了<|endoftext|> (<|endoftext|>嵌入在预训练过程中也会被训练) ，其他的特殊token应该都是随机初始化的，我们查看从第二行元素开始，嵌入是否都相同？\n",
    "special_tensorweight = model.model.embed_tokens.weight[tokenizer.vocab_size+1: len(tokenizer)].detach()\n",
    "print(special_tensorweight)\n",
    "print(f'tensor size: {special_tensorweight.shape}')\n",
    "# 选择第1个张量作为基准\n",
    "reference_tensor = special_tensorweight[0]\n",
    "\n",
    "# 定义一个容差值，用于比较浮点数是否相等\n",
    "tolerance = 1e-4\n",
    "\n",
    "all_same = all(torch.allclose(tensor, reference_tensor, atol=tolerance) for tensor in special_tensorweight)\n",
    "\n",
    "if all_same:\n",
    "  print(\"所有张量都相同（在容差范围内）\")\n",
    "else:\n",
    "  print(\"张量不都相同\")"
   ]
  },
  {
   "cell_type": "code",
   "execution_count": 15,
   "metadata": {
    "colab": {
     "base_uri": "https://localhost:8080/",
     "height": 35
    },
    "id": "9YnpO4n5gSFG",
    "outputId": "f396d421-0fb1-47e7-b0b6-edc4806449d5"
   },
   "outputs": [
    {
     "data": {
      "text/plain": [
       "''"
      ]
     },
     "execution_count": 15,
     "metadata": {},
     "output_type": "execute_result"
    }
   ],
   "source": [
    "# 那么 151665 - 151935 是什么token呢， 我们解码一下\n",
    "tokenizer.decode(torch.tensor(np.arange(len(tokenizer), model.model.embed_tokens.weight.detach().shape[0]).tolist()))"
   ]
  },
  {
   "cell_type": "markdown",
   "metadata": {
    "id": "Oe2AeO_ZkTkb"
   },
   "source": [
    "可以看到这些都是无用的token（空字符串），至于为什么需要pad这些token，找到的一篇答复：https://huggingface.co/Qwen/Qwen1.5-72B-Chat/discussions/1#662883f568adf59b07b176d2"
   ]
  },
  {
   "cell_type": "code",
   "execution_count": 16,
   "metadata": {
    "colab": {
     "base_uri": "https://localhost:8080/"
    },
    "id": "Grh7T_faKuOX",
    "outputId": "4eb10dad-96fb-4a05-e27e-faaa1eb8c3cd"
   },
   "outputs": [
    {
     "data": {
      "text/plain": [
       "tensor([[ 0.0077,  0.0110, -0.0062,  ...,  0.0048,  0.0024,  0.0010],\n",
       "        [ 0.0077,  0.0110, -0.0062,  ...,  0.0048,  0.0024,  0.0010],\n",
       "        [ 0.0077,  0.0110, -0.0062,  ...,  0.0048,  0.0024,  0.0010],\n",
       "        ...,\n",
       "        [ 0.0077,  0.0110, -0.0062,  ...,  0.0048,  0.0024,  0.0010],\n",
       "        [ 0.0077,  0.0110, -0.0062,  ...,  0.0048,  0.0024,  0.0010],\n",
       "        [ 0.0077,  0.0110, -0.0062,  ...,  0.0048,  0.0024,  0.0010]],\n",
       "       device='cuda:0', dtype=torch.bfloat16)"
      ]
     },
     "execution_count": 16,
     "metadata": {},
     "output_type": "execute_result"
    }
   ],
   "source": [
    "model.model.embed_tokens.weight.detach()[len(tokenizer):, :]"
   ]
  },
  {
   "cell_type": "markdown",
   "metadata": {
    "id": "xe6cQdnLkd5K"
   },
   "source": [
    "可以看到，这些【151665 - 151935】的无用token也和上面**【151644 - 151664 】**的特殊token的嵌入相同"
   ]
  },
  {
   "cell_type": "code",
   "execution_count": 17,
   "metadata": {
    "colab": {
     "base_uri": "https://localhost:8080/"
    },
    "id": "URVvFUY1qASc",
    "outputId": "fe4463e0-3db6-41c9-88d1-99e51ea1618f"
   },
   "outputs": [
    {
     "data": {
      "text/plain": [
       "tensor([[ 0.0077,  0.0110, -0.0062,  ...,  0.0048,  0.0024,  0.0010],\n",
       "        [ 0.0077,  0.0110, -0.0062,  ...,  0.0048,  0.0024,  0.0010],\n",
       "        [ 0.0077,  0.0110, -0.0062,  ...,  0.0048,  0.0024,  0.0010],\n",
       "        ...,\n",
       "        [ 0.0077,  0.0110, -0.0062,  ...,  0.0048,  0.0024,  0.0010],\n",
       "        [ 0.0077,  0.0110, -0.0062,  ...,  0.0048,  0.0024,  0.0010],\n",
       "        [ 0.0077,  0.0110, -0.0062,  ...,  0.0048,  0.0024,  0.0010]],\n",
       "       device='cuda:0', dtype=torch.bfloat16)"
      ]
     },
     "execution_count": 17,
     "metadata": {},
     "output_type": "execute_result"
    }
   ],
   "source": [
    "model.lm_head.weight[tokenizer.vocab_size+1:].detach()\n",
    "# 即 【151644 - 151935】的token嵌入都相同"
   ]
  },
  {
   "cell_type": "code",
   "execution_count": 18,
   "metadata": {
    "colab": {
     "base_uri": "https://localhost:8080/"
    },
    "id": "zgGps1xgoly6",
    "outputId": "2d455b9a-5292-4216-c51a-a9eb453f9dc0"
   },
   "outputs": [
    {
     "name": "stdout",
     "output_type": "stream",
     "text": [
      "tensor([[ 0.0077,  0.0110, -0.0062,  ...,  0.0048,  0.0024,  0.0010],\n",
      "        [ 0.0077,  0.0110, -0.0062,  ...,  0.0048,  0.0024,  0.0010],\n",
      "        [ 0.0077,  0.0110, -0.0062,  ...,  0.0048,  0.0024,  0.0010],\n",
      "        ...,\n",
      "        [ 0.0077,  0.0110, -0.0062,  ...,  0.0048,  0.0024,  0.0010],\n",
      "        [ 0.0077,  0.0110, -0.0062,  ...,  0.0048,  0.0024,  0.0010],\n",
      "        [ 0.0077,  0.0110, -0.0062,  ...,  0.0048,  0.0024,  0.0010]],\n",
      "       device='cuda:0', dtype=torch.bfloat16)\n",
      "所有张量都相同（在容差范围内）\n"
     ]
    }
   ],
   "source": [
    "# 再查看最后的`lm_head`层中151644之后的张量是否都相同\n",
    "print(model.lm_head.weight[tokenizer.vocab_size+1:].detach())\n",
    "special_token_lmhead_weight = model.lm_head.weight[tokenizer.vocab_size+1:].detach()  #除了<|endoftext|>，这个特殊token在预训练阶段也会被训练\n",
    "# 选择一个张量作为基准\n",
    "reference_tensor = special_token_lmhead_weight[0]\n",
    "\n",
    "# 定义一个容差值，用于比较浮点数是否相等\n",
    "tolerance = 1e-4\n",
    "\n",
    "all_same = all(torch.allclose(tensor, reference_tensor, atol=tolerance) for tensor in special_token_lmhead_weight)\n",
    "\n",
    "if all_same:\n",
    "  print(\"所有张量都相同（在容差范围内）\")\n",
    "else:\n",
    "  print(\"张量不都相同\")"
   ]
  },
  {
   "cell_type": "markdown",
   "metadata": {
    "id": "0qU_Du0F2TPo"
   },
   "source": [
    "## 1.1、增加`<|reasoning|>`这个special token"
   ]
  },
  {
   "cell_type": "code",
   "execution_count": 19,
   "metadata": {
    "colab": {
     "base_uri": "https://localhost:8080/"
    },
    "id": "DEj_xQark1xB",
    "outputId": "8b82cf14-9307-43e2-e47a-97c7c2655c6e"
   },
   "outputs": [
    {
     "name": "stdout",
     "output_type": "stream",
     "text": [
      "before add new special token, the Vocabulary Size is: 151665\n",
      "after add new special token, the Vocabulary Size is: 151666\n"
     ]
    }
   ],
   "source": [
    "print(f\"before add new special token, the Vocabulary Size is: {len(tokenizer)}\")\n",
    "new_special_token = \"<|reasoning|>\"\n",
    "tokenizer.add_special_tokens({\"additional_special_tokens\": [new_special_token]})\n",
    "print(f\"after add new special token, the Vocabulary Size is: {len(tokenizer)}\")"
   ]
  },
  {
   "cell_type": "code",
   "execution_count": 20,
   "metadata": {
    "colab": {
     "base_uri": "https://localhost:8080/"
    },
    "id": "ZfVgGem8lB3t",
    "outputId": "ccbfc127-ca42-49f5-b6b5-6c7b7e7735d5"
   },
   "outputs": [
    {
     "name": "stdout",
     "output_type": "stream",
     "text": [
      "the id of <|reasoning|> is: 151665\n"
     ]
    }
   ],
   "source": [
    "# check the id of th new token\n",
    "new_token_id = tokenizer.convert_tokens_to_ids(new_special_token)\n",
    "print(f\"the id of {new_special_token} is: {new_token_id}\")"
   ]
  },
  {
   "cell_type": "markdown",
   "metadata": {
    "id": "_XgW3YPR2Mzf"
   },
   "source": [
    "## 1.2、新增 `<|reasoning|>` 该special token后，还需要同步调整模型的`embedding`层 **(可以不用执行)**"
   ]
  },
  {
   "cell_type": "code",
   "execution_count": 21,
   "metadata": {
    "colab": {
     "base_uri": "https://localhost:8080/"
    },
    "id": "KT8nIJWklR94",
    "outputId": "300eb0aa-456b-4c39-b203-24025672b9c1"
   },
   "outputs": [
    {
     "data": {
      "text/plain": [
       "Qwen2ForCausalLM(\n",
       "  (model): Qwen2Model(\n",
       "    (embed_tokens): Embedding(151666, 1536)\n",
       "    (layers): ModuleList(\n",
       "      (0-27): 28 x Qwen2DecoderLayer(\n",
       "        (self_attn): Qwen2SdpaAttention(\n",
       "          (q_proj): Linear(in_features=1536, out_features=1536, bias=True)\n",
       "          (k_proj): Linear(in_features=1536, out_features=256, bias=True)\n",
       "          (v_proj): Linear(in_features=1536, out_features=256, bias=True)\n",
       "          (o_proj): Linear(in_features=1536, out_features=1536, bias=False)\n",
       "          (rotary_emb): Qwen2RotaryEmbedding()\n",
       "        )\n",
       "        (mlp): Qwen2MLP(\n",
       "          (gate_proj): Linear(in_features=1536, out_features=8960, bias=False)\n",
       "          (up_proj): Linear(in_features=1536, out_features=8960, bias=False)\n",
       "          (down_proj): Linear(in_features=8960, out_features=1536, bias=False)\n",
       "          (act_fn): SiLU()\n",
       "        )\n",
       "        (input_layernorm): Qwen2RMSNorm((1536,), eps=1e-06)\n",
       "        (post_attention_layernorm): Qwen2RMSNorm((1536,), eps=1e-06)\n",
       "      )\n",
       "    )\n",
       "    (norm): Qwen2RMSNorm((1536,), eps=1e-06)\n",
       "    (rotary_emb): Qwen2RotaryEmbedding()\n",
       "  )\n",
       "  (lm_head): Linear(in_features=1536, out_features=151666, bias=False)\n",
       ")"
      ]
     },
     "execution_count": 21,
     "metadata": {},
     "output_type": "execute_result"
    }
   ],
   "source": [
    "model.resize_token_embeddings(len(tokenizer))\n",
    "model.to(device)"
   ]
  },
  {
   "cell_type": "markdown",
   "metadata": {
    "id": "ur0UT0T1uOJw"
   },
   "source": [
    "可以看到 嵌入层`embed_tokens`和最后的输出层`lm_head`都新增加了一个维度，变为了`151666`，我们接下来分别查看下新增加的这个维度的嵌入和最后的分类头的映射weight"
   ]
  },
  {
   "cell_type": "code",
   "execution_count": 22,
   "metadata": {
    "colab": {
     "base_uri": "https://localhost:8080/"
    },
    "id": "p6u91XT6n0_N",
    "outputId": "9f0b7498-093f-43e1-f0ff-24c1b51ed27d"
   },
   "outputs": [
    {
     "data": {
      "text/plain": [
       "tensor([[ 0.0077,  0.0110, -0.0062,  ...,  0.0048,  0.0024,  0.0010],\n",
       "        [ 0.0077,  0.0110, -0.0062,  ...,  0.0048,  0.0024,  0.0010],\n",
       "        [ 0.0077,  0.0110, -0.0062,  ...,  0.0048,  0.0024,  0.0010],\n",
       "        ...,\n",
       "        [ 0.0077,  0.0110, -0.0062,  ...,  0.0048,  0.0024,  0.0010],\n",
       "        [ 0.0077,  0.0110, -0.0062,  ...,  0.0048,  0.0024,  0.0010],\n",
       "        [ 0.0077,  0.0110, -0.0062,  ...,  0.0048,  0.0024,  0.0010]],\n",
       "       device='cuda:0', dtype=torch.bfloat16, grad_fn=<SliceBackward0>)"
      ]
     },
     "execution_count": 22,
     "metadata": {},
     "output_type": "execute_result"
    }
   ],
   "source": [
    "model.model.embed_tokens.weight[-22:]"
   ]
  },
  {
   "cell_type": "code",
   "execution_count": 23,
   "metadata": {
    "colab": {
     "base_uri": "https://localhost:8080/"
    },
    "id": "8mS2qjMtuxif",
    "outputId": "13570b92-aae9-410b-959b-ff5842478854"
   },
   "outputs": [
    {
     "data": {
      "text/plain": [
       "tensor([[ 0.0077,  0.0110, -0.0062,  ...,  0.0048,  0.0024,  0.0010],\n",
       "        [ 0.0077,  0.0110, -0.0062,  ...,  0.0048,  0.0024,  0.0010],\n",
       "        [ 0.0077,  0.0110, -0.0062,  ...,  0.0048,  0.0024,  0.0010],\n",
       "        ...,\n",
       "        [ 0.0077,  0.0110, -0.0062,  ...,  0.0048,  0.0024,  0.0010],\n",
       "        [ 0.0077,  0.0110, -0.0062,  ...,  0.0048,  0.0024,  0.0010],\n",
       "        [ 0.0077,  0.0110, -0.0062,  ...,  0.0048,  0.0024,  0.0010]],\n",
       "       device='cuda:0', dtype=torch.bfloat16, grad_fn=<SliceBackward0>)"
      ]
     },
     "execution_count": 23,
     "metadata": {},
     "output_type": "execute_result"
    }
   ],
   "source": [
    "model.lm_head.weight[-22:]"
   ]
  },
  {
   "cell_type": "markdown",
   "metadata": {
    "id": "M8n70oP4w7wH"
   },
   "source": [
    "- 看样子，qwen2系列的小模型的确是使用了参数共享tie_weights方法（embedding层和最后的lm_head层权值共享或者说权重绑定）以压缩参数量\n",
    "- 没记错的话，qwen系列是只有小模型使用了参数共享方法，大些体量的模型并没有使用共享方法\n"
   ]
  },
  {
   "cell_type": "code",
   "execution_count": 24,
   "metadata": {
    "colab": {
     "base_uri": "https://localhost:8080/"
    },
    "id": "4I22BRIMboBU",
    "outputId": "f1d4c6ac-84f4-454c-d817-2ffd08b2737f"
   },
   "outputs": [
    {
     "data": {
      "text/plain": [
       "True"
      ]
     },
     "execution_count": 24,
     "metadata": {},
     "output_type": "execute_result"
    }
   ],
   "source": [
    "# 测试编解码码效果\n",
    "input_text = \"this is a test with a new special token: <|reasoning|>. let's task it\"\n",
    "# 编码\n",
    "input_ids = tokenizer.encode(input_text, return_tensors=\"pt\")\n",
    "# 再解码回去\n",
    "tokenizer.decode(input_ids[0]) == input_text"
   ]
  },
  {
   "cell_type": "code",
   "execution_count": 22,
   "metadata": {},
   "outputs": [
    {
     "data": {
      "text/plain": [
       "\"this is a test with a new special token: <|reasoning|>. let's task it\""
      ]
     },
     "execution_count": 22,
     "metadata": {},
     "output_type": "execute_result"
    }
   ],
   "source": [
    "tokenizer.decode(input_ids[0])"
   ]
  },
  {
   "cell_type": "code",
   "execution_count": 25,
   "metadata": {},
   "outputs": [
    {
     "data": {
      "text/plain": [
       "tensor([[151665]])"
      ]
     },
     "execution_count": 25,
     "metadata": {},
     "output_type": "execute_result"
    }
   ],
   "source": [
    "tokenizer.encode(\"<|reasoning|>\", return_tensors=\"pt\")"
   ]
  },
  {
   "cell_type": "code",
   "execution_count": 27,
   "metadata": {},
   "outputs": [
    {
     "data": {
      "text/plain": [
       "Embedding(151666, 1536)"
      ]
     },
     "execution_count": 27,
     "metadata": {},
     "output_type": "execute_result"
    }
   ],
   "source": [
    "model.model.embed_tokens"
   ]
  },
  {
   "cell_type": "code",
   "execution_count": 29,
   "metadata": {},
   "outputs": [
    {
     "name": "stdout",
     "output_type": "stream",
     "text": [
      "trainable params: 1,089,536 || all params: 1,544,389,120 || trainable%: 0.0705\n"
     ]
    }
   ],
   "source": [
    "from peft import LoraConfig, TaskType, get_peft_model\n",
    "\n",
    "config = LoraConfig(\n",
    "    task_type=TaskType.CAUSAL_LM,\n",
    "    target_modules=[\"q_proj\", \"v_proj\"], # 选择合适的target_modules：https://github.com/huggingface/peft/blob/main/src/peft/utils/constants.py#L78\n",
    "    inference_mode=False, # 训练模式\n",
    "    r=8, # LoRA 秩大小\n",
    "    lora_alpha=32, # LoRA alaph，具体作用参见 LoRA 原理\n",
    "    lora_dropout=0.1 # Dropout 比例\n",
    ")\n",
    "\n",
    "model = get_peft_model(model, config)\n",
    "\n",
    "model.print_trainable_parameters()"
   ]
  },
  {
   "cell_type": "markdown",
   "metadata": {
    "id": "VhyXQrG51q45"
   },
   "source": [
    "## 以上我们就完成了对模型的**分词器**、**嵌入层**和**lm_head**均适配新增一个特殊token：**<|reasoning|>**"
   ]
  },
  {
   "cell_type": "markdown",
   "metadata": {
    "id": "uOrzDK3fS5Yg"
   },
   "source": [
    "# 2、定义模型训练过程中的超参"
   ]
  },
  {
   "cell_type": "code",
   "execution_count": 30,
   "metadata": {
    "id": "qnG99jDPS2sY"
   },
   "outputs": [],
   "source": [
    "from dataclasses import dataclass\n",
    "@dataclass\n",
    "class modelConfig:\n",
    "    max_length:int = 3000\n",
    "    batch_size:int = 1\n",
    "    gradient_accumulation_steps:int = 8\n",
    "    log_iter:int = 400\n",
    "    max_lr:float = 2e-5\n",
    "    min_lr:float = 2e-6\n",
    "    warmup_steps:int = 1000"
   ]
  },
  {
   "cell_type": "markdown",
   "metadata": {
    "id": "yOBGBrZqSPbS"
   },
   "source": [
    "# 3、导入训练数据并开启训练"
   ]
  },
  {
   "cell_type": "code",
   "execution_count": 31,
   "metadata": {},
   "outputs": [],
   "source": [
    "import subprocess\n",
    "import os\n",
    "\n",
    "result = subprocess.run('bash -c \"source /etc/network_turbo && env | grep proxy\"', shell=True, capture_output=True, text=True)\n",
    "output = result.stdout\n",
    "for line in output.splitlines():\n",
    "    if '=' in line:\n",
    "        var, value = line.split('=', 1)\n",
    "        os.environ[var] = value"
   ]
  },
  {
   "cell_type": "code",
   "execution_count": 32,
   "metadata": {
    "colab": {
     "base_uri": "https://localhost:8080/",
     "height": 113,
     "referenced_widgets": [
      "4d95e63b84494846a31ddc20a92d06de",
      "8978e7bba2364d1d802f2a7c7560297b",
      "3460c7f3c7274fc4ba06c8b6675bb37a",
      "00cfba85032949a98b31f4bffbb89274",
      "f9c966f2b73e4f3da9163dd14ed16363",
      "851e5249a3474421a1c527c3f35545b5",
      "65073b78db274217b2f9800549cdcd2d",
      "fdca97d2f6e8424eb842a161e5fd5835",
      "fa9b41c17c67430b99b3bf763b8e463d",
      "01737b33fe7e4aef9bdfa46fb5352daf",
      "4d206ca710734371a9ca172f1fbd0f79",
      "e91a61c0dc984ec09b9632af8a282611",
      "fcf3e96c5cbf46abb84161f29d0f4199",
      "9a33cd22c9cc4c34a2e60a87c37d8eaa",
      "38b6585254aa4332b1cd6b6c64432263",
      "6336f105491b4bd8ae01c0e3b6940c36",
      "c1e063e9f8174863b4acd5a553b5a71d",
      "0855ea4d4a684f53acb099b20bbd2606",
      "006b088e27734f77a03883739f69042b",
      "1c6b9b798563409cad0bd52e2ba423a9",
      "95de1ad519ec479797c56a59ae13826a",
      "87336531a7d449ea8e73b1707e921ccf",
      "2c3d43d5b1d34d3b963bf2ed582620ba",
      "a4ac3a557f2347b2b828f0c966a4d4fe",
      "bb94ba3e0f714a8e9b9b61c134e2f74c",
      "d2c8b1dc82a5473ab6f38bcc0430c981",
      "82a94b011a904f2884f6f8206064ed89",
      "33113930b3a84366bb5f5b60e40f234e",
      "1f47d0fcdac84c0986ac056b480c0dc7",
      "f46cdc40f11349108d92539de4185b33",
      "55bb9e5806eb422197e7d19e62305a2a",
      "58f28acb0be04593accf297e5e06bed0",
      "df94c5dc68864f8db8213f00e42af793"
     ]
    },
    "id": "6BpJtzNJSMM4",
    "outputId": "510a3832-a2ed-444c-dd03-4512d054c4e3"
   },
   "outputs": [],
   "source": [
    "import datasets\n",
    "reasoning_data = datasets.load_dataset('KingNish/reasoning-base-20k')"
   ]
  },
  {
   "cell_type": "code",
   "execution_count": 33,
   "metadata": {
    "colab": {
     "base_uri": "https://localhost:8080/",
     "height": 49,
     "referenced_widgets": [
      "20a0b51901a644cd8318eccf8219b577",
      "95aece1615ac4f4fa568a77b4a0d0e1a",
      "6ece5bd8907b43248feb86065e8a2ea5",
      "9a9f863626b54cfebb48efe95142ebb2",
      "6a26f4f9406946628786a62cebd5a867",
      "8e216fa2d97d4b638e046076ebf2ec2f",
      "9128a37a06ce4b269b2e60a29710c181",
      "7b27d475ea6544d19df5d4c1291539b5",
      "137dc35b0c1e4b9ab04d0d8ec5ce7dac",
      "ea3f8d8660a942fba64236fbc2cbd787",
      "c7ba627ffac54eb89180843c8ad721bb"
     ]
    },
    "id": "qJzavJHmRhgP",
    "outputId": "30e8718b-3ea3-457e-f602-0e2ae4297394"
   },
   "outputs": [
    {
     "data": {
      "application/vnd.jupyter.widget-view+json": {
       "model_id": "98b2eee5c2584213a30544ce6e64908d",
       "version_major": 2,
       "version_minor": 0
      },
      "text/plain": [
       "Saving the dataset (0/1 shards):   0%|          | 0/19944 [00:00<?, ? examples/s]"
      ]
     },
     "metadata": {},
     "output_type": "display_data"
    }
   ],
   "source": [
    "# prompt: save the dataset into local file\n",
    "reasoning_data.save_to_disk(\"./reasoning_data\")"
   ]
  },
  {
   "cell_type": "code",
   "execution_count": 34,
   "metadata": {
    "colab": {
     "base_uri": "https://localhost:8080/"
    },
    "id": "3IuPJQhn_tD1",
    "outputId": "db310eea-7957-4c5d-86e8-252ac4643a1b"
   },
   "outputs": [
    {
     "data": {
      "text/plain": [
       "Dataset({\n",
       "    features: ['user', 'reasoning', 'assistant', 'template', 'conversations'],\n",
       "    num_rows: 19944\n",
       "})"
      ]
     },
     "execution_count": 34,
     "metadata": {},
     "output_type": "execute_result"
    }
   ],
   "source": [
    "reasoning_data['train']"
   ]
  },
  {
   "cell_type": "code",
   "execution_count": 35,
   "metadata": {
    "colab": {
     "base_uri": "https://localhost:8080/"
    },
    "id": "hz45cipCLKC5",
    "outputId": "fffd3e7a-9129-49a2-8ca5-5cff17ca0663"
   },
   "outputs": [
    {
     "data": {
      "text/plain": [
       "True"
      ]
     },
     "execution_count": 35,
     "metadata": {},
     "output_type": "execute_result"
    }
   ],
   "source": [
    "# 全部是单轮对话\n",
    "max([len(i) for i in reasoning_data['train']['conversations']]) == 3"
   ]
  },
  {
   "cell_type": "code",
   "execution_count": 36,
   "metadata": {
    "colab": {
     "base_uri": "https://localhost:8080/",
     "height": 49,
     "referenced_widgets": [
      "c58771d16f554bc68b783da40043281f",
      "b83f73dd875742459448f70c4d98eb0c",
      "6731988b1bb74f8ebe1a35c0196bee7b",
      "9dd40131eecd42a79519b897749b39e6",
      "f8b66aed4c76404ea165db0c0dc091bf",
      "0b2c49f831304163acc0d2f4cf0089b0",
      "514e06329caa4fbb963a382a3e894054",
      "ca3c78a681834bc4a6fb26dd1e9c1f8d",
      "07e127b8f0244ee78c3b5014cf311e91",
      "7b48926e24d448d38810001834020b55",
      "b9e2cc6fde514d5dbb26c936d1cdfed2"
     ]
    },
    "id": "CKY2mGXz9UzF",
    "outputId": "7b6f4772-629d-4df0-d1f0-232ee87cc1b8"
   },
   "outputs": [],
   "source": [
    "reasoning_data['train'] = reasoning_data['train'].map(lambda x: {\n",
    "    **x,\n",
    "    'user_template': \"\".join([\"<|im_start|>user\\n\", x['user'], \"<|im_end|>\\n\"]),\n",
    "    'reasoning_template': \"\".join([\"<|im_start|><|reasoning|>\\n\", x['reasoning'], \"<|im_end|>\\n\"]),\n",
    "    'assistant_template': \"\".join([\"<|im_start|>assistant\\n\", x['assistant'], \"<|im_end|>\\n\"]),\n",
    "    'template_new': \"\".join([       \"<|im_start|>system\\nYou are a helpful assistant<|im_end|>\\n\", #添加系统提示词\n",
    "                        \"<|im_start|>user\\n\", x['user'], \"<|im_end|>\\n\",\n",
    "                        \"<|im_start|><|reasoning|>\\n\", x['reasoning'], \"<|im_end|>\\n\",\n",
    "                        \"<|im_start|>assistant\\n\", x['assistant'], \"<|im_end|>\\n\"])\n",
    "})"
   ]
  },
  {
   "cell_type": "code",
   "execution_count": 37,
   "metadata": {
    "colab": {
     "base_uri": "https://localhost:8080/"
    },
    "id": "rLTnedY3Bnf3",
    "outputId": "24f969ec-9128-44db-da94-648623372faa"
   },
   "outputs": [
    {
     "data": {
      "text/plain": [
       "Dataset({\n",
       "    features: ['user', 'reasoning', 'assistant', 'template', 'conversations', 'user_template', 'reasoning_template', 'assistant_template', 'template_new'],\n",
       "    num_rows: 19944\n",
       "})"
      ]
     },
     "execution_count": 37,
     "metadata": {},
     "output_type": "execute_result"
    }
   ],
   "source": [
    "reasoning_data['train']"
   ]
  },
  {
   "cell_type": "code",
   "execution_count": 38,
   "metadata": {
    "colab": {
     "base_uri": "https://localhost:8080/"
    },
    "id": "6w7YYl0LTIeQ",
    "outputId": "28333479-bdbd-46fd-fb06-71238bd4bbc0"
   },
   "outputs": [
    {
     "name": "stdout",
     "output_type": "stream",
     "text": [
      "<|im_start|>system\n",
      "You are a helpful assistant<|im_end|>\n",
      "<|im_start|>user\n",
      "Prove that the difference between two consecutive cubes cannot be divisible by 5, using the fact that the only possible remainders when a cube is divided by 5 are 0, 1, and -1.<|im_end|>\n",
      "<|im_start|><|reasoning|>\n",
      "Let's break down the problem step by step and reason through it.\n",
      "\n",
      "**Understanding the Problem**\n",
      "\n",
      "The problem asks us to prove that the difference between two consecutive cubes cannot be divisible by 5. To approach this problem, we need to understand what consecutive cubes are and how we can represent them mathematically.\n",
      "\n",
      "Consecutive cubes are cubes of consecutive integers. For example, if we take the integer 2, its cube is 2^3 = 8. The next consecutive integer is 3, and its cube is 3^3 = 27. So, the difference between these two consecutive cubes is 27 - 8 = 19.\n",
      "\n",
      "**Representing Consecutive Cubes Mathematically**\n",
      "\n",
      "Let's represent the two consecutive cubes as n^3 and (n+1)^3, where n is an integer. The difference between these two cubes can be represented as:\n",
      "\n",
      "(n+1)^3 - n^3\n",
      "\n",
      "**Expanding the Difference**\n",
      "\n",
      "To simplify the expression, let's expand the difference using the binomial theorem:\n",
      "\n",
      "(n+1)^3 = n^3 + 3n^2 + 3n + 1\n",
      "\n",
      "So, the difference becomes:\n",
      "\n",
      "(n^3 + 3n^2 + 3n + 1) - n^3\n",
      "= 3n^2 + 3n + 1\n",
      "\n",
      "**Understanding the Remainders**\n",
      "\n",
      "Now, let's consider the possible remainders when a cube is divided by 5. We are given that the only possible remainders are 0, 1, and -1.\n",
      "\n",
      "When n^3 is divided by 5, the possible remainders are 0, 1, and -1. This means that n^3 can be represented as 5k, 5k+1, or 5k-1, where k is an integer.\n",
      "\n",
      "**Analyzing the Possible Remainders of the Difference**\n",
      "\n",
      "Now, let's analyze the possible remainders of the difference 3n^2 + 3n + 1 when divided by 5.\n",
      "\n",
      "If n^3 has a remainder of 0 when divided by 5, then n^3 = 5k for some integer k. In this case, the difference becomes:\n",
      "\n",
      "3(5k)^2 + 3(5k) + 1\n",
      "= 75k^2 + 15k + 1\n",
      "\n",
      "When divided by 5, this expression has a remainder of 1.\n",
      "\n",
      "If n^3 has a remainder of 1 when divided by 5, then n^3 = 5k+1 for some integer k. In this case, the difference becomes:\n",
      "\n",
      "3(5k+1)^2 + 3(5k+1) + 1\n",
      "= 75k^2 + 30k + 7\n",
      "\n",
      "When divided by 5, this expression has a remainder of 2.\n",
      "\n",
      "If n^3 has a remainder of -1 when divided by 5, then n^3 = 5k-1 for some integer k. In this case, the difference becomes:\n",
      "\n",
      "3(5k-1)^2 + 3(5k-1) + 1\n",
      "= 75k^2 - 30k + 1\n",
      "\n",
      "When divided by 5, this expression has a remainder of 1.\n",
      "\n",
      "**Conclusion**\n",
      "\n",
      "In all cases, the remainder of the difference 3n^2 + 3n + 1 when divided by 5 is not 0. Therefore, we can conclude that the difference between two consecutive cubes cannot be divisible by 5.\n",
      "\n",
      "**Self-Reflection**\n",
      "\n",
      "In this problem, we used the fact that the only possible remainders when a cube is divided by 5 are 0, 1, and -1. We then analyzed the possible remainders of the difference between two consecutive cubes and showed that in all cases, the remainder is not 0.\n",
      "\n",
      "This problem requires a good understanding of modular arithmetic and the properties of cubes. The key insight is to recognize that the difference between two consecutive cubes can be represented as 3n^2 + 3n + 1, and then to analyze the possible remainders of this expression when divided by 5.\n",
      "\n",
      "Overall, this problem requires careful reasoning and attention to detail. By breaking down the problem step by step and analyzing the possible remainders, we were able to prove that the difference between two consecutive cubes cannot be divisible by 5.<|im_end|>\n",
      "<|im_start|>assistant\n",
      "Let the two consecutive cubes be $n^3$ and $(n+1)^3$. Their difference is:\n",
      "\n",
      "$$(n+1)^3 - n^3 = 3n^2 + 3n + 1.$$\n",
      "\n",
      "When $n^3$ is divided by 5, the possible remainders are 0, 1, and -1. Therefore, when $(n+1)^3$ is divided by 5, the possible remainders are 1, 2, and 0, respectively.\n",
      "\n",
      "Thus, the possible remainders when the difference between the cubes is divided by 5 are:\n",
      "\n",
      "* 1 - 0 = 1\n",
      "* 2 - 1 = 1\n",
      "* 0 - (-1) = 1\n",
      "\n",
      "Since none of these remainders is 0, the difference between two consecutive cubes cannot be divisible by 5.<|im_end|>\n",
      "\n"
     ]
    }
   ],
   "source": [
    "# 探查数据\n",
    "print(reasoning_data['train']['template_new'][0])"
   ]
  },
  {
   "cell_type": "code",
   "execution_count": 39,
   "metadata": {
    "id": "Moy0m06heW4q"
   },
   "outputs": [],
   "source": [
    "# 确保编解码前后的文本对齐\n",
    "assert tokenizer.decode(tokenizer.encode(reasoning_data['train']['template_new'][0], return_tensors=\"pt\")[0]) == reasoning_data['train']['template_new'][0]"
   ]
  },
  {
   "cell_type": "code",
   "execution_count": 40,
   "metadata": {
    "colab": {
     "base_uri": "https://localhost:8080/"
    },
    "id": "b8VlUkxz8K00",
    "outputId": "8ece7507-1d82-4e6b-e9b7-5b4646df8c0d"
   },
   "outputs": [
    {
     "name": "stdout",
     "output_type": "stream",
     "text": [
      "<|im_start|>system\n",
      "You are a helpful assistant<|im_end|>\n",
      "<|im_start|>user\n",
      "Prove that the difference between two consecutive cubes cannot be divisible by 5, using the fact that the only possible remainders when a cube is divided by 5 are 0, 1, and -1.<|im_end|>\n",
      "<|im_start|><|reasoning|>\n",
      "Let's break down the problem step by step and reason through it.\n",
      "\n",
      "**Understanding the Problem**\n",
      "\n",
      "The problem asks us to prove that the difference between two consecutive cubes cannot be divisible by 5. To approach this problem, we need to understand what consecutive cubes are and how we can represent them mathematically.\n",
      "\n",
      "Consecutive cubes are cubes of consecutive integers. For example, if we take the integer 2, its cube is 2^3 = 8. The next consecutive integer is 3, and its cube is 3^3 = 27. So, the difference between these two consecutive cubes is 27 - 8 = 19.\n",
      "\n",
      "**Representing Consecutive Cubes Mathematically**\n",
      "\n",
      "Let's represent the two consecutive cubes as n^3 and (n+1)^3, where n is an integer. The difference between these two cubes can be represented as:\n",
      "\n",
      "(n+1)^3 - n^3\n",
      "\n",
      "**Expanding the Difference**\n",
      "\n",
      "To simplify the expression, let's expand the difference using the binomial theorem:\n",
      "\n",
      "(n+1)^3 = n^3 + 3n^2 + 3n + 1\n",
      "\n",
      "So, the difference becomes:\n",
      "\n",
      "(n^3 + 3n^2 + 3n + 1) - n^3\n",
      "= 3n^2 + 3n + 1\n",
      "\n",
      "**Understanding the Remainders**\n",
      "\n",
      "Now, let's consider the possible remainders when a cube is divided by 5. We are given that the only possible remainders are 0, 1, and -1.\n",
      "\n",
      "When n^3 is divided by 5, the possible remainders are 0, 1, and -1. This means that n^3 can be represented as 5k, 5k+1, or 5k-1, where k is an integer.\n",
      "\n",
      "**Analyzing the Possible Remainders of the Difference**\n",
      "\n",
      "Now, let's analyze the possible remainders of the difference 3n^2 + 3n + 1 when divided by 5.\n",
      "\n",
      "If n^3 has a remainder of 0 when divided by 5, then n^3 = 5k for some integer k. In this case, the difference becomes:\n",
      "\n",
      "3(5k)^2 + 3(5k) + 1\n",
      "= 75k^2 + 15k + 1\n",
      "\n",
      "When divided by 5, this expression has a remainder of 1.\n",
      "\n",
      "If n^3 has a remainder of 1 when divided by 5, then n^3 = 5k+1 for some integer k. In this case, the difference becomes:\n",
      "\n",
      "3(5k+1)^2 + 3(5k+1) + 1\n",
      "= 75k^2 + 30k + 7\n",
      "\n",
      "When divided by 5, this expression has a remainder of 2.\n",
      "\n",
      "If n^3 has a remainder of -1 when divided by 5, then n^3 = 5k-1 for some integer k. In this case, the difference becomes:\n",
      "\n",
      "3(5k-1)^2 + 3(5k-1) + 1\n",
      "= 75k^2 - 30k + 1\n",
      "\n",
      "When divided by 5, this expression has a remainder of 1.\n",
      "\n",
      "**Conclusion**\n",
      "\n",
      "In all cases, the remainder of the difference 3n^2 + 3n + 1 when divided by 5 is not 0. Therefore, we can conclude that the difference between two consecutive cubes cannot be divisible by 5.\n",
      "\n",
      "**Self-Reflection**\n",
      "\n",
      "In this problem, we used the fact that the only possible remainders when a cube is divided by 5 are 0, 1, and -1. We then analyzed the possible remainders of the difference between two consecutive cubes and showed that in all cases, the remainder is not 0.\n",
      "\n",
      "This problem requires a good understanding of modular arithmetic and the properties of cubes. The key insight is to recognize that the difference between two consecutive cubes can be represented as 3n^2 + 3n + 1, and then to analyze the possible remainders of this expression when divided by 5.\n",
      "\n",
      "Overall, this problem requires careful reasoning and attention to detail. By breaking down the problem step by step and analyzing the possible remainders, we were able to prove that the difference between two consecutive cubes cannot be divisible by 5.<|im_end|>\n",
      "<|im_start|>assistant\n",
      "Let the two consecutive cubes be $n^3$ and $(n+1)^3$. Their difference is:\n",
      "\n",
      "$$(n+1)^3 - n^3 = 3n^2 + 3n + 1.$$\n",
      "\n",
      "When $n^3$ is divided by 5, the possible remainders are 0, 1, and -1. Therefore, when $(n+1)^3$ is divided by 5, the possible remainders are 1, 2, and 0, respectively.\n",
      "\n",
      "Thus, the possible remainders when the difference between the cubes is divided by 5 are:\n",
      "\n",
      "* 1 - 0 = 1\n",
      "* 2 - 1 = 1\n",
      "* 0 - (-1) = 1\n",
      "\n",
      "Since none of these remainders is 0, the difference between two consecutive cubes cannot be divisible by 5.<|im_end|>\n",
      "\n"
     ]
    }
   ],
   "source": [
    "print(tokenizer.decode(tokenizer.encode(reasoning_data['train']['template_new'][0], return_tensors=\"pt\", truncation=True, max_length=modelConfig.max_length)[0]))"
   ]
  },
  {
   "cell_type": "markdown",
   "metadata": {
    "id": "V5qUvo8LSorW"
   },
   "source": [
    "## 3.1、训练数据转化成tokenid：str -> tokenid"
   ]
  },
  {
   "cell_type": "code",
   "execution_count": 41,
   "metadata": {
    "colab": {
     "base_uri": "https://localhost:8080/",
     "height": 49,
     "referenced_widgets": [
      "bd0aab37191745f09f540c2f9fa70f52",
      "002465c05b71462198afe7ffee5f23e6",
      "c5bd5af525c94d57ace64357c7ddb5f2",
      "fbb1c9b7489242619cf2dc3bc0476ddd",
      "8eaf3b02c5eb413a92308be974b31b49",
      "3bfcfec6942b4b32a46a9b2c43227d8d",
      "95ad4875749843a2b1cf08987c682df9",
      "7ad6a66d01684ca3bd845c5cb8e5825a",
      "2176b48b1f454b249d638f9f520e274b",
      "25843be9e67346f5a9faf475a9d396ad",
      "32767a4e19fd4bbe9887b6a54c916893"
     ]
    },
    "id": "0dxeb9UVTBG5",
    "outputId": "8baa550f-ff95-4c7d-e8db-3aff6798fd8c"
   },
   "outputs": [],
   "source": [
    "reasoning_data['train'] = reasoning_data['train'].map(lambda x: {\n",
    "    **x,\n",
    "    'truncated_token_id': tokenizer.encode(x['template_new'], truncation=True, max_length=modelConfig.max_length)\n",
    "})"
   ]
  },
  {
   "cell_type": "code",
   "execution_count": 42,
   "metadata": {
    "colab": {
     "base_uri": "https://localhost:8080/",
     "height": 472
    },
    "id": "sP6Htq8opvXk",
    "outputId": "7b89a4e0-888f-4b06-c02a-164c11bcc235"
   },
   "outputs": [
    {
     "data": {
      "image/png": "[encoded data removed]",
      "text/plain": [
       "<Figure size 640x480 with 1 Axes>"
      ]
     },
     "metadata": {},
     "output_type": "display_data"
    }
   ],
   "source": [
    "import matplotlib.pyplot as plt\n",
    "\n",
    "token_lengths = [len(i) for i in reasoning_data['train']['truncated_token_id']]\n",
    "\n",
    "plt.hist(token_lengths, bins=30)\n",
    "plt.xlabel('Token Length')\n",
    "plt.ylabel('Frequency')\n",
    "plt.title('Distribution of Token Lengths')\n",
    "plt.show()"
   ]
  },
  {
   "cell_type": "code",
   "execution_count": 43,
   "metadata": {
    "colab": {
     "base_uri": "https://localhost:8080/"
    },
    "id": "8xunbQypIhWV",
    "outputId": "234a930c-4099-4607-eab9-3d7cf8a7b5ad"
   },
   "outputs": [
    {
     "data": {
      "text/plain": [
       "Dataset({\n",
       "    features: ['user', 'reasoning', 'assistant', 'template', 'conversations', 'user_template', 'reasoning_template', 'assistant_template', 'template_new', 'truncated_token_id'],\n",
       "    num_rows: 19944\n",
       "})"
      ]
     },
     "execution_count": 43,
     "metadata": {},
     "output_type": "execute_result"
    }
   ],
   "source": [
    "reasoning_data['train']"
   ]
  },
  {
   "cell_type": "code",
   "execution_count": 44,
   "metadata": {
    "id": "tLGyqg_tTA7J"
   },
   "outputs": [],
   "source": [
    "assert tokenizer.decode(torch.tensor(reasoning_data['train'][0]['truncated_token_id'])) == reasoning_data['train'][0]['template_new']"
   ]
  },
  {
   "cell_type": "markdown",
   "metadata": {
    "id": "SJWF2tqkI3ep"
   },
   "source": [
    "## 3.2、使用设置的训练超参数"
   ]
  },
  {
   "cell_type": "code",
   "execution_count": 45,
   "metadata": {
    "id": "aco_71m1HxAR"
   },
   "outputs": [],
   "source": [
    "batch_size = modelConfig.batch_size\n",
    "gradient_accumulation_steps = modelConfig.gradient_accumulation_steps\n",
    "log_iter = modelConfig.log_iter\n",
    "max_lr = modelConfig.max_lr\n",
    "min_lr = modelConfig.min_lr\n",
    "warmup_steps = modelConfig.warmup_steps\n",
    "total_steps = len(reasoning_data['train'])//batch_size\n",
    "optimizer = torch.optim.AdamW(filter(lambda p:p.requires_grad, model.parameters()), lr=max_lr)\n",
    "trainable_parameters_num = sum(p.numel() for p in filter(lambda p:p.requires_grad, model.parameters()))  ##全参微调"
   ]
  },
  {
   "cell_type": "markdown",
   "metadata": {
    "id": "TVGFoXjBJV_P"
   },
   "source": [
    "## 3.3、配置logging日志记录模型训练过程"
   ]
  },
  {
   "cell_type": "code",
   "execution_count": 46,
   "metadata": {
    "id": "iFId53UlJTmw"
   },
   "outputs": [],
   "source": [
    "##配置logging\n",
    "import time\n",
    "with open(f\"./{model_name}-SFT_log.txt\", \"a\") as my_file:\n",
    "  my_file.write(f'time:{time.strftime(\"%Y-%m-%d, %H:%M:%S\")}, batch_size:{batch_size}, trainable_parameters_num:{trainable_parameters_num}, warmup_steps:{warmup_steps}, max_lr:{max_lr}, min_lr:{min_lr}, gradient_accumulation_steps:{gradient_accumulation_steps}\\n')\n",
    "#定义一个日志记录函数\n",
    "def log_call(iters, iters_average_loss):\n",
    "  with open(f\"./{model_name}-SFT_log.txt\", \"a\") as my_file:\n",
    "    my_file.write(f'time:{time.strftime(\"%Y-%m-%d, %H:%M:%S\")}, iters:{iters+1}, iters_average_Loss:{iters_average_loss:.4f}\\n')"
   ]
  },
  {
   "cell_type": "markdown",
   "metadata": {
    "id": "88hgvlChJ65t"
   },
   "source": [
    "## 3.4、学习率设置：余弦衰减学习率"
   ]
  },
  {
   "cell_type": "code",
   "execution_count": 47,
   "metadata": {
    "id": "Lf02v3AcJy6G"
   },
   "outputs": [],
   "source": [
    "def linear_warmup(current_step, warmup_steps, max_lr):\n",
    "    if current_step < warmup_steps:\n",
    "        return max_lr * current_step / warmup_steps\n",
    "    else:\n",
    "        return max_lr\n",
    "\n",
    "def cosine_decay(current_step, warmup_steps, total_steps, max_lr, min_lr):\n",
    "    if current_step < warmup_steps:\n",
    "        return linear_warmup(current_step, warmup_steps, max_lr)\n",
    "    else:\n",
    "        progress = (current_step - warmup_steps) / (total_steps - warmup_steps)\n",
    "        decay = 0.5 * (1 + np.cos(np.pi * progress))\n",
    "        return (max_lr - min_lr) * decay + min_lr"
   ]
  },
  {
   "cell_type": "markdown",
   "metadata": {
    "id": "zRTA4eZCKDhU"
   },
   "source": [
    "## 3.5、掩码设置\n",
    "- SFT和预训练的区别核心就是掩码掉“问题”部分的损失，而【只看“回答”部分的损失】，并仅基于回答部分的损失进行优化\n",
    "- 实现方式：【构造损失掩码】，仅针对每轮对话（含多轮）的模型“输出”部分（也就是回答部分，**本处默认包含reasoning部分**）进行损失计算"
   ]
  },
  {
   "cell_type": "code",
   "execution_count": 48,
   "metadata": {
    "id": "Iazl9HMfKBTt"
   },
   "outputs": [],
   "source": [
    "# 设置问题部分的掩码函数，用于执行仅针对回答部分（此处默认包含reasoning部分）才计算损失\n",
    "def return_answer_mask(input_ids):\n",
    "  assistant_answer_mask = torch.zeros_like(input_ids) #0初始化\n",
    "  for i in range(input_ids.shape[0]):\n",
    "        ## user部分的结尾\\n: \\n是<|im_end|>的下一个元素，所以有+1 【这个地方需要根据不同模型的不同聊天模版自定义更改】，关于聊天模版可阅读这篇文章：https://huggingface.co/blog/chat-templates\n",
    "        i_user_end_list = [i+1 for i in torch.where(input_ids[i]==tokenizer.encode('<|im_end|>')[0])[0].tolist()[1::3]]   #第1个im_end开始\n",
    "        ## assistant部分的结尾\\n：\\n是<|im_end|>的下一个元素，所以有+1 【这个地方需要根据不同模型的不同聊天模版自定义更改】\n",
    "        i_assistant_end_list = [i+1 for i in torch.where(input_ids[i]==tokenizer.encode('<|im_end|>')[0])[0].tolist()[3::3]] #第3个im_end开始\n",
    "\n",
    "        if len(i_user_end_list)==len(i_assistant_end_list):\n",
    "            for user_end, assistant_end in zip(i_user_end_list, i_assistant_end_list):\n",
    "                assistant_answer_mask[i][user_end+3:assistant_end-1]=1 #+3的操作，【这个地方需要根据不同模型的不同聊天模版自定义更改】\n",
    "        elif len(i_user_end_list)==len(i_assistant_end_list)+1==1:  ##单轮问答,且回答部分未结尾就被截断了\n",
    "            assistant_answer_mask[i][i_user_end_list[0]+3:]=1  ##会把右补的padding token也标记为1，所以后面还需要再结合padding mask以过滤padding\n",
    "        elif len(i_user_end_list)==len(i_assistant_end_list)+1:   ##兼顾多轮问答\n",
    "            assistant_answer_mask[i][i_user_end_list[-1]+3:]=1\n",
    "            for user_end, assistant_end in zip(i_user_end_list[:-1], i_assistant_end_list):\n",
    "                assistant_answer_mask[i][user_end+3:assistant_end-1]=1\n",
    "        else:\n",
    "            continue  ##跳出当前循环，继续下一次循环\n",
    "  return assistant_answer_mask"
   ]
  },
  {
   "cell_type": "markdown",
   "metadata": {
    "id": "iCUNOzJdN0Xg"
   },
   "source": [
    "## 3.6、开启SFT微调训练"
   ]
  },
  {
   "cell_type": "code",
   "execution_count": 49,
   "metadata": {
    "colab": {
     "base_uri": "https://localhost:8080/"
    },
    "id": "jHtm3OmCNv9c",
    "outputId": "aca586db-5169-4794-fb06-05a3d6ef49ea"
   },
   "outputs": [
    {
     "name": "stderr",
     "output_type": "stream",
     "text": [
      "Starting from v4.46, the `logits` model output will have the same type as the model (except at train time, where it will always be FP32)\n"
     ]
    },
    {
     "name": "stdout",
     "output_type": "stream",
     "text": [
      "time:2024-10-17, 18:28:04, iters:400, last_400_iters_average_train_Loss:0.5849\n",
      "time:2024-10-17, 18:29:09, iters:800, last_400_iters_average_train_Loss:0.5885\n",
      "time:2024-10-17, 18:30:16, iters:1200, last_400_iters_average_train_Loss:0.5404\n",
      "time:2024-10-17, 18:31:21, iters:1600, last_400_iters_average_train_Loss:0.5212\n",
      "time:2024-10-17, 18:32:24, iters:2000, last_400_iters_average_train_Loss:0.5062\n",
      "time:2024-10-17, 18:33:31, iters:2400, last_400_iters_average_train_Loss:0.4963\n",
      "time:2024-10-17, 18:34:35, iters:2800, last_400_iters_average_train_Loss:0.4843\n"
     ]
    },
    {
     "ename": "KeyboardInterrupt",
     "evalue": "",
     "output_type": "error",
     "traceback": [
      "\u001b[0;31m---------------------------------------------------------------------------\u001b[0m",
      "\u001b[0;31mKeyboardInterrupt\u001b[0m                         Traceback (most recent call last)",
      "Cell \u001b[0;32mIn[49], line 60\u001b[0m\n\u001b[1;32m     57\u001b[0m     \u001b[38;5;66;03m##at last, clear gradients\u001b[39;00m\n\u001b[1;32m     58\u001b[0m     optimizer\u001b[38;5;241m.\u001b[39mzero_grad() \u001b[38;5;66;03m#clear gradients after updating, in this case equal to model.zero_grad()\u001b[39;00m\n\u001b[0;32m---> 60\u001b[0m train_loss_list\u001b[38;5;241m.\u001b[39mappend(\u001b[43mloss\u001b[49m\u001b[38;5;241;43m.\u001b[39;49m\u001b[43mitem\u001b[49m\u001b[43m(\u001b[49m\u001b[43m)\u001b[49m\u001b[38;5;241m*\u001b[39mgradient_accumulation_steps)\n\u001b[1;32m     62\u001b[0m \u001b[38;5;28;01mif\u001b[39;00m (iters\u001b[38;5;241m+\u001b[39m\u001b[38;5;241m1\u001b[39m)\u001b[38;5;241m%\u001b[39mlog_iter\u001b[38;5;241m==\u001b[39m\u001b[38;5;241m0\u001b[39m \u001b[38;5;129;01mor\u001b[39;00m (iters\u001b[38;5;241m+\u001b[39m\u001b[38;5;241m1\u001b[39m)\u001b[38;5;241m==\u001b[39m(\u001b[38;5;28mlen\u001b[39m(reasoning_data[\u001b[38;5;124m'\u001b[39m\u001b[38;5;124mtrain\u001b[39m\u001b[38;5;124m'\u001b[39m])\u001b[38;5;241m/\u001b[39m\u001b[38;5;241m/\u001b[39mbatch_size):\n\u001b[1;32m     63\u001b[0m   \u001b[38;5;28mprint\u001b[39m(\u001b[38;5;124mf\u001b[39m\u001b[38;5;124m'\u001b[39m\u001b[38;5;124mtime:\u001b[39m\u001b[38;5;132;01m{\u001b[39;00mtime\u001b[38;5;241m.\u001b[39mstrftime(\u001b[38;5;124m\"\u001b[39m\u001b[38;5;124m%\u001b[39m\u001b[38;5;124mY-\u001b[39m\u001b[38;5;124m%\u001b[39m\u001b[38;5;124mm-\u001b[39m\u001b[38;5;132;01m%d\u001b[39;00m\u001b[38;5;124m, \u001b[39m\u001b[38;5;124m%\u001b[39m\u001b[38;5;124mH:\u001b[39m\u001b[38;5;124m%\u001b[39m\u001b[38;5;124mM:\u001b[39m\u001b[38;5;124m%\u001b[39m\u001b[38;5;124mS\u001b[39m\u001b[38;5;124m\"\u001b[39m)\u001b[38;5;132;01m}\u001b[39;00m\u001b[38;5;124m, iters:\u001b[39m\u001b[38;5;132;01m{\u001b[39;00miters\u001b[38;5;241m+\u001b[39m\u001b[38;5;241m1\u001b[39m\u001b[38;5;132;01m}\u001b[39;00m\u001b[38;5;124m, last_\u001b[39m\u001b[38;5;132;01m{\u001b[39;00mlog_iter\u001b[38;5;132;01m}\u001b[39;00m\u001b[38;5;124m_iters_average_train_Loss:\u001b[39m\u001b[38;5;132;01m{\u001b[39;00mnp\u001b[38;5;241m.\u001b[39mnanmean(train_loss_list[\u001b[38;5;241m-\u001b[39mlog_iter:])\u001b[38;5;132;01m:\u001b[39;00m\u001b[38;5;124m.4f\u001b[39m\u001b[38;5;132;01m}\u001b[39;00m\u001b[38;5;124m'\u001b[39m) \u001b[38;5;66;03m##避免空值影响\u001b[39;00m\n",
      "\u001b[0;31mKeyboardInterrupt\u001b[0m: "
     ]
    }
   ],
   "source": [
    "model.train()\n",
    "train_loss_list = []\n",
    "model.zero_grad() ##clear gradients at the start of training\n",
    "ignore_iters_count = 0\n",
    "for iters in range(len(reasoning_data['train'])//batch_size):\n",
    "    ## 获取批次数据\n",
    "    chosen_batch_inputids = reasoning_data['train'][iters*batch_size:(iters+1)*batch_size]['truncated_token_id']\n",
    "\n",
    "    ## 对该批次数据进行padding,以并行计算，首先计算该批次的最大token长度\n",
    "    chosen_max_dim = max([len(i) for i in chosen_batch_inputids])\n",
    "\n",
    "    ### 训练数据padding填充\n",
    "    chosen_batch_inputids_padding_list = []\n",
    "    for i in range(batch_size):\n",
    "        chosen_batch_inputids_padding_list.append(torch.nn.functional.pad(torch.tensor(chosen_batch_inputids[i]), (0, chosen_max_dim - len(chosen_batch_inputids[i])), mode='constant', value=model.generation_config.eos_token_id[-1]).tolist()) #右补\n",
    "    chosen_batch_inputids_tensor = torch.tensor(chosen_batch_inputids_padding_list)\n",
    "\n",
    "    ## 构建训练数据：x->y ,下一个单词预测\n",
    "    chosen_x = chosen_batch_inputids_tensor[:, :-1].to(device)\n",
    "    chosen_y = chosen_batch_inputids_tensor[:, 1:].to(device)\n",
    "\n",
    "    ## 构建掩码判别矩阵（paddding mask & answer_mask, padding mask用于执行对padding的token不计算损失，answer_mask用于执行仅针对回答部分才计算损失），总之，就是确认哪些tokens的logit需要\"忽视\"掉\n",
    "    ### 【padding mask】\n",
    "    chosen_padding_mask = torch.where(chosen_y==model.generation_config.eos_token_id[-1], 0, 1)\n",
    "    ### 【answer_mask】\n",
    "    chosen_assistant_answer_mask = return_answer_mask(chosen_x)\n",
    "    ### 【paddingmask & answermask】方便使用掩码判别矩阵对logit和y进行过滤->:我们只关注【回答】部分的损失，不关注问题部分的损失\n",
    "    chosen_assistant_answer_mask = (chosen_assistant_answer_mask&chosen_padding_mask)\n",
    "\n",
    "    if chosen_assistant_answer_mask.sum(dim=-1).min().item()==0:##如果该批次里有的问答数据在数据截取时，回答部分存在没有数据的情况（问题太长了，导致还未采集到回答部分的token就被硬截断了），那么该批次数据不再训练\n",
    "      #print(f'不处理第{iters+1}批次数据')\n",
    "      ignore_iters_count+=1\n",
    "      continue  #跳出当前循环\n",
    "\n",
    "    ## 执行训练数据的模型前向推理，计算logits\n",
    "    chosen_logits = model(chosen_x).logits\n",
    "    torch.cuda.empty_cache() #清除非必要的显存占用，但会导致速度变慢\n",
    "    torch.cuda.ipc_collect()\n",
    "\n",
    "    ## Compute Chosen_Answer_Loss，计算训练数据的回答部分的损失, batch_loss的shape_size:[batch_size]\n",
    "    batch_loss = torch.mul((torch.gather(torch.log(torch.softmax(chosen_logits, dim=-1)), dim=-1, index=chosen_y.unsqueeze(2))*(-1)).squeeze(2), chosen_assistant_answer_mask).sum(dim=-1) / chosen_assistant_answer_mask.sum(dim=-1)\n",
    "\n",
    "    ## Calculate the Final Loss, 只是新增了梯度积累的操作\n",
    "    loss = torch.nanmean(batch_loss)/(gradient_accumulation_steps)\n",
    "\n",
    "    loss.backward() ##反向传播计算梯度\n",
    "\n",
    "    # Compute the learning rate for the current step\n",
    "    lr = cosine_decay(iters, warmup_steps, total_steps, max_lr, min_lr)\n",
    "\n",
    "    # Update the learning rate for the AdamW optimizer\n",
    "    for param_group in optimizer.param_groups:\n",
    "        param_group['lr'] = lr\n",
    "\n",
    "    if (iters+1)%gradient_accumulation_steps==0 or (iters+1)==(len(reasoning_data['train'])//batch_size):\n",
    "        optimizer.step() #update weights after gradients accumulation\n",
    "        ##at last, clear gradients\n",
    "        optimizer.zero_grad() #clear gradients after updating, in this case equal to model.zero_grad()\n",
    "\n",
    "    train_loss_list.append(loss.item()*gradient_accumulation_steps)\n",
    "\n",
    "    if (iters+1)%log_iter==0 or (iters+1)==(len(reasoning_data['train'])//batch_size):\n",
    "      print(f'time:{time.strftime(\"%Y-%m-%d, %H:%M:%S\")}, iters:{iters+1}, last_{log_iter}_iters_average_train_Loss:{np.nanmean(train_loss_list[-log_iter:]):.4f}') ##避免空值影响\n",
    "      log_call(iters, np.nanmean(train_loss_list[-log_iter:]))\n",
    "    #过程中，保存模型\n",
    "    if ((iters+1)*(modelConfig.batch_size))%2000==0:\n",
    "        torch.save(model.state_dict(),f\"./{model_name}_SFT.pth\")\n",
    "\n",
    "print(\"Totally Completed!\")\n",
    "print(f'共计忽略{ignore_iters_count}个批次数据')"
   ]
  },
  {
   "cell_type": "code",
   "execution_count": 50,
   "metadata": {
    "colab": {
     "base_uri": "https://localhost:8080/",
     "height": 472
    },
    "id": "AyczREciH03f",
    "outputId": "5a0af073-7741-4d45-f787-0ac3993223a6"
   },
   "outputs": [
    {
     "data": {
      "image/png": "[encoded data removed]",
      "text/plain": [
       "<Figure size 640x480 with 1 Axes>"
      ]
     },
     "metadata": {},
     "output_type": "display_data"
    }
   ],
   "source": [
    "import matplotlib.pyplot as plt\n",
    "interval = 400\n",
    "# Assuming train_loss_list contains the loss values from your training\n",
    "plt.plot([np.nanmean(train_loss_list[i*interval:(i+1)*interval]) for i in range(len(train_loss_list)//interval)])\n",
    "plt.xlabel('Iterations')\n",
    "plt.ylabel('Loss')\n",
    "plt.title('Training Loss')\n",
    "plt.show()"
   ]
  },
  {
   "cell_type": "markdown",
   "metadata": {
    "id": "jyRpP_zeQcmR"
   },
   "source": [
    "## 3.7、保存模型"
   ]
  },
  {
   "cell_type": "code",
   "execution_count": 51,
   "metadata": {
    "id": "xvMdn1CUQIBd"
   },
   "outputs": [],
   "source": [
    "torch.save(model.state_dict(),f\"./{model_name}_SFT.pth\")"
   ]
  },
  {
   "cell_type": "markdown",
   "metadata": {
    "id": "jPANW5-DQyAa"
   },
   "source": [
    "# 4、测试模型问答效果"
   ]
  },
  {
   "cell_type": "code",
   "execution_count": 52,
   "metadata": {
    "id": "W9ESxiAmXqOK"
   },
   "outputs": [],
   "source": [
    "from typing import List, Dict\n",
    "\n",
    "def new_apply_chat_template(history:List[Dict[str, str]], add_reasoning_generation_prompt:bool=True, add_assistant_generation_prompt:bool=False):\n",
    "  if add_reasoning_generation_prompt:\n",
    "    return \"\".join([f\"<|im_start|>{i['role']}\\n{i['content']}<|im_end|>\\n\" for i in history]) + \"<|im_start|><|reasoning|>\\n\"\n",
    "  if add_assistant_generation_prompt:\n",
    "    return \"\".join([f\"<|im_start|>{i['role']}\\n{i['content']}<|im_end|>\\n\" for i in history]) + \"<|im_start|>assistant\\n\""
   ]
  },
  {
   "cell_type": "code",
   "execution_count": 53,
   "metadata": {
    "colab": {
     "base_uri": "https://localhost:8080/"
    },
    "id": "ysqrsY-Men8h",
    "outputId": "64e3d86d-7e12-4bf4-c4b0-6290f4cf319f"
   },
   "outputs": [
    {
     "data": {
      "text/plain": [
       "{'eos_token': '<|endoftext|>',\n",
       " 'pad_token': '<|endoftext|>',\n",
       " 'additional_special_tokens': ['<|reasoning|>']}"
      ]
     },
     "execution_count": 53,
     "metadata": {},
     "output_type": "execute_result"
    }
   ],
   "source": [
    "tokenizer.special_tokens_map"
   ]
  },
  {
   "cell_type": "code",
   "execution_count": null,
   "metadata": {
    "colab": {
     "base_uri": "https://localhost:8080/",
     "height": 1000
    },
    "id": "T7mWVAFDQ2p5",
    "outputId": "00e9d8b0-d06a-4444-ec12-a7276441e0fe",
    "scrolled": true
   },
   "outputs": [
    {
     "name": "stdin",
     "output_type": "stream",
     "text": [
      "User：\n",
      " Please find all prime numbers within 0-10\n"
     ]
    },
    {
     "name": "stderr",
     "output_type": "stream",
     "text": [
      "The attention mask is not set and cannot be inferred from input because pad token is same as eos token. As a consequence, you may observe unexpected behavior. Please pass your input's `attention_mask` to obtain reliable results.\n"
     ]
    },
    {
     "name": "stdout",
     "output_type": "stream",
     "text": [
      "Please find all prime numbers within 0-10\n",
      "\n",
      "\n",
      "reasoning:\n",
      "\n"
     ]
    },
    {
     "data": {
      "text/markdown": [
       "To find all prime numbers within the range of 0 to 10, we can follow these steps:\n",
       "\n",
       "**Understanding the Problem**\n",
       "\n",
       "The problem asks us to identify and list all prime numbers that fall between 0 and 10. A prime number is a natural number greater than 1 that has no positive divisors other than 1 and itself.\n",
       "\n",
       "**Breaking Down the Problem**\n",
       "\n",
       "To solve this problem, we need to understand what makes a number prime. We know that a prime number cannot be divided evenly by any number other than 1 and itself. Therefore, we need to iterate through each number in the range and check if it is prime.\n",
       "\n",
       "**Defining the Constraints**\n",
       "\n",
       "The constraints for this problem are:\n",
       "* The input range is from 0 to 10.\n",
       "* We need to identify all prime numbers within this range.\n",
       "\n",
       "**Identifying the Key Concepts**\n",
       "\n",
       "The key concepts involved in solving this problem are:\n",
       "* Prime numbers: Numbers that have no divisors other than 1 and themselves.\n",
       "* Iteration: Repeatedly performing a task until a specific condition is met.\n",
       "* Modulo operation: The remainder of a division operation.\n",
       "\n",
       "**Developing the Solution**\n",
       "\n",
       "To develop a solution, we can start by defining a function that checks whether a given number is prime. We can then iterate through each number in the range and call this function to determine if it is prime.\n",
       "\n",
       "Here's a Python implementation of the solution:\n",
       "\n",
       "```python\n",
       "def is_prime(n):\n",
       "    if n <= 1:\n",
       "        return False\n",
       "    for i in range(2, int(n**0.5) + 1):\n",
       "        if n % i == 0:\n",
       "            return False\n",
       "    return True\n",
       "\n",
       "for num in range(0, 11):\n",
       "    if is_prime(num):\n",
       "        print(num)\n",
       "```\n",
       "\n",
       "This code defines a function `is_prime` that takes a number `n` as input and returns `True` if `n` is prime, and `False` otherwise. It uses a loop to iterate through each number in the range and calls the `is_prime` function to determine if it is prime.\n",
       "\n",
       "The outer loop iterates through each number in the range from 0 to 10, inclusive. For each number, the `is_prime` function is called to determine if it is prime. If it is, the number is printed.\n",
       "\n",
       "**Self-Reflection**\n",
       "\n",
       "This solution involves iterating through each number in the range and checking if it is prime using the `is_prime` function. The `is_prime` function checks if the number is less than or equal to 1, and if so, returns `False`. Otherwise, it iterates through each number up to the square root of the number and checks if it is divisible evenly by any number. If it is, the function returns `False`. If not, it returns `True`.\n",
       "\n",
       "The use of the modulo operation (`%`) allows us to determine if a number is divisible evenly by another number. In this case, we check if the number is divisible evenly by any number from 2 to the square root of the number.\n",
       "\n",
       "Overall, this solution is efficient and effective in identifying all prime numbers within the range of 0 to 10.<TKeyö>\n",
       "<TKeyöassistant\n",
       "Certainly! Here's a step-by-step explanation of how we can find all prime numbers within the range of 0 to 10:\n",
       "\n",
       "**Step 1:** Define a function `is_prime(n)` that takes an integer `n` as input and returns `True` if `n` is prime, and `False` otherwise.\n",
       "\n",
       "**Step 2:** Iterate through each number in the range from 0 to 10, inclusive.\n",
       "\n",
       "**Step 3:** For each number, check if it is less than or equal to 1. If so, return `False` because prime numbers are greater than 1.\n",
       "\n",
       "**Step 4:** For each number, iterate through each number from 2 to the square root of the number (inclusive).\n",
       "\n",
       "**Step 5:** Check if the current number is divisible evenly by any number in the range. If it is, return `False` because it is not prime.\n",
       "\n",
       "**Step 6:** If the current number is not divisible evenly by any number in the range, return `True` because it is prime.\n",
       "\n",
       "**Step 7:** Print the prime numbers found in the range.\n",
       "\n",
       "Let's break down each step further:\n",
       "\n",
       "**Step 1:** The `is_prime(n)` function checks if a number `n` is prime. It does this by first checking if `n` is less than or equal to 1. If `n` is less than or equal to 1, it means that `n` is not prime because prime numbers are greater than 1. So, we return `False` in this case.\n",
       "\n",
       "**Step 2:** We iterate through each number in the range from 0 to 10, inclusive. This means we will check every number in this range.\n",
       "\n",
       "**Step 3:** For each number, we check if it is less than or equal to 1. If it is, we immediately return `False` because it is not prime.\n",
       "\n",
       "**Step 4:** We iterate through each number from 2 to the square root of the current number (inclusive). This is where the magic happens. We check if the current number is divisible evenly by any number in this range. If it is, we return `False` because it is not prime.\n",
       "\n",
       "**Step 5:** If the current number is not divisible evenly by any number in the range, we return `True` because it is prime.\n",
       "\n",
       "**Step 6:** We print the prime numbers found in the range. This is important because it helps us verify that our algorithm is working correctly.\n",
       "\n",
       "**Step 7:** Finally, we print the prime numbers found in the range. This is important because it helps us verify that our algorithm is working correctly.\n",
       "\n",
       "By following these steps, we can find all prime numbers within the range of 0 to 10.<TKeyöassistant\n",
       "<TKeyöassistant\n",
       "To find all prime numbers within the range of 0 to 10, we can use the following approach:\n",
       "\n",
       "1. Initialize an empty list to store the prime numbers.\n",
       "2. Iterate through each number in the range from 0 to 10, inclusive.\n",
       "3. For each number, check if it is less than or equal to 1. If so, skip to the next iteration because prime numbers are greater than 1.\n",
       "4. For each number, iterate through each number from 2 to the square root of the number (inclusive).\n",
       "5. Check if the current number is divisible evenly by any number in the range. If it is, skip to the next iteration because it is not prime.\n",
       "6. If the current number is not divisible evenly by any number in the range, add it to the list of prime numbers.\n",
       "7. After the loop finishes, print the list of prime numbers.\n",
       "\n",
       "Here's the code:\n",
       "\n",
       "```python\n",
       "import math\n",
       "\n",
       "# Initialize an empty list to store the prime numbers\n",
       "primes = []\n",
       "\n",
       "# Iterate through each number in the range from 0 to 10, inclusive\n",
       "for num in range(0, 11):\n",
       "    # Skip to the next iteration if the number is less than or equal to 1\n",
       "    if num <= 1:\n",
       "        continue\n",
       "    \n",
       "    # Iterate through each number from 2 to the square root of the number (inclusive)\n",
       "    for i in range(2, int(math.sqrt(num)) + 1):\n",
       "        # Skip to the next iteration if the current number is divisible evenly by any number in the range\n",
       "        if num % i == 0:\n",
       "            continue\n",
       "    \n",
       "    # Add the current number to the list of prime numbers\n",
       "    primes.append(num)\n",
       "\n",
       "# Print the list of prime numbers\n",
       "print(primes)\n",
       "```\n",
       "\n",
       "In this code, we first initialize an empty list `primes` to store the prime numbers. We then iterate through each number in the range from 0 to 10, inclusive. For each number, we check if it is less than or equal to 1. If it is, we skip to the next iteration because prime numbers are greater than 1. Next, we iterate through each number from 2 to the square root of the current number (inclusive). We check if the current number is divisible evenly by any number in the range. If it is, we skip to the next iteration because it is not prime. If the current number is not divisible evenly by any number in the range, we add it to the list of prime numbers. Finally, we print the list of prime numbers.\n",
       "\n",
       "This approach ensures that we find all prime numbers within the range of 0 to 10.<TKeyöassistant\n",
       "<TKeyöassistant\n",
       "To find all prime numbers within the range of 0 to 10, we can use the following approach:\n",
       "\n",
       "1. Initialize an empty list to store the prime numbers.\n",
       "2. Iterate through each number in the range from 0 to 10, inclusive.\n",
       "3. For each number, check if it is less than or equal to 1. If so, skip to the next iteration because prime numbers are greater than 1.\n",
       "4. For each number, iterate through each number from 2 to the square root of the number (inclusive).\n",
       "5. Check if the current number is divisible evenly by any number in the range. If it is, skip to the next iteration because it is not prime.\n",
       "6. If the current number is not divisible evenly by any number in the range, add it to the list of prime numbers.\n",
       "7. After the loop finishes, print the list of prime numbers.\n",
       "\n",
       "Here's the code:\n",
       "\n",
       "```python\n",
       "import math\n",
       "\n",
       "# Initialize an empty list to store the prime numbers\n",
       "primes = []\n",
       "\n",
       "# Iterate through each number in the range from 0 to 10, inclusive\n",
       "for num in range(0, 11):\n",
       "    # Skip to the next iteration if the number is less than or equal to 1\n",
       "    if num <= 1:\n",
       "        continue\n",
       "    \n",
       "    # Iterate through each number from 2 to the square root of the number (inclusive)\n",
       "    for i in range(2, int(math.sqrt(num)) + 1):\n",
       "        # Skip to the next iteration if the current number is divisible evenly by any number in the range\n",
       "        if num % i == 0:\n",
       "            continue\n",
       "    \n",
       "    # Add the current number to the list of prime numbers\n",
       "    primes.append(num)\n",
       "\n",
       "# Print the list of prime numbers\n",
       "print(primes)\n",
       "```\n",
       "\n",
       "In this code, we first initialize an empty list `primes` to store the prime numbers. We then iterate through each number in the range from 0 to 10, inclusive. For each number, we check if it is less than or equal to 1. If it is, we skip to the next iteration because prime numbers are greater than 1. Next, we iterate through each number from 2 to the square root of the current number (inclusive). We check if the current number is divisible evenly by any number in the range. If it is, we skip to the next iteration because it is not prime. If the current number is not divisible evenly by any number in the range, we add it to the list of prime numbers. Finally, we print the list of prime numbers.\n",
       "\n",
       "This approach ensures that we find all prime numbers within the range of 0 to 10<TKeyöassistant\n",
       "<TKeyöassistant\n",
       "To find all prime numbers within the range of 0 to 10, we can use the following approach:\n",
       "\n",
       "1. Initialize an empty list to store the prime numbers.\n",
       "2. Iterate through each number in the range from 0 to 10, inclusive.\n",
       "3. For each number, check if it is less than or equal to 1. If so, skip to the next iteration because prime numbers are greater than 1.\n",
       "4. For each number, iterate through each number from 2 to the square root of the number (inclusive).\n",
       "5. Check if the current number is divisible evenly by any number in the range. If it is, skip to the next iteration because it is not prime.\n",
       "6. If the current number is not divisible evenly by any number in the range, add it to the list of prime numbers.\n",
       "7. After the loop finishes, print the list of prime numbers.\n",
       "\n",
       "Here's the code:\n",
       "\n",
       "```python\n",
       "import math\n",
       "\n",
       "# Initialize an empty list to store the prime numbers\n",
       "primes = []\n",
       "\n",
       "# Iterate through each number in the range from 0 to 10, inclusive\n",
       "for num in range(0, 11):\n",
       "    # Skip to the next iteration if the number is less than or equal to 1\n",
       "    if num <= 1:\n",
       "        continue\n",
       "    \n",
       "    # Iterate through each number from 2 to the square root of the number (inclusive)\n",
       "    for i in range(2, int(math.sqrt(num)) + 1):\n",
       "        # Skip to the next iteration if the current number is divisible evenly by any number in the range\n",
       "        if num % i == 0:\n",
       "            continue\n",
       "    \n",
       "    # Add the current number to the list of prime numbers\n",
       "    primes.append(num)\n",
       "\n",
       "# Print the list of prime numbers\n",
       "print(primes)\n",
       "```\n",
       "\n",
       "In this code, we first initialize an empty list `primes` to store the prime numbers. We then iterate through each number in the range from 0 to 10, inclusive. For each number, we check if it is less than or equal to 1. If it is, we skip to the next iteration because prime numbers are greater than 1. Next, we iterate through each number from 2 to the square root of the current number (inclusive). We check if the current number is divisible evenly by any number in the range. If it is, we skip to the next iteration because it is not prime. If the current number is not divisible evenly by any number in the range, we add it to the list of prime numbers. Finally, we print the list of prime numbers.\n",
       "\n",
       "This approach ensures that we find all prime numbers within the range of 0 to 10<TKeyöassistant\n",
       "<TKeyöassistant\n",
       "To find all prime numbers within the range of 0 to 10, we can use the following approach:\n",
       "\n",
       "1. Initialize an empty list to store the prime numbers.\n",
       "2. Iterate through each number in the range from 0 to 10, inclusive.\n",
       "3. For each number, check if it is less than or equal to 1. If so, skip to the next iteration because prime numbers are"
      ],
      "text/plain": [
       "<IPython.core.display.Markdown object>"
      ]
     },
     "metadata": {},
     "output_type": "display_data"
    },
    {
     "name": "stdout",
     "output_type": "stream",
     "text": [
      "------------\n",
      "\n",
      "\n",
      "assistant:\n",
      "\n"
     ]
    },
    {
     "data": {
      "text/markdown": [
       "greater than 1.\n",
       "4. For each number, iterate through each number from 2 to the square root of the number (inclusive).\n",
       "5. Check if the current number is divisible evenly by any number in the range. If it is, skip to the next iteration because it is not prime.\n",
       "6. If the current number is not divisible evenly by any number in the range, add it to the list of prime numbers.\n",
       "7. After the loop finishes, print the list of prime numbers.\n",
       "\n",
       "Here's the code:\n",
       "\n",
       "```python\n",
       "import math\n",
       "\n",
       "# Initialize an empty list to store the prime numbers\n",
       "primes = []\n",
       "\n",
       "# Iterate through each number in the range from 0 to 10, inclusive\n",
       "for num in range(0, 11):\n",
       "    # Skip to the next iteration if the number is less than or equal to 1\n",
       "    if num <= 1:\n",
       "        continue\n",
       "    \n",
       "    # Iterate through each number from 2 to the square root of the number (inclusive)\n",
       "    for i in range(2, int(math.sqrt(num)) + 1):\n",
       "        # Skip to the next iteration if the current number is divisible evenly by any number in the range\n",
       "        if num % i == 0:\n",
       "            continue\n",
       "    \n",
       "    # Add the current number to the list of prime numbers\n",
       "    primes.append(num)\n",
       "\n",
       "# Print the list of prime numbers\n",
       "print(primes)\n",
       "```\n",
       "\n",
       "In this code, we first initialize an empty list `primes` to store the prime numbers. We then iterate through each number in the range from 0 to 10, inclusive. For each number, we check if it is less than or equal to 1. If it is, we skip to the next iteration because prime numbers are greater than 1. Next, we iterate through each number from 2 to the square root of the current number (inclusive). We check if the current number is divisible evenly by any number in the range. If it is, we skip to the next iteration because it is not prime. If the current number is not divisible evenly by any number in the range, we add it to the list of prime numbers. Finally, we print the list of prime numbers.\n",
       "\n",
       "This approach ensures that we find all prime numbers within the range of 0 to 10<TKeyöassistant\n",
       "<TKeyöassistant\n",
       "To find all prime numbers within the range of 0 to 10, we can use the following approach:\n",
       "\n",
       "1. Initialize an empty list to store the prime numbers.\n",
       "2. Iterate through each number in the range from 0 to 10, inclusive.\n",
       "3. For each number, check if it is less than or equal to 1. If so, skip to the next iteration because prime numbers are greater than 1.\n",
       "4. For each number, iterate through each number from 2 to the square root of the number (inclusive).\n",
       "5. Check if the current number is divisible evenly by any number in the range. If it is, skip to the next iteration because it is not prime.\n",
       "6. If the current number is not divisible evenly by any number in the range, add it to the list of prime numbers.\n",
       "7. After the loop finishes, print the list of prime numbers.\n",
       "\n",
       "Here's the code:\n",
       "\n",
       "```python\n",
       "import math\n",
       "\n",
       "# Initialize an empty list to store the prime numbers\n",
       "primes = []\n",
       "\n",
       "# Iterate through each number in the range from 0 to 10, inclusive\n",
       "for num in range(0, 11):\n",
       "    # Skip to the next iteration if the number is less than or equal to 1\n",
       "    if num <= 1:\n",
       "        continue\n",
       "    \n",
       "    # Iterate through each number from 2 to the square root of the number (inclusive)\n",
       "    for i in range(2, int(math.sqrt(num)) + 1):\n",
       "        # Skip to the next iteration if the current number is divisible evenly by any number in the range\n",
       "        if num % i == 0:\n",
       "            continue\n",
       "    \n",
       "    # Add the current number to the list of prime numbers\n",
       "    primes.append(num)\n",
       "\n",
       "# Print the list of prime numbers\n",
       "print(primes)\n",
       "```\n",
       "\n",
       "In this code, we first initialize an empty list `primes` to store the prime numbers. We then iterate through each number in the range from 0 to 10, inclusive. For each number, we check if it is less than or equal to 1. If it is, we skip to the next iteration because prime numbers are greater than 1. Next, we iterate through each number from 2 to the square root of the current number (inclusive). We check if the current number is divisible evenly by any number in the range. If it is, we skip to the next iteration because it is not prime. If the current number is not divisible evenly by any number in the range, we add it to the list of prime numbers. Finally, we print the list of prime numbers.\n",
       "\n",
       "This approach ensures that we find all prime numbers within the range of 0 to 10<TKeyöassistant\n",
       "<TKeyöassistant\n",
       "To find all prime numbers within the range of 0 to 10, we can use the following approach:\n",
       "\n",
       "1. Initialize an empty list to store the prime numbers.\n",
       "2. Iterate through each number in the range from 0 to 10, inclusive.\n",
       "3. For each number, check if it is less than or equal to 1. If so, skip to the next iteration because prime numbers are greater than 1.\n",
       "4. For each number, iterate through each number from 2 to the square root of the number (inclusive).\n",
       "5. Check if the current number is divisible evenly by any number in the range. If it is, skip to the next iteration because it is not prime.\n",
       "6. If the current number is not divisible evenly by any number in the range, add it to the list of prime numbers.\n",
       "7. After the loop finishes, print the list of prime numbers.\n",
       "\n",
       "Here's the code:\n",
       "\n",
       "```python\n",
       "import math\n",
       "\n",
       "# Initialize an empty list to store the prime numbers\n",
       "primes = []\n",
       "\n",
       "# Iterate through each number in the range from 0 to 10, inclusive\n",
       "for num in range(0, 11):\n",
       "    # Skip to the next iteration if the number is less than or equal to 1\n",
       "    if num <= 1:\n",
       "        continue\n",
       "    \n",
       "    # Iterate through each number from 2 to the square root of the number (inclusive)\n",
       "    for i in range(2, int(math.sqrt(num)) + 1):\n",
       "        # Skip to the next iteration if the current number is divisible evenly by any number in the range\n",
       "        if num % i == 0:\n",
       "            continue\n",
       "    \n",
       "    # Add the current number to the list of prime numbers\n",
       "    primes.append(num)\n",
       "\n",
       "# Print the list of prime numbers\n",
       "print(primes)\n",
       "```\n",
       "\n",
       "In this code, we first initialize an empty list `primes` to store the prime numbers. We then iterate through each number in the range from 0 to 10, inclusive. For each number, we check if it is less than or equal to 1. If it is, we skip to the next iteration because prime numbers are greater than 1. Next, we iterate through each number from 2 to the square root of the current number (inclusive). We check if the current number is divisible evenly by any number in the range. If it is, we skip to the next iteration because it is not prime. If the current number is not divisible evenly by any number in the range, we add it to the list of prime numbers. Finally, we print the list of prime numbers.\n",
       "\n",
       "This approach ensures that we find all prime numbers within the range of 0 to 10<TKeyöassistant\n",
       "<TKeyöassistant\n",
       "To find all prime numbers within the range of 0 to 10, we can use the following approach:\n",
       "\n",
       "1. Initialize an empty list to store the prime numbers.\n",
       "2. Iterate through each number in the range from 0 to 10, inclusive.\n",
       "3. For each number, check if it is less than or equal to 1. If so, skip to the next iteration because prime numbers are greater than 1.\n",
       "4. For each number, iterate through each number from 2 to the square root of the number (inclusive).\n",
       "5. Check if the current number is divisible evenly by any number in the range. If it is, skip to the next iteration because it is not prime.\n",
       "6. If the current number is not divisible evenly by any number in the range, add it to the list of prime numbers.\n",
       "7. After the loop finishes, print the list of prime numbers.\n",
       "\n",
       "Here's the code:\n",
       "\n",
       "```python\n",
       "import math\n",
       "\n",
       "# Initialize an empty list to store the prime numbers\n",
       "primes = []\n",
       "\n",
       "# Iterate through each number in the range from 0 to 10, inclusive\n",
       "for num in range(0, 11):\n",
       "    # Skip to the next iteration if the number is less than or equal to 1\n",
       "    if num <= 1:\n",
       "        continue\n",
       "    \n",
       "    # Iterate through each number from 2 to the square root of the number (inclusive)\n",
       "    for i in range(2, int(math.sqrt(num)) + 1):\n",
       "        # Skip to the next iteration if the current number is divisible evenly by any number in the range\n",
       "        if num % i == 0:\n",
       "            continue\n",
       "    \n",
       "    # Add the current number to the list of prime numbers\n",
       "    primes.append(num)\n",
       "\n",
       "# Print the list of prime numbers\n",
       "print(primes)\n",
       "```\n",
       "\n",
       "In this code, we first initialize an empty list `primes` to store the prime numbers. We then iterate through each number in the range from 0 to 10, inclusive. For each number, we check if it is less than or equal to 1. If it is, we skip to the next iteration because prime numbers are greater than 1. Next, we iterate through each number from 2 to the square root of the current number (inclusive). We check if the current number is divisible evenly by any number in the range. If it is, we skip to the next iteration because it is not prime. If the current number is not divisible evenly by any number in the range, we add it to the list of prime numbers. Finally, we print the list of prime numbers.\n",
       "\n",
       "This approach ensures that we find all prime numbers within the range of 0 to 10<TKeyöassistant\n",
       "<TKeyöassistant\n",
       "To find all prime numbers within the range of 0 to 10, we can use the following approach:\n",
       "\n",
       "1. Initialize an empty list to store the prime numbers.\n",
       "2. Iterate through each number in the range from 0 to 10, inclusive.\n",
       "3. For each number, check if it is less than or equal to 1. If so, skip to the next iteration because prime numbers are greater than 1.\n",
       "4. For each number, iterate through each number from 2 to the square root of the number (inclusive).\n",
       "5. Check if the current number is divisible evenly by any number in the range. If it is, skip to the next iteration because it is not prime.\n",
       "6. If the current number is not divisible evenly by any number in the range, add it to the list of prime numbers.\n",
       "7. After the loop finishes, print the list of prime numbers.\n",
       "\n",
       "Here's the code:\n",
       "\n",
       "```python\n",
       "import math\n",
       "\n",
       "# Initialize an empty list to store the prime numbers\n",
       "primes = []\n",
       "\n",
       "# Iterate through each number in the range from 0 to 10, inclusive\n",
       "for num in range(0, 11):\n",
       "    # Skip to the next iteration if the number is less than or equal to 1\n",
       "    if num <= 1:\n",
       "        continue\n",
       "    \n",
       "    # Iterate through each number from 2 to the square root of the number (inclusive)\n",
       "    for i in range(2, int(math.sqrt(num)) + 1):\n",
       "        # Skip to the next iteration if the current number is divisible evenly by any number in the range\n",
       "        if num % i == 0:\n",
       "            continue\n",
       "    \n",
       "    # Add the current number to the list of prime numbers\n",
       "    primes.append(num)\n",
       "\n",
       "# Print the list of prime numbers\n",
       "print(primes)\n",
       "```\n",
       "\n",
       "In this code, we first initialize an empty list `primes` to store the prime numbers. We then iterate through each number in the range from 0 to 10, inclusive. For each number, we check if it is less than or equal to 1. If it is, we skip to the next iteration because prime numbers are greater than 1. Next, we iterate through each number from 2 to the square root of the current number (inclusive). We check if the current number is divisible evenly by any number in the range. If it is, we skip to the next iteration because it is not prime. If the current number is not divisible evenly by any number in the range, we add it to the list of prime numbers. Finally, we print the list of prime numbers.\n",
       "\n",
       "This approach ensures that we find all prime numbers within the range of 0 to 10<TKeyöassistant\n",
       "<TKeyöassistant\n",
       "To find all prime numbers within the range of 0 to 10, we can use the following approach:\n",
       "\n",
       "1. Initialize an empty list to store the prime numbers.\n",
       "2. Iterate through each number in the range from 0 to 10, inclusive.\n",
       "3. For each number, check if it is less than or equal to 1. If so, skip to the next iteration because prime numbers are greater than 1.\n",
       "4. For each number, iterate through each number from 2 to the square root of the number (inclusive).\n",
       "5. Check if the current number is divisible evenly by any number in the range. If it is, skip to the next iteration because it is not prime.\n",
       "6. If the current number is not divisible evenly by any number in the range, add it to the list of prime numbers.\n",
       "7. After the loop finishes, print the list of prime numbers.\n",
       "\n",
       "Here's the code:\n",
       "\n",
       "```python\n",
       "import math\n",
       "\n",
       "# Initialize an empty list to store the prime numbers\n",
       "primes = []\n",
       "\n",
       "# Iterate through each number in the range from 0 to 10, inclusive\n",
       "for num in range(0, 11):\n",
       "    # Skip to the next iteration if the number is less than or equal to 1\n",
       "    if num <= 1:\n",
       "        continue\n",
       "    \n",
       "    # Iterate through each number from 2 to the square root of the number (inclusive)\n",
       "    for"
      ],
      "text/plain": [
       "<IPython.core.display.Markdown object>"
      ]
     },
     "metadata": {},
     "output_type": "display_data"
    },
    {
     "name": "stdout",
     "output_type": "stream",
     "text": [
      "------------\n"
     ]
    },
    {
     "name": "stdin",
     "output_type": "stream",
     "text": [
      "User：\n",
      " Please find all prime numbers within 0-10, don't use code.\n"
     ]
    },
    {
     "name": "stdout",
     "output_type": "stream",
     "text": [
      "Please find all prime numbers within 0-10, don't use code.\n",
      "\n",
      "\n",
      "reasoning:\n",
      "\n"
     ]
    },
    {
     "data": {
      "text/markdown": [
       "To find all prime numbers within the range of 0 to 10, we can use the following approach:\n",
       "\n",
       "1. Initialize an empty list to store the prime numbers.\n",
       "2. Iterate through each number in the range from 0 to 10, inclusive.\n",
       "3. For each number, check if it is less than or equal to 1. If so, skip to the next iteration because prime numbers are greater than 1.\n",
       "4. For each number, iterate through each number from 2 to the square root of the number (inclusive).\n",
       "5. Check if the current number is divisible evenly by any number in the range. If it is, skip to the next iteration because it is not prime.\n",
       "6. If the current number is not divisible evenly by any number in the range, add it to the list of prime numbers.\n",
       "7. After the loop finishes, print the list of prime numbers.\n",
       "\n",
       "Here's the code:\n",
       "\n",
       "```python\n",
       "import math\n",
       "\n",
       "# Initialize an empty list to store the prime numbers\n",
       "primes = []\n",
       "\n",
       "# Iterate through each number in the range from 0 to 10, inclusive\n",
       "for num in range(0, 11):\n",
       "    # Skip to the next iteration if the number is less than or equal to 1\n",
       "    if num <= 1:\n",
       "        continue\n",
       "    \n",
       "    # Iterate through each number from 2 to the square root of the number (inclusive)\n",
       "    for i in range(2, int(math.sqrt(num)) + 1):\n",
       "        # Skip to the next iteration if the current number is divisible evenly by any number in the range\n",
       "        if num % i == 0:\n",
       "            continue\n",
       "    \n",
       "    # Add the current number to the list of prime numbers\n",
       "    primes.append(num)\n",
       "\n",
       "# Print the list of prime numbers\n",
       "print(primes)\n",
       "```\n",
       "\n",
       "In this code, we first initialize an empty list `primes` to store the prime numbers. We then iterate through each number in the range from 0 to 10, inclusive. For each number, we check if it is less than or equal to 1. If it is, we skip to the next iteration because prime numbers are greater than 1. Next, we iterate through each number from 2 to the square root of the current number (inclusive). We check if the current number is divisible evenly by any number in the range. If it is, we skip to the next iteration because it is not prime. If the current number is not divisible evenly by any number in the range, we add it to the list of prime numbers. Finally, we print the list of prime numbers.\n",
       "\n",
       "This approach ensures that we find all prime numbers within the range of 0 to 10<TKeyöassistant\n",
       "<TKeyöassistant\n",
       "To find all prime numbers within the range of 0 to 10, we can use the following approach:\n",
       "\n",
       "1. Initialize an empty list to store the prime numbers.\n",
       "2. Iterate through each number in the range from 0 to 10, inclusive.\n",
       "3. For each number, check if it is less than or equal to 1. If so, skip to the next iteration because prime numbers are greater than 1.\n",
       "4. For each number, iterate through each number from 2 to the square root of the number (inclusive).\n",
       "5. Check if the current number is divisible evenly by any number in the range. If it is, skip to the next iteration because it is not prime.\n",
       "6. If the current number is not divisible evenly by any number in the range, add it to the list of prime numbers.\n",
       "7. After the loop finishes, print the list of prime numbers.\n",
       "\n",
       "Here's the code:\n",
       "\n",
       "```python\n",
       "import math\n",
       "\n",
       "# Initialize an empty list to store the prime numbers\n",
       "primes = []\n",
       "\n",
       "# Iterate through each number in the range from 0 to 10, inclusive\n",
       "for num in range(0, 11):\n",
       "    # Skip to the next iteration if the number is less than or equal to 1\n",
       "    if num <= 1:\n",
       "        continue\n",
       "    \n",
       "    # Iterate through each number from 2 to the square root of the number (inclusive)\n",
       "    for i in range(2, int(math.sqrt(num)) + 1):\n",
       "        # Skip to the next iteration if the current number is divisible evenly by any number in the range\n",
       "        if num % i == 0:\n",
       "            continue\n",
       "    \n",
       "    # Add the current number to the list of prime numbers\n",
       "    primes.append(num)\n",
       "\n",
       "# Print the list of prime numbers\n",
       "print(primes)\n",
       "```\n",
       "\n",
       "In this code, we first initialize an empty list `primes` to store the prime numbers. We then iterate through each number in the range from 0 to 10, inclusive. For each number, we check if it is less than or equal to 1. If it is, we skip to the next iteration because prime numbers are greater than 1. Next, we iterate through each number from 2 to the square root of the current number (inclusive). We check if the current number is divisible evenly by any number in the range. If it is, we skip to the next iteration because it is not prime. If the current number is not divisible evenly by any number in the range, we add it to the list of prime numbers. Finally, we print the list of prime numbers.\n",
       "\n",
       "This approach ensures that we find all prime numbers within the range of 0 to 10<TKeyöassistant\n",
       "<TKeyöassistant\n",
       "To find all prime numbers within the range of 0 to 10, we can use the following approach:\n",
       "\n",
       "1. Initialize an empty list to store the prime numbers.\n",
       "2. Iterate through each number in the range from 0 to 10, inclusive.\n",
       "3. For each number, check if it is less than or equal to 1. If so, skip to the next iteration because prime numbers are greater than 1.\n",
       "4. For each number, iterate through each number from 2 to the square root of the number (inclusive).\n",
       "5. Check if the current number is divisible evenly by any number in the range. If it is, skip to the next iteration because it is not prime.\n",
       "6. If the current number is not divisible evenly by any number in the range, add it to the list of prime numbers.\n",
       "7. After the loop finishes, print the list of prime numbers.\n",
       "\n",
       "Here's the code:\n",
       "\n",
       "```python\n",
       "import math\n",
       "\n",
       "# Initialize an empty list to store the prime numbers\n",
       "primes = []\n",
       "\n",
       "# Iterate through each number in the range from 0 to 10, inclusive\n",
       "for num in range(0, 11):\n",
       "    # Skip to the next iteration if the number is less than or equal to 1\n",
       "    if num <= 1:\n",
       "        continue\n",
       "    \n",
       "    # Iterate through each number from 2 to the square root of the number (inclusive)\n",
       "    for i in range(2, int(math.sqrt(num)) + 1):\n",
       "        # Skip to the next iteration if the current number is divisible evenly by any number in the range\n",
       "        if num % i == 0:\n",
       "            continue\n",
       "    \n",
       "    # Add the current number to the list of prime numbers\n",
       "    primes.append(num)\n",
       "\n",
       "# Print the list of prime numbers\n",
       "print(primes)\n",
       "```\n",
       "\n",
       "In this code, we first initialize an empty list `primes` to store the prime numbers. We then iterate through each number in the range from 0 to 10, inclusive. For each number, we check if it is less than or equal to 1. If it is, we skip to the next iteration because prime numbers are greater than 1. Next, we iterate through each number from 2 to the square root of the current number (inclusive). We check if the current number is divisible evenly by any number in the range. If it is, we skip to the next iteration because it is not prime. If the current number is not divisible evenly by any number in the range, we add it to the list of prime numbers. Finally, we print the list of prime numbers.\n",
       "\n",
       "This approach ensures that we find all prime numbers within the range of 0 to 10<TKeyöassistant\n",
       "<TKeyöassistant\n",
       "To find all prime numbers within the range of 0 to 10, we can use the following approach:\n",
       "\n",
       "1. Initialize an empty list to store the prime numbers.\n",
       "2. Iterate through each number in the range from 0 to 10, inclusive.\n",
       "3. For each number, check if it is less than or equal to 1. If so, skip to the next iteration because prime numbers are greater than 1.\n",
       "4. For each number, iterate through each number from 2 to the square root of the number (inclusive).\n",
       "5. Check if the current number is divisible evenly by any number in the range. If it is, skip to the next iteration because it is not prime.\n",
       "6. If the current number is not divisible evenly by any number in the range, add it to the list of prime numbers.\n",
       "7. After the loop finishes, print the list of prime numbers.\n",
       "\n",
       "Here's the code:\n",
       "\n",
       "```python\n",
       "import math\n",
       "\n",
       "# Initialize an empty list to store the prime numbers\n",
       "primes = []\n",
       "\n",
       "# Iterate through each number in the range from 0 to 10, inclusive\n",
       "for num in range(0, 11):\n",
       "    # Skip to the next iteration if the number is less than or equal to 1\n",
       "    if num <= 1:\n",
       "        continue\n",
       "    \n",
       "    # Iterate through each number from 2 to the square root of the number (inclusive)\n",
       "    for i in range(2, int(math.sqrt(num)) + 1):\n",
       "        # Skip to the next iteration if the current number is divisible evenly by any number in the range\n",
       "        if num % i == 0:\n",
       "            continue\n",
       "    \n",
       "    # Add the current number to the list of prime numbers\n",
       "    primes.append(num)\n",
       "\n",
       "# Print the list of prime numbers\n",
       "print(primes)\n",
       "```\n",
       "\n",
       "In this code, we first initialize an empty list `primes` to store the prime numbers. We then iterate through each number in the range from 0 to 10, inclusive. For each number, we check if it is less than or equal to 1. If it is, we skip to the next iteration because prime numbers are greater than 1. Next, we iterate through each number from 2 to the square root of the current number (inclusive). We check if the current number is divisible evenly by any number in the range. If it is, we skip to the next iteration because it is not prime. If the current number is not divisible evenly by any number in the range, we add it to the list of prime numbers. Finally, we print the list of prime numbers.\n",
       "\n",
       "This approach ensures that we find all prime numbers within the range of 0 to 10<TKeyöassistant\n",
       "<TKeyöassistant\n",
       "To find all prime numbers within the range of 0 to 10, we can use the following approach:\n",
       "\n",
       "1. Initialize an empty list to store the prime numbers.\n",
       "2. Iterate through each number in the range from 0 to 10, inclusive.\n",
       "3. For each number, check if it is less than or equal to 1. If so, skip to the next iteration because prime numbers are greater than 1.\n",
       "4. For each number, iterate through each number from 2 to the square root of the number (inclusive).\n",
       "5. Check if the current number is divisible evenly by any number in the range. If it is, skip to the next iteration because it is not prime.\n",
       "6. If the current number is not divisible evenly by any number in the range, add it to the list of prime numbers.\n",
       "7. After the loop finishes, print the list of prime numbers.\n",
       "\n",
       "Here's the code:\n",
       "\n",
       "```python\n",
       "import math\n",
       "\n",
       "# Initialize an empty list to store the prime numbers\n",
       "primes = []\n",
       "\n",
       "# Iterate through each number in the range from 0 to 10, inclusive\n",
       "for num in range(0, 11):\n",
       "    # Skip to the next iteration if the number is less than or equal to 1\n",
       "    if num <= 1:\n",
       "        continue\n",
       "    \n",
       "    # Iterate through each number from 2 to the square root of the number (inclusive)\n",
       "    for i in range(2, int(math.sqrt(num)) + 1):\n",
       "        # Skip to the next iteration if the current number is divisible evenly by any number in the range\n",
       "        if num % i == 0:\n",
       "            continue\n",
       "    \n",
       "    # Add the current number to the list of prime numbers\n",
       "    primes.append(num)\n",
       "\n",
       "# Print the list of prime numbers\n",
       "print(primes)\n",
       "```\n",
       "\n",
       "In this code, we first initialize an empty list `primes` to store the prime numbers. We then iterate through each number in the range from 0 to 10, inclusive. For each number, we check if it is less than or equal to 1. If it is, we skip to the next iteration because prime numbers are greater than 1. Next, we iterate through each number from 2 to the square root of the current number (inclusive). We check if the current number is divisible evenly by any number in the range. If it is, we skip to the next iteration because it is not prime. If the current number is not divisible evenly by any number in the range, we add it to the list of prime numbers. Finally, we print the list of prime numbers.\n",
       "\n",
       "This approach ensures that we find all prime numbers within the range of 0 to 10<TKeyöassistant\n",
       "<TKeyöassistant\n",
       "To find all prime numbers within the range of 0 to 10, we can use the following approach:\n",
       "\n",
       "1. Initialize an empty list to store the prime numbers.\n",
       "2. Iterate through each number in the range from 0 to 10, inclusive.\n",
       "3. For each number, check if it is less than or equal to 1. If so, skip to the next iteration because prime numbers are greater than 1.\n",
       "4. For each number, iterate through each number from 2 to the square root of the number (inclusive).\n",
       "5. Check if the current number is divisible evenly by any number in the range. If it is, skip to the next iteration because it is not prime.\n",
       "6. If the current number is not divisible evenly by any number in the range, add it to the list of prime numbers.\n",
       "7. After the loop finishes, print the list of prime numbers.\n",
       "\n",
       "Here's the code:\n",
       "\n",
       "```python\n",
       "import math\n",
       "\n",
       "# Initialize an empty list to store the prime numbers"
      ],
      "text/plain": [
       "<IPython.core.display.Markdown object>"
      ]
     },
     "metadata": {},
     "output_type": "display_data"
    },
    {
     "name": "stdout",
     "output_type": "stream",
     "text": [
      "------------\n",
      "\n",
      "\n",
      "assistant:\n",
      "\n"
     ]
    },
    {
     "data": {
      "text/markdown": [
       "```"
      ],
      "text/plain": [
       "<IPython.core.display.Markdown object>"
      ]
     },
     "metadata": {},
     "output_type": "display_data"
    },
    {
     "name": "stdout",
     "output_type": "stream",
     "text": [
      "------------\n"
     ]
    }
   ],
   "source": [
    "from IPython.display import Markdown, display\n",
    "\n",
    "history = []\n",
    "history.append({\"role\": \"system\", \"content\": \"You are a helpful assistant\"})\n",
    "while True:\n",
    "    question = input('User：' + '\\n')\n",
    "    print(question)\n",
    "    print('\\n')\n",
    "    history.append({\"role\": \"user\", \"content\": question})\n",
    "\n",
    "    input_text = new_apply_chat_template(\n",
    "            history,\n",
    "            add_reasoning_generation_prompt=True\n",
    "        )\n",
    "    model_inputs = tokenizer([input_text], return_tensors=\"pt\").to(device)\n",
    "\n",
    "    if model_inputs.input_ids.size()[1]>32000:\n",
    "        break\n",
    "\n",
    "    generated_ids = model.generate(\n",
    "        model_inputs.input_ids,\n",
    "        max_new_tokens=3000\n",
    "    )\n",
    "\n",
    "    if len(generated_ids)>32000:\n",
    "        break\n",
    "\n",
    "    generated_ids = [output_ids[len(input_ids):] for input_ids, output_ids in zip(model_inputs.input_ids, generated_ids)]\n",
    "\n",
    "    reasoning_response = tokenizer.batch_decode(generated_ids, skip_special_tokens=True)[0]\n",
    "    history.append({\"role\": \"<|reasoning|>\", \"content\": reasoning_response})\n",
    "    print('reasoning:\\n')\n",
    "    #print(response)\n",
    "    display(Markdown(reasoning_response))\n",
    "    print(\"------------\")\n",
    "    print('\\n')\n",
    "\n",
    "    input_text = new_apply_chat_template(\n",
    "            history,\n",
    "            add_assistant_generation_prompt=True\n",
    "        )\n",
    "    model_inputs = tokenizer([input_text], return_tensors=\"pt\").to(device)\n",
    "\n",
    "    if model_inputs.input_ids.size()[1]>32000:\n",
    "        break\n",
    "\n",
    "    generated_ids = model.generate(\n",
    "        model_inputs.input_ids,\n",
    "        max_new_tokens=3000\n",
    "    )\n",
    "\n",
    "    if len(generated_ids)>32000:\n",
    "        break\n",
    "\n",
    "    generated_ids = [output_ids[len(input_ids):] for input_ids, output_ids in zip(model_inputs.input_ids, generated_ids)]\n",
    "\n",
    "    assistant_response = tokenizer.batch_decode(generated_ids, skip_special_tokens=True)[0]\n",
    "    history.append({\"role\": \"assistant\", \"content\": assistant_response})\n",
    "    print('assistant:\\n')\n",
    "    display(Markdown(assistant_response))\n",
    "    print(\"------------\")\n",
    "\n",
    "print(\"超过模型字数上线，已退出\")"
   ]
  },
  {
   "cell_type": "code",
   "execution_count": null,
   "metadata": {},
   "outputs": [],
   "source": []
  }
 ],
 "metadata": {
  "accelerator": "GPU",
  "colab": {
   "gpuType": "A100",
   "machine_shape": "hm",
   "provenance": []
  },
  "kernelspec": {
   "display_name": "Python 3 (ipykernel)",
   "language": "python",
   "name": "python3"
  },
  "language_info": {
   "codemirror_mode": {
    "name": "ipython",
    "version": 3
   },
   "file_extension": ".py",
   "mimetype": "text/x-python",
   "name": "python",
   "nbconvert_exporter": "python",
   "pygments_lexer": "ipython3",
   "version": "3.10.8"
  },
  "widgets": {
   "application/vnd.jupyter.widget-state+json": {
    "002465c05b71462198afe7ffee5f23e6": {
     "model_module": "@jupyter-widgets/controls",
     "model_module_version": "1.5.0",
     "model_name": "HTMLModel",
     "state": {
      "_dom_classes": [],
      "_model_module": "@jupyter-widgets/controls",
      "_model_module_version": "1.5.0",
      "_model_name": "HTMLModel",
      "_view_count": null,
      "_view_module": "@jupyter-widgets/controls",
      "_view_module_version": "1.5.0",
      "_view_name": "HTMLView",
      "description": "",
      "description_tooltip": null,
      "layout": "IPY_MODEL_3bfcfec6942b4b32a46a9b2c43227d8d",
      "placeholder": "​",
      "style": "IPY_MODEL_95ad4875749843a2b1cf08987c682df9",
      "value": "Map: 100%"
     }
    },
    "006b088e27734f77a03883739f69042b": {
     "model_module": "@jupyter-widgets/base",
     "model_module_version": "1.2.0",
     "model_name": "LayoutModel",
     "state": {
      "_model_module": "@jupyter-widgets/base",
      "_model_module_version": "1.2.0",
      "_model_name": "LayoutModel",
      "_view_count": null,
      "_view_module": "@jupyter-widgets/base",
      "_view_module_version": "1.2.0",
      "_view_name": "LayoutView",
      "align_content": null,
      "align_items": null,
      "align_self": null,
      "border": null,
      "bottom": null,
      "display": null,
      "flex": null,
      "flex_flow": null,
      "grid_area": null,
      "grid_auto_columns": null,
      "grid_auto_flow": null,
      "grid_auto_rows": null,
      "grid_column": null,
      "grid_gap": null,
      "grid_row": null,
      "grid_template_areas": null,
      "grid_template_columns": null,
      "grid_template_rows": null,
      "height": null,
      "justify_content": null,
      "justify_items": null,
      "left": null,
      "margin": null,
      "max_height": null,
      "max_width": null,
      "min_height": null,
      "min_width": null,
      "object_fit": null,
      "object_position": null,
      "order": null,
      "overflow": null,
      "overflow_x": null,
      "overflow_y": null,
      "padding": null,
      "right": null,
      "top": null,
      "visibility": null,
      "width": null
     }
    },
    "00cfba85032949a98b31f4bffbb89274": {
     "model_module": "@jupyter-widgets/controls",
     "model_module_version": "1.5.0",
     "model_name": "HTMLModel",
     "state": {
      "_dom_classes": [],
      "_model_module": "@jupyter-widgets/controls",
      "_model_module_version": "1.5.0",
      "_model_name": "HTMLModel",
      "_view_count": null,
      "_view_module": "@jupyter-widgets/controls",
      "_view_module_version": "1.5.0",
      "_view_name": "HTMLView",
      "description": "",
      "description_tooltip": null,
      "layout": "IPY_MODEL_01737b33fe7e4aef9bdfa46fb5352daf",
      "placeholder": "​",
      "style": "IPY_MODEL_4d206ca710734371a9ca172f1fbd0f79",
      "value": " 1.79k/1.79k [00:00&lt;00:00, 130kB/s]"
     }
    },
    "01143789eb8f46379f9ce7b3e51ba846": {
     "model_module": "@jupyter-widgets/controls",
     "model_module_version": "1.5.0",
     "model_name": "DescriptionStyleModel",
     "state": {
      "_model_module": "@jupyter-widgets/controls",
      "_model_module_version": "1.5.0",
      "_model_name": "DescriptionStyleModel",
      "_view_count": null,
      "_view_module": "@jupyter-widgets/base",
      "_view_module_version": "1.2.0",
      "_view_name": "StyleView",
      "description_width": ""
     }
    },
    "01737b33fe7e4aef9bdfa46fb5352daf": {
     "model_module": "@jupyter-widgets/base",
     "model_module_version": "1.2.0",
     "model_name": "LayoutModel",
     "state": {
      "_model_module": "@jupyter-widgets/base",
      "_model_module_version": "1.2.0",
      "_model_name": "LayoutModel",
      "_view_count": null,
      "_view_module": "@jupyter-widgets/base",
      "_view_module_version": "1.2.0",
      "_view_name": "LayoutView",
      "align_content": null,
      "align_items": null,
      "align_self": null,
      "border": null,
      "bottom": null,
      "display": null,
      "flex": null,
      "flex_flow": null,
      "grid_area": null,
      "grid_auto_columns": null,
      "grid_auto_flow": null,
      "grid_auto_rows": null,
      "grid_column": null,
      "grid_gap": null,
      "grid_row": null,
      "grid_template_areas": null,
      "grid_template_columns": null,
      "grid_template_rows": null,
      "height": null,
      "justify_content": null,
      "justify_items": null,
      "left": null,
      "margin": null,
      "max_height": null,
      "max_width": null,
      "min_height": null,
      "min_width": null,
      "object_fit": null,
      "object_position": null,
      "order": null,
      "overflow": null,
      "overflow_x": null,
      "overflow_y": null,
      "padding": null,
      "right": null,
      "top": null,
      "visibility": null,
      "width": null
     }
    },
    "07e127b8f0244ee78c3b5014cf311e91": {
     "model_module": "@jupyter-widgets/controls",
     "model_module_version": "1.5.0",
     "model_name": "ProgressStyleModel",
     "state": {
      "_model_module": "@jupyter-widgets/controls",
      "_model_module_version": "1.5.0",
      "_model_name": "ProgressStyleModel",
      "_view_count": null,
      "_view_module": "@jupyter-widgets/base",
      "_view_module_version": "1.2.0",
      "_view_name": "StyleView",
      "bar_color": null,
      "description_width": ""
     }
    },
    "0855ea4d4a684f53acb099b20bbd2606": {
     "model_module": "@jupyter-widgets/controls",
     "model_module_version": "1.5.0",
     "model_name": "DescriptionStyleModel",
     "state": {
      "_model_module": "@jupyter-widgets/controls",
      "_model_module_version": "1.5.0",
      "_model_name": "DescriptionStyleModel",
      "_view_count": null,
      "_view_module": "@jupyter-widgets/base",
      "_view_module_version": "1.2.0",
      "_view_name": "StyleView",
      "description_width": ""
     }
    },
    "09753c16b5c949d987236ee940ec5fa3": {
     "model_module": "@jupyter-widgets/controls",
     "model_module_version": "1.5.0",
     "model_name": "ProgressStyleModel",
     "state": {
      "_model_module": "@jupyter-widgets/controls",
      "_model_module_version": "1.5.0",
      "_model_name": "ProgressStyleModel",
      "_view_count": null,
      "_view_module": "@jupyter-widgets/base",
      "_view_module_version": "1.2.0",
      "_view_name": "StyleView",
      "bar_color": null,
      "description_width": ""
     }
    },
    "0a575b3a5a5140b680ff8e20676f3dce": {
     "model_module": "@jupyter-widgets/controls",
     "model_module_version": "1.5.0",
     "model_name": "FloatProgressModel",
     "state": {
      "_dom_classes": [],
      "_model_module": "@jupyter-widgets/controls",
      "_model_module_version": "1.5.0",
      "_model_name": "FloatProgressModel",
      "_view_count": null,
      "_view_module": "@jupyter-widgets/controls",
      "_view_module_version": "1.5.0",
      "_view_name": "ProgressView",
      "bar_style": "success",
      "description": "",
      "description_tooltip": null,
      "layout": "IPY_MODEL_611af89de8ee4108adb8fccb5bb9cf32",
      "max": 684,
      "min": 0,
      "orientation": "horizontal",
      "style": "IPY_MODEL_438b937befce4e2d9d49edca9d77d7d2",
      "value": 684
     }
    },
    "0b2c49f831304163acc0d2f4cf0089b0": {
     "model_module": "@jupyter-widgets/base",
     "model_module_version": "1.2.0",
     "model_name": "LayoutModel",
     "state": {
      "_model_module": "@jupyter-widgets/base",
      "_model_module_version": "1.2.0",
      "_model_name": "LayoutModel",
      "_view_count": null,
      "_view_module": "@jupyter-widgets/base",
      "_view_module_version": "1.2.0",
      "_view_name": "LayoutView",
      "align_content": null,
      "align_items": null,
      "align_self": null,
      "border": null,
      "bottom": null,
      "display": null,
      "flex": null,
      "flex_flow": null,
      "grid_area": null,
      "grid_auto_columns": null,
      "grid_auto_flow": null,
      "grid_auto_rows": null,
      "grid_column": null,
      "grid_gap": null,
      "grid_row": null,
      "grid_template_areas": null,
      "grid_template_columns": null,
      "grid_template_rows": null,
      "height": null,
      "justify_content": null,
      "justify_items": null,
      "left": null,
      "margin": null,
      "max_height": null,
      "max_width": null,
      "min_height": null,
      "min_width": null,
      "object_fit": null,
      "object_position": null,
      "order": null,
      "overflow": null,
      "overflow_x": null,
      "overflow_y": null,
      "padding": null,
      "right": null,
      "top": null,
      "visibility": null,
      "width": null
     }
    },
    "0c6887b9851644a684659752c7375885": {
     "model_module": "@jupyter-widgets/controls",
     "model_module_version": "1.5.0",
     "model_name": "HTMLModel",
     "state": {
      "_dom_classes": [],
      "_model_module": "@jupyter-widgets/controls",
      "_model_module_version": "1.5.0",
      "_model_name": "HTMLModel",
      "_view_count": null,
      "_view_module": "@jupyter-widgets/controls",
      "_view_module_version": "1.5.0",
      "_view_name": "HTMLView",
      "description": "",
      "description_tooltip": null,
      "layout": "IPY_MODEL_45f1f88bf6424096a522d364a1aa458b",
      "placeholder": "​",
      "style": "IPY_MODEL_ddbc147f7ec34bbc9a1b0f0721f6451b",
      "value": "vocab.json: 100%"
     }
    },
    "0f34d6fa253444e1a73c240cc5bdb62e": {
     "model_module": "@jupyter-widgets/base",
     "model_module_version": "1.2.0",
     "model_name": "LayoutModel",
     "state": {
      "_model_module": "@jupyter-widgets/base",
      "_model_module_version": "1.2.0",
      "_model_name": "LayoutModel",
      "_view_count": null,
      "_view_module": "@jupyter-widgets/base",
      "_view_module_version": "1.2.0",
      "_view_name": "LayoutView",
      "align_content": null,
      "align_items": null,
      "align_self": null,
      "border": null,
      "bottom": null,
      "display": null,
      "flex": null,
      "flex_flow": null,
      "grid_area": null,
      "grid_auto_columns": null,
      "grid_auto_flow": null,
      "grid_auto_rows": null,
      "grid_column": null,
      "grid_gap": null,
      "grid_row": null,
      "grid_template_areas": null,
      "grid_template_columns": null,
      "grid_template_rows": null,
      "height": null,
      "justify_content": null,
      "justify_items": null,
      "left": null,
      "margin": null,
      "max_height": null,
      "max_width": null,
      "min_height": null,
      "min_width": null,
      "object_fit": null,
      "object_position": null,
      "order": null,
      "overflow": null,
      "overflow_x": null,
      "overflow_y": null,
      "padding": null,
      "right": null,
      "top": null,
      "visibility": null,
      "width": null
     }
    },
    "1116b93b89eb420490a12deacfb06c21": {
     "model_module": "@jupyter-widgets/controls",
     "model_module_version": "1.5.0",
     "model_name": "HBoxModel",
     "state": {
      "_dom_classes": [],
      "_model_module": "@jupyter-widgets/controls",
      "_model_module_version": "1.5.0",
      "_model_name": "HBoxModel",
      "_view_count": null,
      "_view_module": "@jupyter-widgets/controls",
      "_view_module_version": "1.5.0",
      "_view_name": "HBoxView",
      "box_style": "",
      "children": [
       "IPY_MODEL_2f401b1fcb8e4c969dac72bf215f6561",
       "IPY_MODEL_c79df3e8fa824c8687d2bfaa57e7fe01",
       "IPY_MODEL_415e8e498c2a4afc8e85d15a72f2fd73"
      ],
      "layout": "IPY_MODEL_9bfa854836e249d79617969ac207754b"
     }
    },
    "137dc35b0c1e4b9ab04d0d8ec5ce7dac": {
     "model_module": "@jupyter-widgets/controls",
     "model_module_version": "1.5.0",
     "model_name": "ProgressStyleModel",
     "state": {
      "_model_module": "@jupyter-widgets/controls",
      "_model_module_version": "1.5.0",
      "_model_name": "ProgressStyleModel",
      "_view_count": null,
      "_view_module": "@jupyter-widgets/base",
      "_view_module_version": "1.2.0",
      "_view_name": "StyleView",
      "bar_color": null,
      "description_width": ""
     }
    },
    "138e15d45660471baff2f09c93efe771": {
     "model_module": "@jupyter-widgets/base",
     "model_module_version": "1.2.0",
     "model_name": "LayoutModel",
     "state": {
      "_model_module": "@jupyter-widgets/base",
      "_model_module_version": "1.2.0",
      "_model_name": "LayoutModel",
      "_view_count": null,
      "_view_module": "@jupyter-widgets/base",
      "_view_module_version": "1.2.0",
      "_view_name": "LayoutView",
      "align_content": null,
      "align_items": null,
      "align_self": null,
      "border": null,
      "bottom": null,
      "display": null,
      "flex": null,
      "flex_flow": null,
      "grid_area": null,
      "grid_auto_columns": null,
      "grid_auto_flow": null,
      "grid_auto_rows": null,
      "grid_column": null,
      "grid_gap": null,
      "grid_row": null,
      "grid_template_areas": null,
      "grid_template_columns": null,
      "grid_template_rows": null,
      "height": null,
      "justify_content": null,
      "justify_items": null,
      "left": null,
      "margin": null,
      "max_height": null,
      "max_width": null,
      "min_height": null,
      "min_width": null,
      "object_fit": null,
      "object_position": null,
      "order": null,
      "overflow": null,
      "overflow_x": null,
      "overflow_y": null,
      "padding": null,
      "right": null,
      "top": null,
      "visibility": null,
      "width": null
     }
    },
    "14637cdcc5d642b0989bf887100601a2": {
     "model_module": "@jupyter-widgets/controls",
     "model_module_version": "1.5.0",
     "model_name": "HBoxModel",
     "state": {
      "_dom_classes": [],
      "_model_module": "@jupyter-widgets/controls",
      "_model_module_version": "1.5.0",
      "_model_name": "HBoxModel",
      "_view_count": null,
      "_view_module": "@jupyter-widgets/controls",
      "_view_module_version": "1.5.0",
      "_view_name": "HBoxView",
      "box_style": "",
      "children": [
       "IPY_MODEL_cf98d52df6b9432a9877c8b5355c82e6",
       "IPY_MODEL_e9ae9ba627aa4bf8a4eb64d68809f566",
       "IPY_MODEL_d5ec0c9ab8d6453fb32e867102ee0eaf"
      ],
      "layout": "IPY_MODEL_2434babf7137418b84dcf59553f33a3a"
     }
    },
    "1571ba54beca47a69ef597cb15df214b": {
     "model_module": "@jupyter-widgets/controls",
     "model_module_version": "1.5.0",
     "model_name": "DescriptionStyleModel",
     "state": {
      "_model_module": "@jupyter-widgets/controls",
      "_model_module_version": "1.5.0",
      "_model_name": "DescriptionStyleModel",
      "_view_count": null,
      "_view_module": "@jupyter-widgets/base",
      "_view_module_version": "1.2.0",
      "_view_name": "StyleView",
      "description_width": ""
     }
    },
    "18d67eed7b8f407da269ec244cd04abb": {
     "model_module": "@jupyter-widgets/base",
     "model_module_version": "1.2.0",
     "model_name": "LayoutModel",
     "state": {
      "_model_module": "@jupyter-widgets/base",
      "_model_module_version": "1.2.0",
      "_model_name": "LayoutModel",
      "_view_count": null,
      "_view_module": "@jupyter-widgets/base",
      "_view_module_version": "1.2.0",
      "_view_name": "LayoutView",
      "align_content": null,
      "align_items": null,
      "align_self": null,
      "border": null,
      "bottom": null,
      "display": null,
      "flex": null,
      "flex_flow": null,
      "grid_area": null,
      "grid_auto_columns": null,
      "grid_auto_flow": null,
      "grid_auto_rows": null,
      "grid_column": null,
      "grid_gap": null,
      "grid_row": null,
      "grid_template_areas": null,
      "grid_template_columns": null,
      "grid_template_rows": null,
      "height": null,
      "justify_content": null,
      "justify_items": null,
      "left": null,
      "margin": null,
      "max_height": null,
      "max_width": null,
      "min_height": null,
      "min_width": null,
      "object_fit": null,
      "object_position": null,
      "order": null,
      "overflow": null,
      "overflow_x": null,
      "overflow_y": null,
      "padding": null,
      "right": null,
      "top": null,
      "visibility": null,
      "width": null
     }
    },
    "197f61d70ab541aa9a1b1c1298435b2b": {
     "model_module": "@jupyter-widgets/base",
     "model_module_version": "1.2.0",
     "model_name": "LayoutModel",
     "state": {
      "_model_module": "@jupyter-widgets/base",
      "_model_module_version": "1.2.0",
      "_model_name": "LayoutModel",
      "_view_count": null,
      "_view_module": "@jupyter-widgets/base",
      "_view_module_version": "1.2.0",
      "_view_name": "LayoutView",
      "align_content": null,
      "align_items": null,
      "align_self": null,
      "border": null,
      "bottom": null,
      "display": null,
      "flex": null,
      "flex_flow": null,
      "grid_area": null,
      "grid_auto_columns": null,
      "grid_auto_flow": null,
      "grid_auto_rows": null,
      "grid_column": null,
      "grid_gap": null,
      "grid_row": null,
      "grid_template_areas": null,
      "grid_template_columns": null,
      "grid_template_rows": null,
      "height": null,
      "justify_content": null,
      "justify_items": null,
      "left": null,
      "margin": null,
      "max_height": null,
      "max_width": null,
      "min_height": null,
      "min_width": null,
      "object_fit": null,
      "object_position": null,
      "order": null,
      "overflow": null,
      "overflow_x": null,
      "overflow_y": null,
      "padding": null,
      "right": null,
      "top": null,
      "visibility": null,
      "width": null
     }
    },
    "1c0ebb52daab43a7b316a8460535e897": {
     "model_module": "@jupyter-widgets/base",
     "model_module_version": "1.2.0",
     "model_name": "LayoutModel",
     "state": {
      "_model_module": "@jupyter-widgets/base",
      "_model_module_version": "1.2.0",
      "_model_name": "LayoutModel",
      "_view_count": null,
      "_view_module": "@jupyter-widgets/base",
      "_view_module_version": "1.2.0",
      "_view_name": "LayoutView",
      "align_content": null,
      "align_items": null,
      "align_self": null,
      "border": null,
      "bottom": null,
      "display": null,
      "flex": null,
      "flex_flow": null,
      "grid_area": null,
      "grid_auto_columns": null,
      "grid_auto_flow": null,
      "grid_auto_rows": null,
      "grid_column": null,
      "grid_gap": null,
      "grid_row": null,
      "grid_template_areas": null,
      "grid_template_columns": null,
      "grid_template_rows": null,
      "height": null,
      "justify_content": null,
      "justify_items": null,
      "left": null,
      "margin": null,
      "max_height": null,
      "max_width": null,
      "min_height": null,
      "min_width": null,
      "object_fit": null,
      "object_position": null,
      "order": null,
      "overflow": null,
      "overflow_x": null,
      "overflow_y": null,
      "padding": null,
      "right": null,
      "top": null,
      "visibility": null,
      "width": null
     }
    },
    "1c6b9b798563409cad0bd52e2ba423a9": {
     "model_module": "@jupyter-widgets/controls",
     "model_module_version": "1.5.0",
     "model_name": "ProgressStyleModel",
     "state": {
      "_model_module": "@jupyter-widgets/controls",
      "_model_module_version": "1.5.0",
      "_model_name": "ProgressStyleModel",
      "_view_count": null,
      "_view_module": "@jupyter-widgets/base",
      "_view_module_version": "1.2.0",
      "_view_name": "StyleView",
      "bar_color": null,
      "description_width": ""
     }
    },
    "1f2f325f8f66426795de63fbed7b606b": {
     "model_module": "@jupyter-widgets/controls",
     "model_module_version": "1.5.0",
     "model_name": "HTMLModel",
     "state": {
      "_dom_classes": [],
      "_model_module": "@jupyter-widgets/controls",
      "_model_module_version": "1.5.0",
      "_model_name": "HTMLModel",
      "_view_count": null,
      "_view_module": "@jupyter-widgets/controls",
      "_view_module_version": "1.5.0",
      "_view_name": "HTMLView",
      "description": "",
      "description_tooltip": null,
      "layout": "IPY_MODEL_930dd8bebebc475795350db5405a591e",
      "placeholder": "​",
      "style": "IPY_MODEL_cb748c092e4e4917ac1dbb64dbf2e14d",
      "value": "tokenizer.json: 100%"
     }
    },
    "1f47d0fcdac84c0986ac056b480c0dc7": {
     "model_module": "@jupyter-widgets/controls",
     "model_module_version": "1.5.0",
     "model_name": "DescriptionStyleModel",
     "state": {
      "_model_module": "@jupyter-widgets/controls",
      "_model_module_version": "1.5.0",
      "_model_name": "DescriptionStyleModel",
      "_view_count": null,
      "_view_module": "@jupyter-widgets/base",
      "_view_module_version": "1.2.0",
      "_view_name": "StyleView",
      "description_width": ""
     }
    },
    "20a0b51901a644cd8318eccf8219b577": {
     "model_module": "@jupyter-widgets/controls",
     "model_module_version": "1.5.0",
     "model_name": "HBoxModel",
     "state": {
      "_dom_classes": [],
      "_model_module": "@jupyter-widgets/controls",
      "_model_module_version": "1.5.0",
      "_model_name": "HBoxModel",
      "_view_count": null,
      "_view_module": "@jupyter-widgets/controls",
      "_view_module_version": "1.5.0",
      "_view_name": "HBoxView",
      "box_style": "",
      "children": [
       "IPY_MODEL_95aece1615ac4f4fa568a77b4a0d0e1a",
       "IPY_MODEL_6ece5bd8907b43248feb86065e8a2ea5",
       "IPY_MODEL_9a9f863626b54cfebb48efe95142ebb2"
      ],
      "layout": "IPY_MODEL_6a26f4f9406946628786a62cebd5a867"
     }
    },
    "2176b48b1f454b249d638f9f520e274b": {
     "model_module": "@jupyter-widgets/controls",
     "model_module_version": "1.5.0",
     "model_name": "ProgressStyleModel",
     "state": {
      "_model_module": "@jupyter-widgets/controls",
      "_model_module_version": "1.5.0",
      "_model_name": "ProgressStyleModel",
      "_view_count": null,
      "_view_module": "@jupyter-widgets/base",
      "_view_module_version": "1.2.0",
      "_view_name": "StyleView",
      "bar_color": null,
      "description_width": ""
     }
    },
    "24028c99b8a04fab8c122ab54412ea54": {
     "model_module": "@jupyter-widgets/controls",
     "model_module_version": "1.5.0",
     "model_name": "HTMLModel",
     "state": {
      "_dom_classes": [],
      "_model_module": "@jupyter-widgets/controls",
      "_model_module_version": "1.5.0",
      "_model_name": "HTMLModel",
      "_view_count": null,
      "_view_module": "@jupyter-widgets/controls",
      "_view_module_version": "1.5.0",
      "_view_name": "HTMLView",
      "description": "",
      "description_tooltip": null,
      "layout": "IPY_MODEL_ef94fa10df1049eaa598e77851c05411",
      "placeholder": "​",
      "style": "IPY_MODEL_b7f1116dd979421f986a3289bf98ad19",
      "value": " 7.03M/7.03M [00:00&lt;00:00, 47.1MB/s]"
     }
    },
    "2434babf7137418b84dcf59553f33a3a": {
     "model_module": "@jupyter-widgets/base",
     "model_module_version": "1.2.0",
     "model_name": "LayoutModel",
     "state": {
      "_model_module": "@jupyter-widgets/base",
      "_model_module_version": "1.2.0",
      "_model_name": "LayoutModel",
      "_view_count": null,
      "_view_module": "@jupyter-widgets/base",
      "_view_module_version": "1.2.0",
      "_view_name": "LayoutView",
      "align_content": null,
      "align_items": null,
      "align_self": null,
      "border": null,
      "bottom": null,
      "display": null,
      "flex": null,
      "flex_flow": null,
      "grid_area": null,
      "grid_auto_columns": null,
      "grid_auto_flow": null,
      "grid_auto_rows": null,
      "grid_column": null,
      "grid_gap": null,
      "grid_row": null,
      "grid_template_areas": null,
      "grid_template_columns": null,
      "grid_template_rows": null,
      "height": null,
      "justify_content": null,
      "justify_items": null,
      "left": null,
      "margin": null,
      "max_height": null,
      "max_width": null,
      "min_height": null,
      "min_width": null,
      "object_fit": null,
      "object_position": null,
      "order": null,
      "overflow": null,
      "overflow_x": null,
      "overflow_y": null,
      "padding": null,
      "right": null,
      "top": null,
      "visibility": null,
      "width": null
     }
    },
    "256ace0d05ae489fad26cdbac9fd3502": {
     "model_module": "@jupyter-widgets/base",
     "model_module_version": "1.2.0",
     "model_name": "LayoutModel",
     "state": {
      "_model_module": "@jupyter-widgets/base",
      "_model_module_version": "1.2.0",
      "_model_name": "LayoutModel",
      "_view_count": null,
      "_view_module": "@jupyter-widgets/base",
      "_view_module_version": "1.2.0",
      "_view_name": "LayoutView",
      "align_content": null,
      "align_items": null,
      "align_self": null,
      "border": null,
      "bottom": null,
      "display": null,
      "flex": null,
      "flex_flow": null,
      "grid_area": null,
      "grid_auto_columns": null,
      "grid_auto_flow": null,
      "grid_auto_rows": null,
      "grid_column": null,
      "grid_gap": null,
      "grid_row": null,
      "grid_template_areas": null,
      "grid_template_columns": null,
      "grid_template_rows": null,
      "height": null,
      "justify_content": null,
      "justify_items": null,
      "left": null,
      "margin": null,
      "max_height": null,
      "max_width": null,
      "min_height": null,
      "min_width": null,
      "object_fit": null,
      "object_position": null,
      "order": null,
      "overflow": null,
      "overflow_x": null,
      "overflow_y": null,
      "padding": null,
      "right": null,
      "top": null,
      "visibility": null,
      "width": null
     }
    },
    "25843be9e67346f5a9faf475a9d396ad": {
     "model_module": "@jupyter-widgets/base",
     "model_module_version": "1.2.0",
     "model_name": "LayoutModel",
     "state": {
      "_model_module": "@jupyter-widgets/base",
      "_model_module_version": "1.2.0",
      "_model_name": "LayoutModel",
      "_view_count": null,
      "_view_module": "@jupyter-widgets/base",
      "_view_module_version": "1.2.0",
      "_view_name": "LayoutView",
      "align_content": null,
      "align_items": null,
      "align_self": null,
      "border": null,
      "bottom": null,
      "display": null,
      "flex": null,
      "flex_flow": null,
      "grid_area": null,
      "grid_auto_columns": null,
      "grid_auto_flow": null,
      "grid_auto_rows": null,
      "grid_column": null,
      "grid_gap": null,
      "grid_row": null,
      "grid_template_areas": null,
      "grid_template_columns": null,
      "grid_template_rows": null,
      "height": null,
      "justify_content": null,
      "justify_items": null,
      "left": null,
      "margin": null,
      "max_height": null,
      "max_width": null,
      "min_height": null,
      "min_width": null,
      "object_fit": null,
      "object_position": null,
      "order": null,
      "overflow": null,
      "overflow_x": null,
      "overflow_y": null,
      "padding": null,
      "right": null,
      "top": null,
      "visibility": null,
      "width": null
     }
    },
    "28784f7543294c49b54a09c908b56c9e": {
     "model_module": "@jupyter-widgets/controls",
     "model_module_version": "1.5.0",
     "model_name": "HBoxModel",
     "state": {
      "_dom_classes": [],
      "_model_module": "@jupyter-widgets/controls",
      "_model_module_version": "1.5.0",
      "_model_name": "HBoxModel",
      "_view_count": null,
      "_view_module": "@jupyter-widgets/controls",
      "_view_module_version": "1.5.0",
      "_view_name": "HBoxView",
      "box_style": "",
      "children": [
       "IPY_MODEL_0c6887b9851644a684659752c7375885",
       "IPY_MODEL_68d87d30b17c4970bcf48873fb6c9247",
       "IPY_MODEL_d7e56c2c917648c1b8443247f8b49be3"
      ],
      "layout": "IPY_MODEL_18d67eed7b8f407da269ec244cd04abb"
     }
    },
    "2b05d0a1e27f4c4094ffb7801ad11076": {
     "model_module": "@jupyter-widgets/base",
     "model_module_version": "1.2.0",
     "model_name": "LayoutModel",
     "state": {
      "_model_module": "@jupyter-widgets/base",
      "_model_module_version": "1.2.0",
      "_model_name": "LayoutModel",
      "_view_count": null,
      "_view_module": "@jupyter-widgets/base",
      "_view_module_version": "1.2.0",
      "_view_name": "LayoutView",
      "align_content": null,
      "align_items": null,
      "align_self": null,
      "border": null,
      "bottom": null,
      "display": null,
      "flex": null,
      "flex_flow": null,
      "grid_area": null,
      "grid_auto_columns": null,
      "grid_auto_flow": null,
      "grid_auto_rows": null,
      "grid_column": null,
      "grid_gap": null,
      "grid_row": null,
      "grid_template_areas": null,
      "grid_template_columns": null,
      "grid_template_rows": null,
      "height": null,
      "justify_content": null,
      "justify_items": null,
      "left": null,
      "margin": null,
      "max_height": null,
      "max_width": null,
      "min_height": null,
      "min_width": null,
      "object_fit": null,
      "object_position": null,
      "order": null,
      "overflow": null,
      "overflow_x": null,
      "overflow_y": null,
      "padding": null,
      "right": null,
      "top": null,
      "visibility": null,
      "width": null
     }
    },
    "2c3d43d5b1d34d3b963bf2ed582620ba": {
     "model_module": "@jupyter-widgets/controls",
     "model_module_version": "1.5.0",
     "model_name": "HBoxModel",
     "state": {
      "_dom_classes": [],
      "_model_module": "@jupyter-widgets/controls",
      "_model_module_version": "1.5.0",
      "_model_name": "HBoxModel",
      "_view_count": null,
      "_view_module": "@jupyter-widgets/controls",
      "_view_module_version": "1.5.0",
      "_view_name": "HBoxView",
      "box_style": "",
      "children": [
       "IPY_MODEL_a4ac3a557f2347b2b828f0c966a4d4fe",
       "IPY_MODEL_bb94ba3e0f714a8e9b9b61c134e2f74c",
       "IPY_MODEL_d2c8b1dc82a5473ab6f38bcc0430c981"
      ],
      "layout": "IPY_MODEL_82a94b011a904f2884f6f8206064ed89"
     }
    },
    "2c9c1b6e18fa4cd9979d5f13f41adf48": {
     "model_module": "@jupyter-widgets/controls",
     "model_module_version": "1.5.0",
     "model_name": "DescriptionStyleModel",
     "state": {
      "_model_module": "@jupyter-widgets/controls",
      "_model_module_version": "1.5.0",
      "_model_name": "DescriptionStyleModel",
      "_view_count": null,
      "_view_module": "@jupyter-widgets/base",
      "_view_module_version": "1.2.0",
      "_view_name": "StyleView",
      "description_width": ""
     }
    },
    "2f401b1fcb8e4c969dac72bf215f6561": {
     "model_module": "@jupyter-widgets/controls",
     "model_module_version": "1.5.0",
     "model_name": "HTMLModel",
     "state": {
      "_dom_classes": [],
      "_model_module": "@jupyter-widgets/controls",
      "_model_module_version": "1.5.0",
      "_model_name": "HTMLModel",
      "_view_count": null,
      "_view_module": "@jupyter-widgets/controls",
      "_view_module_version": "1.5.0",
      "_view_name": "HTMLView",
      "description": "",
      "description_tooltip": null,
      "layout": "IPY_MODEL_6d3fa20d73e2496d81cf7fa17b8efc6c",
      "placeholder": "​",
      "style": "IPY_MODEL_afdcb773c48f419a92b7231f3a07255f",
      "value": "merges.txt: 100%"
     }
    },
    "32767a4e19fd4bbe9887b6a54c916893": {
     "model_module": "@jupyter-widgets/controls",
     "model_module_version": "1.5.0",
     "model_name": "DescriptionStyleModel",
     "state": {
      "_model_module": "@jupyter-widgets/controls",
      "_model_module_version": "1.5.0",
      "_model_name": "DescriptionStyleModel",
      "_view_count": null,
      "_view_module": "@jupyter-widgets/base",
      "_view_module_version": "1.2.0",
      "_view_name": "StyleView",
      "description_width": ""
     }
    },
    "33113930b3a84366bb5f5b60e40f234e": {
     "model_module": "@jupyter-widgets/base",
     "model_module_version": "1.2.0",
     "model_name": "LayoutModel",
     "state": {
      "_model_module": "@jupyter-widgets/base",
      "_model_module_version": "1.2.0",
      "_model_name": "LayoutModel",
      "_view_count": null,
      "_view_module": "@jupyter-widgets/base",
      "_view_module_version": "1.2.0",
      "_view_name": "LayoutView",
      "align_content": null,
      "align_items": null,
      "align_self": null,
      "border": null,
      "bottom": null,
      "display": null,
      "flex": null,
      "flex_flow": null,
      "grid_area": null,
      "grid_auto_columns": null,
      "grid_auto_flow": null,
      "grid_auto_rows": null,
      "grid_column": null,
      "grid_gap": null,
      "grid_row": null,
      "grid_template_areas": null,
      "grid_template_columns": null,
      "grid_template_rows": null,
      "height": null,
      "justify_content": null,
      "justify_items": null,
      "left": null,
      "margin": null,
      "max_height": null,
      "max_width": null,
      "min_height": null,
      "min_width": null,
      "object_fit": null,
      "object_position": null,
      "order": null,
      "overflow": null,
      "overflow_x": null,
      "overflow_y": null,
      "padding": null,
      "right": null,
      "top": null,
      "visibility": null,
      "width": null
     }
    },
    "3460c7f3c7274fc4ba06c8b6675bb37a": {
     "model_module": "@jupyter-widgets/controls",
     "model_module_version": "1.5.0",
     "model_name": "FloatProgressModel",
     "state": {
      "_dom_classes": [],
      "_model_module": "@jupyter-widgets/controls",
      "_model_module_version": "1.5.0",
      "_model_name": "FloatProgressModel",
      "_view_count": null,
      "_view_module": "@jupyter-widgets/controls",
      "_view_module_version": "1.5.0",
      "_view_name": "ProgressView",
      "bar_style": "success",
      "description": "",
      "description_tooltip": null,
      "layout": "IPY_MODEL_fdca97d2f6e8424eb842a161e5fd5835",
      "max": 1791,
      "min": 0,
      "orientation": "horizontal",
      "style": "IPY_MODEL_fa9b41c17c67430b99b3bf763b8e463d",
      "value": 1791
     }
    },
    "38b6585254aa4332b1cd6b6c64432263": {
     "model_module": "@jupyter-widgets/controls",
     "model_module_version": "1.5.0",
     "model_name": "HTMLModel",
     "state": {
      "_dom_classes": [],
      "_model_module": "@jupyter-widgets/controls",
      "_model_module_version": "1.5.0",
      "_model_name": "HTMLModel",
      "_view_count": null,
      "_view_module": "@jupyter-widgets/controls",
      "_view_module_version": "1.5.0",
      "_view_name": "HTMLView",
      "description": "",
      "description_tooltip": null,
      "layout": "IPY_MODEL_95de1ad519ec479797c56a59ae13826a",
      "placeholder": "​",
      "style": "IPY_MODEL_87336531a7d449ea8e73b1707e921ccf",
      "value": " 307M/307M [00:01&lt;00:00, 245MB/s]"
     }
    },
    "39ae78eff3714fbfa1ef5ef006e45b5a": {
     "model_module": "@jupyter-widgets/base",
     "model_module_version": "1.2.0",
     "model_name": "LayoutModel",
     "state": {
      "_model_module": "@jupyter-widgets/base",
      "_model_module_version": "1.2.0",
      "_model_name": "LayoutModel",
      "_view_count": null,
      "_view_module": "@jupyter-widgets/base",
      "_view_module_version": "1.2.0",
      "_view_name": "LayoutView",
      "align_content": null,
      "align_items": null,
      "align_self": null,
      "border": null,
      "bottom": null,
      "display": null,
      "flex": null,
      "flex_flow": null,
      "grid_area": null,
      "grid_auto_columns": null,
      "grid_auto_flow": null,
      "grid_auto_rows": null,
      "grid_column": null,
      "grid_gap": null,
      "grid_row": null,
      "grid_template_areas": null,
      "grid_template_columns": null,
      "grid_template_rows": null,
      "height": null,
      "justify_content": null,
      "justify_items": null,
      "left": null,
      "margin": null,
      "max_height": null,
      "max_width": null,
      "min_height": null,
      "min_width": null,
      "object_fit": null,
      "object_position": null,
      "order": null,
      "overflow": null,
      "overflow_x": null,
      "overflow_y": null,
      "padding": null,
      "right": null,
      "top": null,
      "visibility": null,
      "width": null
     }
    },
    "3bfcfec6942b4b32a46a9b2c43227d8d": {
     "model_module": "@jupyter-widgets/base",
     "model_module_version": "1.2.0",
     "model_name": "LayoutModel",
     "state": {
      "_model_module": "@jupyter-widgets/base",
      "_model_module_version": "1.2.0",
      "_model_name": "LayoutModel",
      "_view_count": null,
      "_view_module": "@jupyter-widgets/base",
      "_view_module_version": "1.2.0",
      "_view_name": "LayoutView",
      "align_content": null,
      "align_items": null,
      "align_self": null,
      "border": null,
      "bottom": null,
      "display": null,
      "flex": null,
      "flex_flow": null,
      "grid_area": null,
      "grid_auto_columns": null,
      "grid_auto_flow": null,
      "grid_auto_rows": null,
      "grid_column": null,
      "grid_gap": null,
      "grid_row": null,
      "grid_template_areas": null,
      "grid_template_columns": null,
      "grid_template_rows": null,
      "height": null,
      "justify_content": null,
      "justify_items": null,
      "left": null,
      "margin": null,
      "max_height": null,
      "max_width": null,
      "min_height": null,
      "min_width": null,
      "object_fit": null,
      "object_position": null,
      "order": null,
      "overflow": null,
      "overflow_x": null,
      "overflow_y": null,
      "padding": null,
      "right": null,
      "top": null,
      "visibility": null,
      "width": null
     }
    },
    "415e8e498c2a4afc8e85d15a72f2fd73": {
     "model_module": "@jupyter-widgets/controls",
     "model_module_version": "1.5.0",
     "model_name": "HTMLModel",
     "state": {
      "_dom_classes": [],
      "_model_module": "@jupyter-widgets/controls",
      "_model_module_version": "1.5.0",
      "_model_name": "HTMLModel",
      "_view_count": null,
      "_view_module": "@jupyter-widgets/controls",
      "_view_module_version": "1.5.0",
      "_view_name": "HTMLView",
      "description": "",
      "description_tooltip": null,
      "layout": "IPY_MODEL_0f34d6fa253444e1a73c240cc5bdb62e",
      "placeholder": "​",
      "style": "IPY_MODEL_01143789eb8f46379f9ce7b3e51ba846",
      "value": " 1.67M/1.67M [00:00&lt;00:00, 29.6MB/s]"
     }
    },
    "438b937befce4e2d9d49edca9d77d7d2": {
     "model_module": "@jupyter-widgets/controls",
     "model_module_version": "1.5.0",
     "model_name": "ProgressStyleModel",
     "state": {
      "_model_module": "@jupyter-widgets/controls",
      "_model_module_version": "1.5.0",
      "_model_name": "ProgressStyleModel",
      "_view_count": null,
      "_view_module": "@jupyter-widgets/base",
      "_view_module_version": "1.2.0",
      "_view_name": "StyleView",
      "bar_color": null,
      "description_width": ""
     }
    },
    "45f1f88bf6424096a522d364a1aa458b": {
     "model_module": "@jupyter-widgets/base",
     "model_module_version": "1.2.0",
     "model_name": "LayoutModel",
     "state": {
      "_model_module": "@jupyter-widgets/base",
      "_model_module_version": "1.2.0",
      "_model_name": "LayoutModel",
      "_view_count": null,
      "_view_module": "@jupyter-widgets/base",
      "_view_module_version": "1.2.0",
      "_view_name": "LayoutView",
      "align_content": null,
      "align_items": null,
      "align_self": null,
      "border": null,
      "bottom": null,
      "display": null,
      "flex": null,
      "flex_flow": null,
      "grid_area": null,
      "grid_auto_columns": null,
      "grid_auto_flow": null,
      "grid_auto_rows": null,
      "grid_column": null,
      "grid_gap": null,
      "grid_row": null,
      "grid_template_areas": null,
      "grid_template_columns": null,
      "grid_template_rows": null,
      "height": null,
      "justify_content": null,
      "justify_items": null,
      "left": null,
      "margin": null,
      "max_height": null,
      "max_width": null,
      "min_height": null,
      "min_width": null,
      "object_fit": null,
      "object_position": null,
      "order": null,
      "overflow": null,
      "overflow_x": null,
      "overflow_y": null,
      "padding": null,
      "right": null,
      "top": null,
      "visibility": null,
      "width": null
     }
    },
    "4d206ca710734371a9ca172f1fbd0f79": {
     "model_module": "@jupyter-widgets/controls",
     "model_module_version": "1.5.0",
     "model_name": "DescriptionStyleModel",
     "state": {
      "_model_module": "@jupyter-widgets/controls",
      "_model_module_version": "1.5.0",
      "_model_name": "DescriptionStyleModel",
      "_view_count": null,
      "_view_module": "@jupyter-widgets/base",
      "_view_module_version": "1.2.0",
      "_view_name": "StyleView",
      "description_width": ""
     }
    },
    "4d95e63b84494846a31ddc20a92d06de": {
     "model_module": "@jupyter-widgets/controls",
     "model_module_version": "1.5.0",
     "model_name": "HBoxModel",
     "state": {
      "_dom_classes": [],
      "_model_module": "@jupyter-widgets/controls",
      "_model_module_version": "1.5.0",
      "_model_name": "HBoxModel",
      "_view_count": null,
      "_view_module": "@jupyter-widgets/controls",
      "_view_module_version": "1.5.0",
      "_view_name": "HBoxView",
      "box_style": "",
      "children": [
       "IPY_MODEL_8978e7bba2364d1d802f2a7c7560297b",
       "IPY_MODEL_3460c7f3c7274fc4ba06c8b6675bb37a",
       "IPY_MODEL_00cfba85032949a98b31f4bffbb89274"
      ],
      "layout": "IPY_MODEL_f9c966f2b73e4f3da9163dd14ed16363"
     }
    },
    "514e06329caa4fbb963a382a3e894054": {
     "model_module": "@jupyter-widgets/controls",
     "model_module_version": "1.5.0",
     "model_name": "DescriptionStyleModel",
     "state": {
      "_model_module": "@jupyter-widgets/controls",
      "_model_module_version": "1.5.0",
      "_model_name": "DescriptionStyleModel",
      "_view_count": null,
      "_view_module": "@jupyter-widgets/base",
      "_view_module_version": "1.2.0",
      "_view_name": "StyleView",
      "description_width": ""
     }
    },
    "55bb9e5806eb422197e7d19e62305a2a": {
     "model_module": "@jupyter-widgets/controls",
     "model_module_version": "1.5.0",
     "model_name": "ProgressStyleModel",
     "state": {
      "_model_module": "@jupyter-widgets/controls",
      "_model_module_version": "1.5.0",
      "_model_name": "ProgressStyleModel",
      "_view_count": null,
      "_view_module": "@jupyter-widgets/base",
      "_view_module_version": "1.2.0",
      "_view_name": "StyleView",
      "bar_color": null,
      "description_width": ""
     }
    },
    "58127f0348e94a9582de29fb9bcc7f92": {
     "model_module": "@jupyter-widgets/controls",
     "model_module_version": "1.5.0",
     "model_name": "ProgressStyleModel",
     "state": {
      "_model_module": "@jupyter-widgets/controls",
      "_model_module_version": "1.5.0",
      "_model_name": "ProgressStyleModel",
      "_view_count": null,
      "_view_module": "@jupyter-widgets/base",
      "_view_module_version": "1.2.0",
      "_view_name": "StyleView",
      "bar_color": null,
      "description_width": ""
     }
    },
    "58f28acb0be04593accf297e5e06bed0": {
     "model_module": "@jupyter-widgets/base",
     "model_module_version": "1.2.0",
     "model_name": "LayoutModel",
     "state": {
      "_model_module": "@jupyter-widgets/base",
      "_model_module_version": "1.2.0",
      "_model_name": "LayoutModel",
      "_view_count": null,
      "_view_module": "@jupyter-widgets/base",
      "_view_module_version": "1.2.0",
      "_view_name": "LayoutView",
      "align_content": null,
      "align_items": null,
      "align_self": null,
      "border": null,
      "bottom": null,
      "display": null,
      "flex": null,
      "flex_flow": null,
      "grid_area": null,
      "grid_auto_columns": null,
      "grid_auto_flow": null,
      "grid_auto_rows": null,
      "grid_column": null,
      "grid_gap": null,
      "grid_row": null,
      "grid_template_areas": null,
      "grid_template_columns": null,
      "grid_template_rows": null,
      "height": null,
      "justify_content": null,
      "justify_items": null,
      "left": null,
      "margin": null,
      "max_height": null,
      "max_width": null,
      "min_height": null,
      "min_width": null,
      "object_fit": null,
      "object_position": null,
      "order": null,
      "overflow": null,
      "overflow_x": null,
      "overflow_y": null,
      "padding": null,
      "right": null,
      "top": null,
      "visibility": null,
      "width": null
     }
    },
    "5ce999cad3d84a00af2a479a86914bb1": {
     "model_module": "@jupyter-widgets/controls",
     "model_module_version": "1.5.0",
     "model_name": "HTMLModel",
     "state": {
      "_dom_classes": [],
      "_model_module": "@jupyter-widgets/controls",
      "_model_module_version": "1.5.0",
      "_model_name": "HTMLModel",
      "_view_count": null,
      "_view_module": "@jupyter-widgets/controls",
      "_view_module_version": "1.5.0",
      "_view_name": "HTMLView",
      "description": "",
      "description_tooltip": null,
      "layout": "IPY_MODEL_5e80ecdc0e75417285f8c45785a3d9ed",
      "placeholder": "​",
      "style": "IPY_MODEL_7563d173e09d4c6eac618aaa1269a8fd",
      "value": " 3.09G/3.09G [00:13&lt;00:00, 181MB/s]"
     }
    },
    "5e80ecdc0e75417285f8c45785a3d9ed": {
     "model_module": "@jupyter-widgets/base",
     "model_module_version": "1.2.0",
     "model_name": "LayoutModel",
     "state": {
      "_model_module": "@jupyter-widgets/base",
      "_model_module_version": "1.2.0",
      "_model_name": "LayoutModel",
      "_view_count": null,
      "_view_module": "@jupyter-widgets/base",
      "_view_module_version": "1.2.0",
      "_view_name": "LayoutView",
      "align_content": null,
      "align_items": null,
      "align_self": null,
      "border": null,
      "bottom": null,
      "display": null,
      "flex": null,
      "flex_flow": null,
      "grid_area": null,
      "grid_auto_columns": null,
      "grid_auto_flow": null,
      "grid_auto_rows": null,
      "grid_column": null,
      "grid_gap": null,
      "grid_row": null,
      "grid_template_areas": null,
      "grid_template_columns": null,
      "grid_template_rows": null,
      "height": null,
      "justify_content": null,
      "justify_items": null,
      "left": null,
      "margin": null,
      "max_height": null,
      "max_width": null,
      "min_height": null,
      "min_width": null,
      "object_fit": null,
      "object_position": null,
      "order": null,
      "overflow": null,
      "overflow_x": null,
      "overflow_y": null,
      "padding": null,
      "right": null,
      "top": null,
      "visibility": null,
      "width": null
     }
    },
    "5ebd1a93c8f744629cb6ba95289cedd8": {
     "model_module": "@jupyter-widgets/controls",
     "model_module_version": "1.5.0",
     "model_name": "DescriptionStyleModel",
     "state": {
      "_model_module": "@jupyter-widgets/controls",
      "_model_module_version": "1.5.0",
      "_model_name": "DescriptionStyleModel",
      "_view_count": null,
      "_view_module": "@jupyter-widgets/base",
      "_view_module_version": "1.2.0",
      "_view_name": "StyleView",
      "description_width": ""
     }
    },
    "5f701e7d23f346859b2fd0f885f2c58f": {
     "model_module": "@jupyter-widgets/controls",
     "model_module_version": "1.5.0",
     "model_name": "HBoxModel",
     "state": {
      "_dom_classes": [],
      "_model_module": "@jupyter-widgets/controls",
      "_model_module_version": "1.5.0",
      "_model_name": "HBoxModel",
      "_view_count": null,
      "_view_module": "@jupyter-widgets/controls",
      "_view_module_version": "1.5.0",
      "_view_name": "HBoxView",
      "box_style": "",
      "children": [
       "IPY_MODEL_e30e11637be7473b873835e115517853",
       "IPY_MODEL_0a575b3a5a5140b680ff8e20676f3dce",
       "IPY_MODEL_f4c353c0fe944932bcf7879c7cd3dd2a"
      ],
      "layout": "IPY_MODEL_7831b1d7c9054f3faa8f7e280f3676b9"
     }
    },
    "611af89de8ee4108adb8fccb5bb9cf32": {
     "model_module": "@jupyter-widgets/base",
     "model_module_version": "1.2.0",
     "model_name": "LayoutModel",
     "state": {
      "_model_module": "@jupyter-widgets/base",
      "_model_module_version": "1.2.0",
      "_model_name": "LayoutModel",
      "_view_count": null,
      "_view_module": "@jupyter-widgets/base",
      "_view_module_version": "1.2.0",
      "_view_name": "LayoutView",
      "align_content": null,
      "align_items": null,
      "align_self": null,
      "border": null,
      "bottom": null,
      "display": null,
      "flex": null,
      "flex_flow": null,
      "grid_area": null,
      "grid_auto_columns": null,
      "grid_auto_flow": null,
      "grid_auto_rows": null,
      "grid_column": null,
      "grid_gap": null,
      "grid_row": null,
      "grid_template_areas": null,
      "grid_template_columns": null,
      "grid_template_rows": null,
      "height": null,
      "justify_content": null,
      "justify_items": null,
      "left": null,
      "margin": null,
      "max_height": null,
      "max_width": null,
      "min_height": null,
      "min_width": null,
      "object_fit": null,
      "object_position": null,
      "order": null,
      "overflow": null,
      "overflow_x": null,
      "overflow_y": null,
      "padding": null,
      "right": null,
      "top": null,
      "visibility": null,
      "width": null
     }
    },
    "62d159e5720f496c82312d9efd4bfe79": {
     "model_module": "@jupyter-widgets/base",
     "model_module_version": "1.2.0",
     "model_name": "LayoutModel",
     "state": {
      "_model_module": "@jupyter-widgets/base",
      "_model_module_version": "1.2.0",
      "_model_name": "LayoutModel",
      "_view_count": null,
      "_view_module": "@jupyter-widgets/base",
      "_view_module_version": "1.2.0",
      "_view_name": "LayoutView",
      "align_content": null,
      "align_items": null,
      "align_self": null,
      "border": null,
      "bottom": null,
      "display": null,
      "flex": null,
      "flex_flow": null,
      "grid_area": null,
      "grid_auto_columns": null,
      "grid_auto_flow": null,
      "grid_auto_rows": null,
      "grid_column": null,
      "grid_gap": null,
      "grid_row": null,
      "grid_template_areas": null,
      "grid_template_columns": null,
      "grid_template_rows": null,
      "height": null,
      "justify_content": null,
      "justify_items": null,
      "left": null,
      "margin": null,
      "max_height": null,
      "max_width": null,
      "min_height": null,
      "min_width": null,
      "object_fit": null,
      "object_position": null,
      "order": null,
      "overflow": null,
      "overflow_x": null,
      "overflow_y": null,
      "padding": null,
      "right": null,
      "top": null,
      "visibility": null,
      "width": null
     }
    },
    "6336f105491b4bd8ae01c0e3b6940c36": {
     "model_module": "@jupyter-widgets/base",
     "model_module_version": "1.2.0",
     "model_name": "LayoutModel",
     "state": {
      "_model_module": "@jupyter-widgets/base",
      "_model_module_version": "1.2.0",
      "_model_name": "LayoutModel",
      "_view_count": null,
      "_view_module": "@jupyter-widgets/base",
      "_view_module_version": "1.2.0",
      "_view_name": "LayoutView",
      "align_content": null,
      "align_items": null,
      "align_self": null,
      "border": null,
      "bottom": null,
      "display": null,
      "flex": null,
      "flex_flow": null,
      "grid_area": null,
      "grid_auto_columns": null,
      "grid_auto_flow": null,
      "grid_auto_rows": null,
      "grid_column": null,
      "grid_gap": null,
      "grid_row": null,
      "grid_template_areas": null,
      "grid_template_columns": null,
      "grid_template_rows": null,
      "height": null,
      "justify_content": null,
      "justify_items": null,
      "left": null,
      "margin": null,
      "max_height": null,
      "max_width": null,
      "min_height": null,
      "min_width": null,
      "object_fit": null,
      "object_position": null,
      "order": null,
      "overflow": null,
      "overflow_x": null,
      "overflow_y": null,
      "padding": null,
      "right": null,
      "top": null,
      "visibility": null,
      "width": null
     }
    },
    "6365c0f5fc35484dba06f88fbc8f0656": {
     "model_module": "@jupyter-widgets/base",
     "model_module_version": "1.2.0",
     "model_name": "LayoutModel",
     "state": {
      "_model_module": "@jupyter-widgets/base",
      "_model_module_version": "1.2.0",
      "_model_name": "LayoutModel",
      "_view_count": null,
      "_view_module": "@jupyter-widgets/base",
      "_view_module_version": "1.2.0",
      "_view_name": "LayoutView",
      "align_content": null,
      "align_items": null,
      "align_self": null,
      "border": null,
      "bottom": null,
      "display": null,
      "flex": null,
      "flex_flow": null,
      "grid_area": null,
      "grid_auto_columns": null,
      "grid_auto_flow": null,
      "grid_auto_rows": null,
      "grid_column": null,
      "grid_gap": null,
      "grid_row": null,
      "grid_template_areas": null,
      "grid_template_columns": null,
      "grid_template_rows": null,
      "height": null,
      "justify_content": null,
      "justify_items": null,
      "left": null,
      "margin": null,
      "max_height": null,
      "max_width": null,
      "min_height": null,
      "min_width": null,
      "object_fit": null,
      "object_position": null,
      "order": null,
      "overflow": null,
      "overflow_x": null,
      "overflow_y": null,
      "padding": null,
      "right": null,
      "top": null,
      "visibility": null,
      "width": null
     }
    },
    "65073b78db274217b2f9800549cdcd2d": {
     "model_module": "@jupyter-widgets/controls",
     "model_module_version": "1.5.0",
     "model_name": "DescriptionStyleModel",
     "state": {
      "_model_module": "@jupyter-widgets/controls",
      "_model_module_version": "1.5.0",
      "_model_name": "DescriptionStyleModel",
      "_view_count": null,
      "_view_module": "@jupyter-widgets/base",
      "_view_module_version": "1.2.0",
      "_view_name": "StyleView",
      "description_width": ""
     }
    },
    "6731988b1bb74f8ebe1a35c0196bee7b": {
     "model_module": "@jupyter-widgets/controls",
     "model_module_version": "1.5.0",
     "model_name": "FloatProgressModel",
     "state": {
      "_dom_classes": [],
      "_model_module": "@jupyter-widgets/controls",
      "_model_module_version": "1.5.0",
      "_model_name": "FloatProgressModel",
      "_view_count": null,
      "_view_module": "@jupyter-widgets/controls",
      "_view_module_version": "1.5.0",
      "_view_name": "ProgressView",
      "bar_style": "success",
      "description": "",
      "description_tooltip": null,
      "layout": "IPY_MODEL_ca3c78a681834bc4a6fb26dd1e9c1f8d",
      "max": 19944,
      "min": 0,
      "orientation": "horizontal",
      "style": "IPY_MODEL_07e127b8f0244ee78c3b5014cf311e91",
      "value": 19944
     }
    },
    "68d87d30b17c4970bcf48873fb6c9247": {
     "model_module": "@jupyter-widgets/controls",
     "model_module_version": "1.5.0",
     "model_name": "FloatProgressModel",
     "state": {
      "_dom_classes": [],
      "_model_module": "@jupyter-widgets/controls",
      "_model_module_version": "1.5.0",
      "_model_name": "FloatProgressModel",
      "_view_count": null,
      "_view_module": "@jupyter-widgets/controls",
      "_view_module_version": "1.5.0",
      "_view_name": "ProgressView",
      "bar_style": "success",
      "description": "",
      "description_tooltip": null,
      "layout": "IPY_MODEL_9b977ee086ed49d38325d4fbb005d664",
      "max": 2776833,
      "min": 0,
      "orientation": "horizontal",
      "style": "IPY_MODEL_09753c16b5c949d987236ee940ec5fa3",
      "value": 2776833
     }
    },
    "69b75a00c15f46568b6caf44e6b72384": {
     "model_module": "@jupyter-widgets/controls",
     "model_module_version": "1.5.0",
     "model_name": "DescriptionStyleModel",
     "state": {
      "_model_module": "@jupyter-widgets/controls",
      "_model_module_version": "1.5.0",
      "_model_name": "DescriptionStyleModel",
      "_view_count": null,
      "_view_module": "@jupyter-widgets/base",
      "_view_module_version": "1.2.0",
      "_view_name": "StyleView",
      "description_width": ""
     }
    },
    "6a26f4f9406946628786a62cebd5a867": {
     "model_module": "@jupyter-widgets/base",
     "model_module_version": "1.2.0",
     "model_name": "LayoutModel",
     "state": {
      "_model_module": "@jupyter-widgets/base",
      "_model_module_version": "1.2.0",
      "_model_name": "LayoutModel",
      "_view_count": null,
      "_view_module": "@jupyter-widgets/base",
      "_view_module_version": "1.2.0",
      "_view_name": "LayoutView",
      "align_content": null,
      "align_items": null,
      "align_self": null,
      "border": null,
      "bottom": null,
      "display": null,
      "flex": null,
      "flex_flow": null,
      "grid_area": null,
      "grid_auto_columns": null,
      "grid_auto_flow": null,
      "grid_auto_rows": null,
      "grid_column": null,
      "grid_gap": null,
      "grid_row": null,
      "grid_template_areas": null,
      "grid_template_columns": null,
      "grid_template_rows": null,
      "height": null,
      "justify_content": null,
      "justify_items": null,
      "left": null,
      "margin": null,
      "max_height": null,
      "max_width": null,
      "min_height": null,
      "min_width": null,
      "object_fit": null,
      "object_position": null,
      "order": null,
      "overflow": null,
      "overflow_x": null,
      "overflow_y": null,
      "padding": null,
      "right": null,
      "top": null,
      "visibility": null,
      "width": null
     }
    },
    "6c57207ee15e46488f3b7d8a206e6fe6": {
     "model_module": "@jupyter-widgets/controls",
     "model_module_version": "1.5.0",
     "model_name": "HTMLModel",
     "state": {
      "_dom_classes": [],
      "_model_module": "@jupyter-widgets/controls",
      "_model_module_version": "1.5.0",
      "_model_name": "HTMLModel",
      "_view_count": null,
      "_view_module": "@jupyter-widgets/controls",
      "_view_module_version": "1.5.0",
      "_view_name": "HTMLView",
      "description": "",
      "description_tooltip": null,
      "layout": "IPY_MODEL_8142a04b596d484f87c2620cb1afab2f",
      "placeholder": "​",
      "style": "IPY_MODEL_b6ee43871869434d9cc65504cba5cac7",
      "value": "model.safetensors: 100%"
     }
    },
    "6d3fa20d73e2496d81cf7fa17b8efc6c": {
     "model_module": "@jupyter-widgets/base",
     "model_module_version": "1.2.0",
     "model_name": "LayoutModel",
     "state": {
      "_model_module": "@jupyter-widgets/base",
      "_model_module_version": "1.2.0",
      "_model_name": "LayoutModel",
      "_view_count": null,
      "_view_module": "@jupyter-widgets/base",
      "_view_module_version": "1.2.0",
      "_view_name": "LayoutView",
      "align_content": null,
      "align_items": null,
      "align_self": null,
      "border": null,
      "bottom": null,
      "display": null,
      "flex": null,
      "flex_flow": null,
      "grid_area": null,
      "grid_auto_columns": null,
      "grid_auto_flow": null,
      "grid_auto_rows": null,
      "grid_column": null,
      "grid_gap": null,
      "grid_row": null,
      "grid_template_areas": null,
      "grid_template_columns": null,
      "grid_template_rows": null,
      "height": null,
      "justify_content": null,
      "justify_items": null,
      "left": null,
      "margin": null,
      "max_height": null,
      "max_width": null,
      "min_height": null,
      "min_width": null,
      "object_fit": null,
      "object_position": null,
      "order": null,
      "overflow": null,
      "overflow_x": null,
      "overflow_y": null,
      "padding": null,
      "right": null,
      "top": null,
      "visibility": null,
      "width": null
     }
    },
    "6ece5bd8907b43248feb86065e8a2ea5": {
     "model_module": "@jupyter-widgets/controls",
     "model_module_version": "1.5.0",
     "model_name": "FloatProgressModel",
     "state": {
      "_dom_classes": [],
      "_model_module": "@jupyter-widgets/controls",
      "_model_module_version": "1.5.0",
      "_model_name": "FloatProgressModel",
      "_view_count": null,
      "_view_module": "@jupyter-widgets/controls",
      "_view_module_version": "1.5.0",
      "_view_name": "ProgressView",
      "bar_style": "success",
      "description": "",
      "description_tooltip": null,
      "layout": "IPY_MODEL_7b27d475ea6544d19df5d4c1291539b5",
      "max": 19944,
      "min": 0,
      "orientation": "horizontal",
      "style": "IPY_MODEL_137dc35b0c1e4b9ab04d0d8ec5ce7dac",
      "value": 19944
     }
    },
    "7563d173e09d4c6eac618aaa1269a8fd": {
     "model_module": "@jupyter-widgets/controls",
     "model_module_version": "1.5.0",
     "model_name": "DescriptionStyleModel",
     "state": {
      "_model_module": "@jupyter-widgets/controls",
      "_model_module_version": "1.5.0",
      "_model_name": "DescriptionStyleModel",
      "_view_count": null,
      "_view_module": "@jupyter-widgets/base",
      "_view_module_version": "1.2.0",
      "_view_name": "StyleView",
      "description_width": ""
     }
    },
    "756f373c43b64c1ba4f9668d91d059ec": {
     "model_module": "@jupyter-widgets/base",
     "model_module_version": "1.2.0",
     "model_name": "LayoutModel",
     "state": {
      "_model_module": "@jupyter-widgets/base",
      "_model_module_version": "1.2.0",
      "_model_name": "LayoutModel",
      "_view_count": null,
      "_view_module": "@jupyter-widgets/base",
      "_view_module_version": "1.2.0",
      "_view_name": "LayoutView",
      "align_content": null,
      "align_items": null,
      "align_self": null,
      "border": null,
      "bottom": null,
      "display": null,
      "flex": null,
      "flex_flow": null,
      "grid_area": null,
      "grid_auto_columns": null,
      "grid_auto_flow": null,
      "grid_auto_rows": null,
      "grid_column": null,
      "grid_gap": null,
      "grid_row": null,
      "grid_template_areas": null,
      "grid_template_columns": null,
      "grid_template_rows": null,
      "height": null,
      "justify_content": null,
      "justify_items": null,
      "left": null,
      "margin": null,
      "max_height": null,
      "max_width": null,
      "min_height": null,
      "min_width": null,
      "object_fit": null,
      "object_position": null,
      "order": null,
      "overflow": null,
      "overflow_x": null,
      "overflow_y": null,
      "padding": null,
      "right": null,
      "top": null,
      "visibility": null,
      "width": null
     }
    },
    "76d6fcf7d45649a3947ef199beccac83": {
     "model_module": "@jupyter-widgets/controls",
     "model_module_version": "1.5.0",
     "model_name": "DescriptionStyleModel",
     "state": {
      "_model_module": "@jupyter-widgets/controls",
      "_model_module_version": "1.5.0",
      "_model_name": "DescriptionStyleModel",
      "_view_count": null,
      "_view_module": "@jupyter-widgets/base",
      "_view_module_version": "1.2.0",
      "_view_name": "StyleView",
      "description_width": ""
     }
    },
    "7831b1d7c9054f3faa8f7e280f3676b9": {
     "model_module": "@jupyter-widgets/base",
     "model_module_version": "1.2.0",
     "model_name": "LayoutModel",
     "state": {
      "_model_module": "@jupyter-widgets/base",
      "_model_module_version": "1.2.0",
      "_model_name": "LayoutModel",
      "_view_count": null,
      "_view_module": "@jupyter-widgets/base",
      "_view_module_version": "1.2.0",
      "_view_name": "LayoutView",
      "align_content": null,
      "align_items": null,
      "align_self": null,
      "border": null,
      "bottom": null,
      "display": null,
      "flex": null,
      "flex_flow": null,
      "grid_area": null,
      "grid_auto_columns": null,
      "grid_auto_flow": null,
      "grid_auto_rows": null,
      "grid_column": null,
      "grid_gap": null,
      "grid_row": null,
      "grid_template_areas": null,
      "grid_template_columns": null,
      "grid_template_rows": null,
      "height": null,
      "justify_content": null,
      "justify_items": null,
      "left": null,
      "margin": null,
      "max_height": null,
      "max_width": null,
      "min_height": null,
      "min_width": null,
      "object_fit": null,
      "object_position": null,
      "order": null,
      "overflow": null,
      "overflow_x": null,
      "overflow_y": null,
      "padding": null,
      "right": null,
      "top": null,
      "visibility": null,
      "width": null
     }
    },
    "7ad6a66d01684ca3bd845c5cb8e5825a": {
     "model_module": "@jupyter-widgets/base",
     "model_module_version": "1.2.0",
     "model_name": "LayoutModel",
     "state": {
      "_model_module": "@jupyter-widgets/base",
      "_model_module_version": "1.2.0",
      "_model_name": "LayoutModel",
      "_view_count": null,
      "_view_module": "@jupyter-widgets/base",
      "_view_module_version": "1.2.0",
      "_view_name": "LayoutView",
      "align_content": null,
      "align_items": null,
      "align_self": null,
      "border": null,
      "bottom": null,
      "display": null,
      "flex": null,
      "flex_flow": null,
      "grid_area": null,
      "grid_auto_columns": null,
      "grid_auto_flow": null,
      "grid_auto_rows": null,
      "grid_column": null,
      "grid_gap": null,
      "grid_row": null,
      "grid_template_areas": null,
      "grid_template_columns": null,
      "grid_template_rows": null,
      "height": null,
      "justify_content": null,
      "justify_items": null,
      "left": null,
      "margin": null,
      "max_height": null,
      "max_width": null,
      "min_height": null,
      "min_width": null,
      "object_fit": null,
      "object_position": null,
      "order": null,
      "overflow": null,
      "overflow_x": null,
      "overflow_y": null,
      "padding": null,
      "right": null,
      "top": null,
      "visibility": null,
      "width": null
     }
    },
    "7b27d475ea6544d19df5d4c1291539b5": {
     "model_module": "@jupyter-widgets/base",
     "model_module_version": "1.2.0",
     "model_name": "LayoutModel",
     "state": {
      "_model_module": "@jupyter-widgets/base",
      "_model_module_version": "1.2.0",
      "_model_name": "LayoutModel",
      "_view_count": null,
      "_view_module": "@jupyter-widgets/base",
      "_view_module_version": "1.2.0",
      "_view_name": "LayoutView",
      "align_content": null,
      "align_items": null,
      "align_self": null,
      "border": null,
      "bottom": null,
      "display": null,
      "flex": null,
      "flex_flow": null,
      "grid_area": null,
      "grid_auto_columns": null,
      "grid_auto_flow": null,
      "grid_auto_rows": null,
      "grid_column": null,
      "grid_gap": null,
      "grid_row": null,
      "grid_template_areas": null,
      "grid_template_columns": null,
      "grid_template_rows": null,
      "height": null,
      "justify_content": null,
      "justify_items": null,
      "left": null,
      "margin": null,
      "max_height": null,
      "max_width": null,
      "min_height": null,
      "min_width": null,
      "object_fit": null,
      "object_position": null,
      "order": null,
      "overflow": null,
      "overflow_x": null,
      "overflow_y": null,
      "padding": null,
      "right": null,
      "top": null,
      "visibility": null,
      "width": null
     }
    },
    "7b48926e24d448d38810001834020b55": {
     "model_module": "@jupyter-widgets/base",
     "model_module_version": "1.2.0",
     "model_name": "LayoutModel",
     "state": {
      "_model_module": "@jupyter-widgets/base",
      "_model_module_version": "1.2.0",
      "_model_name": "LayoutModel",
      "_view_count": null,
      "_view_module": "@jupyter-widgets/base",
      "_view_module_version": "1.2.0",
      "_view_name": "LayoutView",
      "align_content": null,
      "align_items": null,
      "align_self": null,
      "border": null,
      "bottom": null,
      "display": null,
      "flex": null,
      "flex_flow": null,
      "grid_area": null,
      "grid_auto_columns": null,
      "grid_auto_flow": null,
      "grid_auto_rows": null,
      "grid_column": null,
      "grid_gap": null,
      "grid_row": null,
      "grid_template_areas": null,
      "grid_template_columns": null,
      "grid_template_rows": null,
      "height": null,
      "justify_content": null,
      "justify_items": null,
      "left": null,
      "margin": null,
      "max_height": null,
      "max_width": null,
      "min_height": null,
      "min_width": null,
      "object_fit": null,
      "object_position": null,
      "order": null,
      "overflow": null,
      "overflow_x": null,
      "overflow_y": null,
      "padding": null,
      "right": null,
      "top": null,
      "visibility": null,
      "width": null
     }
    },
    "7dfab99d13504e76a3fbed258f1933b4": {
     "model_module": "@jupyter-widgets/controls",
     "model_module_version": "1.5.0",
     "model_name": "HTMLModel",
     "state": {
      "_dom_classes": [],
      "_model_module": "@jupyter-widgets/controls",
      "_model_module_version": "1.5.0",
      "_model_name": "HTMLModel",
      "_view_count": null,
      "_view_module": "@jupyter-widgets/controls",
      "_view_module_version": "1.5.0",
      "_view_name": "HTMLView",
      "description": "",
      "description_tooltip": null,
      "layout": "IPY_MODEL_256ace0d05ae489fad26cdbac9fd3502",
      "placeholder": "​",
      "style": "IPY_MODEL_1571ba54beca47a69ef597cb15df214b",
      "value": " 138/138 [00:00&lt;00:00, 12.1kB/s]"
     }
    },
    "8142a04b596d484f87c2620cb1afab2f": {
     "model_module": "@jupyter-widgets/base",
     "model_module_version": "1.2.0",
     "model_name": "LayoutModel",
     "state": {
      "_model_module": "@jupyter-widgets/base",
      "_model_module_version": "1.2.0",
      "_model_name": "LayoutModel",
      "_view_count": null,
      "_view_module": "@jupyter-widgets/base",
      "_view_module_version": "1.2.0",
      "_view_name": "LayoutView",
      "align_content": null,
      "align_items": null,
      "align_self": null,
      "border": null,
      "bottom": null,
      "display": null,
      "flex": null,
      "flex_flow": null,
      "grid_area": null,
      "grid_auto_columns": null,
      "grid_auto_flow": null,
      "grid_auto_rows": null,
      "grid_column": null,
      "grid_gap": null,
      "grid_row": null,
      "grid_template_areas": null,
      "grid_template_columns": null,
      "grid_template_rows": null,
      "height": null,
      "justify_content": null,
      "justify_items": null,
      "left": null,
      "margin": null,
      "max_height": null,
      "max_width": null,
      "min_height": null,
      "min_width": null,
      "object_fit": null,
      "object_position": null,
      "order": null,
      "overflow": null,
      "overflow_x": null,
      "overflow_y": null,
      "padding": null,
      "right": null,
      "top": null,
      "visibility": null,
      "width": null
     }
    },
    "8164fbc2518641558417b26eaa2fb3be": {
     "model_module": "@jupyter-widgets/controls",
     "model_module_version": "1.5.0",
     "model_name": "ProgressStyleModel",
     "state": {
      "_model_module": "@jupyter-widgets/controls",
      "_model_module_version": "1.5.0",
      "_model_name": "ProgressStyleModel",
      "_view_count": null,
      "_view_module": "@jupyter-widgets/base",
      "_view_module_version": "1.2.0",
      "_view_name": "StyleView",
      "bar_color": null,
      "description_width": ""
     }
    },
    "82a94b011a904f2884f6f8206064ed89": {
     "model_module": "@jupyter-widgets/base",
     "model_module_version": "1.2.0",
     "model_name": "LayoutModel",
     "state": {
      "_model_module": "@jupyter-widgets/base",
      "_model_module_version": "1.2.0",
      "_model_name": "LayoutModel",
      "_view_count": null,
      "_view_module": "@jupyter-widgets/base",
      "_view_module_version": "1.2.0",
      "_view_name": "LayoutView",
      "align_content": null,
      "align_items": null,
      "align_self": null,
      "border": null,
      "bottom": null,
      "display": null,
      "flex": null,
      "flex_flow": null,
      "grid_area": null,
      "grid_auto_columns": null,
      "grid_auto_flow": null,
      "grid_auto_rows": null,
      "grid_column": null,
      "grid_gap": null,
      "grid_row": null,
      "grid_template_areas": null,
      "grid_template_columns": null,
      "grid_template_rows": null,
      "height": null,
      "justify_content": null,
      "justify_items": null,
      "left": null,
      "margin": null,
      "max_height": null,
      "max_width": null,
      "min_height": null,
      "min_width": null,
      "object_fit": null,
      "object_position": null,
      "order": null,
      "overflow": null,
      "overflow_x": null,
      "overflow_y": null,
      "padding": null,
      "right": null,
      "top": null,
      "visibility": null,
      "width": null
     }
    },
    "851e5249a3474421a1c527c3f35545b5": {
     "model_module": "@jupyter-widgets/base",
     "model_module_version": "1.2.0",
     "model_name": "LayoutModel",
     "state": {
      "_model_module": "@jupyter-widgets/base",
      "_model_module_version": "1.2.0",
      "_model_name": "LayoutModel",
      "_view_count": null,
      "_view_module": "@jupyter-widgets/base",
      "_view_module_version": "1.2.0",
      "_view_name": "LayoutView",
      "align_content": null,
      "align_items": null,
      "align_self": null,
      "border": null,
      "bottom": null,
      "display": null,
      "flex": null,
      "flex_flow": null,
      "grid_area": null,
      "grid_auto_columns": null,
      "grid_auto_flow": null,
      "grid_auto_rows": null,
      "grid_column": null,
      "grid_gap": null,
      "grid_row": null,
      "grid_template_areas": null,
      "grid_template_columns": null,
      "grid_template_rows": null,
      "height": null,
      "justify_content": null,
      "justify_items": null,
      "left": null,
      "margin": null,
      "max_height": null,
      "max_width": null,
      "min_height": null,
      "min_width": null,
      "object_fit": null,
      "object_position": null,
      "order": null,
      "overflow": null,
      "overflow_x": null,
      "overflow_y": null,
      "padding": null,
      "right": null,
      "top": null,
      "visibility": null,
      "width": null
     }
    },
    "87336531a7d449ea8e73b1707e921ccf": {
     "model_module": "@jupyter-widgets/controls",
     "model_module_version": "1.5.0",
     "model_name": "DescriptionStyleModel",
     "state": {
      "_model_module": "@jupyter-widgets/controls",
      "_model_module_version": "1.5.0",
      "_model_name": "DescriptionStyleModel",
      "_view_count": null,
      "_view_module": "@jupyter-widgets/base",
      "_view_module_version": "1.2.0",
      "_view_name": "StyleView",
      "description_width": ""
     }
    },
    "8978e7bba2364d1d802f2a7c7560297b": {
     "model_module": "@jupyter-widgets/controls",
     "model_module_version": "1.5.0",
     "model_name": "HTMLModel",
     "state": {
      "_dom_classes": [],
      "_model_module": "@jupyter-widgets/controls",
      "_model_module_version": "1.5.0",
      "_model_name": "HTMLModel",
      "_view_count": null,
      "_view_module": "@jupyter-widgets/controls",
      "_view_module_version": "1.5.0",
      "_view_name": "HTMLView",
      "description": "",
      "description_tooltip": null,
      "layout": "IPY_MODEL_851e5249a3474421a1c527c3f35545b5",
      "placeholder": "​",
      "style": "IPY_MODEL_65073b78db274217b2f9800549cdcd2d",
      "value": "README.md: 100%"
     }
    },
    "8ca7b55e3b8f40668eb4abd2892971df": {
     "model_module": "@jupyter-widgets/controls",
     "model_module_version": "1.5.0",
     "model_name": "FloatProgressModel",
     "state": {
      "_dom_classes": [],
      "_model_module": "@jupyter-widgets/controls",
      "_model_module_version": "1.5.0",
      "_model_name": "FloatProgressModel",
      "_view_count": null,
      "_view_module": "@jupyter-widgets/controls",
      "_view_module_version": "1.5.0",
      "_view_name": "ProgressView",
      "bar_style": "success",
      "description": "",
      "description_tooltip": null,
      "layout": "IPY_MODEL_a198338d2c6945699da654673bf9b745",
      "max": 138,
      "min": 0,
      "orientation": "horizontal",
      "style": "IPY_MODEL_8164fbc2518641558417b26eaa2fb3be",
      "value": 138
     }
    },
    "8e216fa2d97d4b638e046076ebf2ec2f": {
     "model_module": "@jupyter-widgets/base",
     "model_module_version": "1.2.0",
     "model_name": "LayoutModel",
     "state": {
      "_model_module": "@jupyter-widgets/base",
      "_model_module_version": "1.2.0",
      "_model_name": "LayoutModel",
      "_view_count": null,
      "_view_module": "@jupyter-widgets/base",
      "_view_module_version": "1.2.0",
      "_view_name": "LayoutView",
      "align_content": null,
      "align_items": null,
      "align_self": null,
      "border": null,
      "bottom": null,
      "display": null,
      "flex": null,
      "flex_flow": null,
      "grid_area": null,
      "grid_auto_columns": null,
      "grid_auto_flow": null,
      "grid_auto_rows": null,
      "grid_column": null,
      "grid_gap": null,
      "grid_row": null,
      "grid_template_areas": null,
      "grid_template_columns": null,
      "grid_template_rows": null,
      "height": null,
      "justify_content": null,
      "justify_items": null,
      "left": null,
      "margin": null,
      "max_height": null,
      "max_width": null,
      "min_height": null,
      "min_width": null,
      "object_fit": null,
      "object_position": null,
      "order": null,
      "overflow": null,
      "overflow_x": null,
      "overflow_y": null,
      "padding": null,
      "right": null,
      "top": null,
      "visibility": null,
      "width": null
     }
    },
    "8eaf3b02c5eb413a92308be974b31b49": {
     "model_module": "@jupyter-widgets/base",
     "model_module_version": "1.2.0",
     "model_name": "LayoutModel",
     "state": {
      "_model_module": "@jupyter-widgets/base",
      "_model_module_version": "1.2.0",
      "_model_name": "LayoutModel",
      "_view_count": null,
      "_view_module": "@jupyter-widgets/base",
      "_view_module_version": "1.2.0",
      "_view_name": "LayoutView",
      "align_content": null,
      "align_items": null,
      "align_self": null,
      "border": null,
      "bottom": null,
      "display": null,
      "flex": null,
      "flex_flow": null,
      "grid_area": null,
      "grid_auto_columns": null,
      "grid_auto_flow": null,
      "grid_auto_rows": null,
      "grid_column": null,
      "grid_gap": null,
      "grid_row": null,
      "grid_template_areas": null,
      "grid_template_columns": null,
      "grid_template_rows": null,
      "height": null,
      "justify_content": null,
      "justify_items": null,
      "left": null,
      "margin": null,
      "max_height": null,
      "max_width": null,
      "min_height": null,
      "min_width": null,
      "object_fit": null,
      "object_position": null,
      "order": null,
      "overflow": null,
      "overflow_x": null,
      "overflow_y": null,
      "padding": null,
      "right": null,
      "top": null,
      "visibility": null,
      "width": null
     }
    },
    "9128a37a06ce4b269b2e60a29710c181": {
     "model_module": "@jupyter-widgets/controls",
     "model_module_version": "1.5.0",
     "model_name": "DescriptionStyleModel",
     "state": {
      "_model_module": "@jupyter-widgets/controls",
      "_model_module_version": "1.5.0",
      "_model_name": "DescriptionStyleModel",
      "_view_count": null,
      "_view_module": "@jupyter-widgets/base",
      "_view_module_version": "1.2.0",
      "_view_name": "StyleView",
      "description_width": ""
     }
    },
    "930dd8bebebc475795350db5405a591e": {
     "model_module": "@jupyter-widgets/base",
     "model_module_version": "1.2.0",
     "model_name": "LayoutModel",
     "state": {
      "_model_module": "@jupyter-widgets/base",
      "_model_module_version": "1.2.0",
      "_model_name": "LayoutModel",
      "_view_count": null,
      "_view_module": "@jupyter-widgets/base",
      "_view_module_version": "1.2.0",
      "_view_name": "LayoutView",
      "align_content": null,
      "align_items": null,
      "align_self": null,
      "border": null,
      "bottom": null,
      "display": null,
      "flex": null,
      "flex_flow": null,
      "grid_area": null,
      "grid_auto_columns": null,
      "grid_auto_flow": null,
      "grid_auto_rows": null,
      "grid_column": null,
      "grid_gap": null,
      "grid_row": null,
      "grid_template_areas": null,
      "grid_template_columns": null,
      "grid_template_rows": null,
      "height": null,
      "justify_content": null,
      "justify_items": null,
      "left": null,
      "margin": null,
      "max_height": null,
      "max_width": null,
      "min_height": null,
      "min_width": null,
      "object_fit": null,
      "object_position": null,
      "order": null,
      "overflow": null,
      "overflow_x": null,
      "overflow_y": null,
      "padding": null,
      "right": null,
      "top": null,
      "visibility": null,
      "width": null
     }
    },
    "938d14371d034e859cba003bab3c0cc5": {
     "model_module": "@jupyter-widgets/base",
     "model_module_version": "1.2.0",
     "model_name": "LayoutModel",
     "state": {
      "_model_module": "@jupyter-widgets/base",
      "_model_module_version": "1.2.0",
      "_model_name": "LayoutModel",
      "_view_count": null,
      "_view_module": "@jupyter-widgets/base",
      "_view_module_version": "1.2.0",
      "_view_name": "LayoutView",
      "align_content": null,
      "align_items": null,
      "align_self": null,
      "border": null,
      "bottom": null,
      "display": null,
      "flex": null,
      "flex_flow": null,
      "grid_area": null,
      "grid_auto_columns": null,
      "grid_auto_flow": null,
      "grid_auto_rows": null,
      "grid_column": null,
      "grid_gap": null,
      "grid_row": null,
      "grid_template_areas": null,
      "grid_template_columns": null,
      "grid_template_rows": null,
      "height": null,
      "justify_content": null,
      "justify_items": null,
      "left": null,
      "margin": null,
      "max_height": null,
      "max_width": null,
      "min_height": null,
      "min_width": null,
      "object_fit": null,
      "object_position": null,
      "order": null,
      "overflow": null,
      "overflow_x": null,
      "overflow_y": null,
      "padding": null,
      "right": null,
      "top": null,
      "visibility": null,
      "width": null
     }
    },
    "95ad4875749843a2b1cf08987c682df9": {
     "model_module": "@jupyter-widgets/controls",
     "model_module_version": "1.5.0",
     "model_name": "DescriptionStyleModel",
     "state": {
      "_model_module": "@jupyter-widgets/controls",
      "_model_module_version": "1.5.0",
      "_model_name": "DescriptionStyleModel",
      "_view_count": null,
      "_view_module": "@jupyter-widgets/base",
      "_view_module_version": "1.2.0",
      "_view_name": "StyleView",
      "description_width": ""
     }
    },
    "95aece1615ac4f4fa568a77b4a0d0e1a": {
     "model_module": "@jupyter-widgets/controls",
     "model_module_version": "1.5.0",
     "model_name": "HTMLModel",
     "state": {
      "_dom_classes": [],
      "_model_module": "@jupyter-widgets/controls",
      "_model_module_version": "1.5.0",
      "_model_name": "HTMLModel",
      "_view_count": null,
      "_view_module": "@jupyter-widgets/controls",
      "_view_module_version": "1.5.0",
      "_view_name": "HTMLView",
      "description": "",
      "description_tooltip": null,
      "layout": "IPY_MODEL_8e216fa2d97d4b638e046076ebf2ec2f",
      "placeholder": "​",
      "style": "IPY_MODEL_9128a37a06ce4b269b2e60a29710c181",
      "value": "Saving the dataset (1/1 shards): 100%"
     }
    },
    "95de1ad519ec479797c56a59ae13826a": {
     "model_module": "@jupyter-widgets/base",
     "model_module_version": "1.2.0",
     "model_name": "LayoutModel",
     "state": {
      "_model_module": "@jupyter-widgets/base",
      "_model_module_version": "1.2.0",
      "_model_name": "LayoutModel",
      "_view_count": null,
      "_view_module": "@jupyter-widgets/base",
      "_view_module_version": "1.2.0",
      "_view_name": "LayoutView",
      "align_content": null,
      "align_items": null,
      "align_self": null,
      "border": null,
      "bottom": null,
      "display": null,
      "flex": null,
      "flex_flow": null,
      "grid_area": null,
      "grid_auto_columns": null,
      "grid_auto_flow": null,
      "grid_auto_rows": null,
      "grid_column": null,
      "grid_gap": null,
      "grid_row": null,
      "grid_template_areas": null,
      "grid_template_columns": null,
      "grid_template_rows": null,
      "height": null,
      "justify_content": null,
      "justify_items": null,
      "left": null,
      "margin": null,
      "max_height": null,
      "max_width": null,
      "min_height": null,
      "min_width": null,
      "object_fit": null,
      "object_position": null,
      "order": null,
      "overflow": null,
      "overflow_x": null,
      "overflow_y": null,
      "padding": null,
      "right": null,
      "top": null,
      "visibility": null,
      "width": null
     }
    },
    "9a33cd22c9cc4c34a2e60a87c37d8eaa": {
     "model_module": "@jupyter-widgets/controls",
     "model_module_version": "1.5.0",
     "model_name": "FloatProgressModel",
     "state": {
      "_dom_classes": [],
      "_model_module": "@jupyter-widgets/controls",
      "_model_module_version": "1.5.0",
      "_model_name": "FloatProgressModel",
      "_view_count": null,
      "_view_module": "@jupyter-widgets/controls",
      "_view_module_version": "1.5.0",
      "_view_name": "ProgressView",
      "bar_style": "success",
      "description": "",
      "description_tooltip": null,
      "layout": "IPY_MODEL_006b088e27734f77a03883739f69042b",
      "max": 307078005,
      "min": 0,
      "orientation": "horizontal",
      "style": "IPY_MODEL_1c6b9b798563409cad0bd52e2ba423a9",
      "value": 307078005
     }
    },
    "9a9f863626b54cfebb48efe95142ebb2": {
     "model_module": "@jupyter-widgets/controls",
     "model_module_version": "1.5.0",
     "model_name": "HTMLModel",
     "state": {
      "_dom_classes": [],
      "_model_module": "@jupyter-widgets/controls",
      "_model_module_version": "1.5.0",
      "_model_name": "HTMLModel",
      "_view_count": null,
      "_view_module": "@jupyter-widgets/controls",
      "_view_module_version": "1.5.0",
      "_view_name": "HTMLView",
      "description": "",
      "description_tooltip": null,
      "layout": "IPY_MODEL_ea3f8d8660a942fba64236fbc2cbd787",
      "placeholder": "​",
      "style": "IPY_MODEL_c7ba627ffac54eb89180843c8ad721bb",
      "value": " 19944/19944 [00:00&lt;00:00, 66386.15 examples/s]"
     }
    },
    "9b977ee086ed49d38325d4fbb005d664": {
     "model_module": "@jupyter-widgets/base",
     "model_module_version": "1.2.0",
     "model_name": "LayoutModel",
     "state": {
      "_model_module": "@jupyter-widgets/base",
      "_model_module_version": "1.2.0",
      "_model_name": "LayoutModel",
      "_view_count": null,
      "_view_module": "@jupyter-widgets/base",
      "_view_module_version": "1.2.0",
      "_view_name": "LayoutView",
      "align_content": null,
      "align_items": null,
      "align_self": null,
      "border": null,
      "bottom": null,
      "display": null,
      "flex": null,
      "flex_flow": null,
      "grid_area": null,
      "grid_auto_columns": null,
      "grid_auto_flow": null,
      "grid_auto_rows": null,
      "grid_column": null,
      "grid_gap": null,
      "grid_row": null,
      "grid_template_areas": null,
      "grid_template_columns": null,
      "grid_template_rows": null,
      "height": null,
      "justify_content": null,
      "justify_items": null,
      "left": null,
      "margin": null,
      "max_height": null,
      "max_width": null,
      "min_height": null,
      "min_width": null,
      "object_fit": null,
      "object_position": null,
      "order": null,
      "overflow": null,
      "overflow_x": null,
      "overflow_y": null,
      "padding": null,
      "right": null,
      "top": null,
      "visibility": null,
      "width": null
     }
    },
    "9bfa854836e249d79617969ac207754b": {
     "model_module": "@jupyter-widgets/base",
     "model_module_version": "1.2.0",
     "model_name": "LayoutModel",
     "state": {
      "_model_module": "@jupyter-widgets/base",
      "_model_module_version": "1.2.0",
      "_model_name": "LayoutModel",
      "_view_count": null,
      "_view_module": "@jupyter-widgets/base",
      "_view_module_version": "1.2.0",
      "_view_name": "LayoutView",
      "align_content": null,
      "align_items": null,
      "align_self": null,
      "border": null,
      "bottom": null,
      "display": null,
      "flex": null,
      "flex_flow": null,
      "grid_area": null,
      "grid_auto_columns": null,
      "grid_auto_flow": null,
      "grid_auto_rows": null,
      "grid_column": null,
      "grid_gap": null,
      "grid_row": null,
      "grid_template_areas": null,
      "grid_template_columns": null,
      "grid_template_rows": null,
      "height": null,
      "justify_content": null,
      "justify_items": null,
      "left": null,
      "margin": null,
      "max_height": null,
      "max_width": null,
      "min_height": null,
      "min_width": null,
      "object_fit": null,
      "object_position": null,
      "order": null,
      "overflow": null,
      "overflow_x": null,
      "overflow_y": null,
      "padding": null,
      "right": null,
      "top": null,
      "visibility": null,
      "width": null
     }
    },
    "9dd40131eecd42a79519b897749b39e6": {
     "model_module": "@jupyter-widgets/controls",
     "model_module_version": "1.5.0",
     "model_name": "HTMLModel",
     "state": {
      "_dom_classes": [],
      "_model_module": "@jupyter-widgets/controls",
      "_model_module_version": "1.5.0",
      "_model_name": "HTMLModel",
      "_view_count": null,
      "_view_module": "@jupyter-widgets/controls",
      "_view_module_version": "1.5.0",
      "_view_name": "HTMLView",
      "description": "",
      "description_tooltip": null,
      "layout": "IPY_MODEL_7b48926e24d448d38810001834020b55",
      "placeholder": "​",
      "style": "IPY_MODEL_b9e2cc6fde514d5dbb26c936d1cdfed2",
      "value": " 19944/19944 [00:04&lt;00:00, 4612.92 examples/s]"
     }
    },
    "a198338d2c6945699da654673bf9b745": {
     "model_module": "@jupyter-widgets/base",
     "model_module_version": "1.2.0",
     "model_name": "LayoutModel",
     "state": {
      "_model_module": "@jupyter-widgets/base",
      "_model_module_version": "1.2.0",
      "_model_name": "LayoutModel",
      "_view_count": null,
      "_view_module": "@jupyter-widgets/base",
      "_view_module_version": "1.2.0",
      "_view_name": "LayoutView",
      "align_content": null,
      "align_items": null,
      "align_self": null,
      "border": null,
      "bottom": null,
      "display": null,
      "flex": null,
      "flex_flow": null,
      "grid_area": null,
      "grid_auto_columns": null,
      "grid_auto_flow": null,
      "grid_auto_rows": null,
      "grid_column": null,
      "grid_gap": null,
      "grid_row": null,
      "grid_template_areas": null,
      "grid_template_columns": null,
      "grid_template_rows": null,
      "height": null,
      "justify_content": null,
      "justify_items": null,
      "left": null,
      "margin": null,
      "max_height": null,
      "max_width": null,
      "min_height": null,
      "min_width": null,
      "object_fit": null,
      "object_position": null,
      "order": null,
      "overflow": null,
      "overflow_x": null,
      "overflow_y": null,
      "padding": null,
      "right": null,
      "top": null,
      "visibility": null,
      "width": null
     }
    },
    "a2b2494c19764c22908fa7247a1fc02c": {
     "model_module": "@jupyter-widgets/controls",
     "model_module_version": "1.5.0",
     "model_name": "HBoxModel",
     "state": {
      "_dom_classes": [],
      "_model_module": "@jupyter-widgets/controls",
      "_model_module_version": "1.5.0",
      "_model_name": "HBoxModel",
      "_view_count": null,
      "_view_module": "@jupyter-widgets/controls",
      "_view_module_version": "1.5.0",
      "_view_name": "HBoxView",
      "box_style": "",
      "children": [
       "IPY_MODEL_deb2379001af474cabbeca1df3c7dc95",
       "IPY_MODEL_8ca7b55e3b8f40668eb4abd2892971df",
       "IPY_MODEL_7dfab99d13504e76a3fbed258f1933b4"
      ],
      "layout": "IPY_MODEL_2b05d0a1e27f4c4094ffb7801ad11076"
     }
    },
    "a4435caad91a4ab6ac25ebb860a1108e": {
     "model_module": "@jupyter-widgets/base",
     "model_module_version": "1.2.0",
     "model_name": "LayoutModel",
     "state": {
      "_model_module": "@jupyter-widgets/base",
      "_model_module_version": "1.2.0",
      "_model_name": "LayoutModel",
      "_view_count": null,
      "_view_module": "@jupyter-widgets/base",
      "_view_module_version": "1.2.0",
      "_view_name": "LayoutView",
      "align_content": null,
      "align_items": null,
      "align_self": null,
      "border": null,
      "bottom": null,
      "display": null,
      "flex": null,
      "flex_flow": null,
      "grid_area": null,
      "grid_auto_columns": null,
      "grid_auto_flow": null,
      "grid_auto_rows": null,
      "grid_column": null,
      "grid_gap": null,
      "grid_row": null,
      "grid_template_areas": null,
      "grid_template_columns": null,
      "grid_template_rows": null,
      "height": null,
      "justify_content": null,
      "justify_items": null,
      "left": null,
      "margin": null,
      "max_height": null,
      "max_width": null,
      "min_height": null,
      "min_width": null,
      "object_fit": null,
      "object_position": null,
      "order": null,
      "overflow": null,
      "overflow_x": null,
      "overflow_y": null,
      "padding": null,
      "right": null,
      "top": null,
      "visibility": null,
      "width": null
     }
    },
    "a4ac3a557f2347b2b828f0c966a4d4fe": {
     "model_module": "@jupyter-widgets/controls",
     "model_module_version": "1.5.0",
     "model_name": "HTMLModel",
     "state": {
      "_dom_classes": [],
      "_model_module": "@jupyter-widgets/controls",
      "_model_module_version": "1.5.0",
      "_model_name": "HTMLModel",
      "_view_count": null,
      "_view_module": "@jupyter-widgets/controls",
      "_view_module_version": "1.5.0",
      "_view_name": "HTMLView",
      "description": "",
      "description_tooltip": null,
      "layout": "IPY_MODEL_33113930b3a84366bb5f5b60e40f234e",
      "placeholder": "​",
      "style": "IPY_MODEL_1f47d0fcdac84c0986ac056b480c0dc7",
      "value": "Generating train split: 100%"
     }
    },
    "a820971e767f4c49a157e5ff2db82c6f": {
     "model_module": "@jupyter-widgets/controls",
     "model_module_version": "1.5.0",
     "model_name": "FloatProgressModel",
     "state": {
      "_dom_classes": [],
      "_model_module": "@jupyter-widgets/controls",
      "_model_module_version": "1.5.0",
      "_model_name": "FloatProgressModel",
      "_view_count": null,
      "_view_module": "@jupyter-widgets/controls",
      "_view_module_version": "1.5.0",
      "_view_name": "ProgressView",
      "bar_style": "success",
      "description": "",
      "description_tooltip": null,
      "layout": "IPY_MODEL_6365c0f5fc35484dba06f88fbc8f0656",
      "max": 7031645,
      "min": 0,
      "orientation": "horizontal",
      "style": "IPY_MODEL_aba50b35a10e4f6892742eed763a8890",
      "value": 7031645
     }
    },
    "aba50b35a10e4f6892742eed763a8890": {
     "model_module": "@jupyter-widgets/controls",
     "model_module_version": "1.5.0",
     "model_name": "ProgressStyleModel",
     "state": {
      "_model_module": "@jupyter-widgets/controls",
      "_model_module_version": "1.5.0",
      "_model_name": "ProgressStyleModel",
      "_view_count": null,
      "_view_module": "@jupyter-widgets/base",
      "_view_module_version": "1.2.0",
      "_view_name": "StyleView",
      "bar_color": null,
      "description_width": ""
     }
    },
    "afdcb773c48f419a92b7231f3a07255f": {
     "model_module": "@jupyter-widgets/controls",
     "model_module_version": "1.5.0",
     "model_name": "DescriptionStyleModel",
     "state": {
      "_model_module": "@jupyter-widgets/controls",
      "_model_module_version": "1.5.0",
      "_model_name": "DescriptionStyleModel",
      "_view_count": null,
      "_view_module": "@jupyter-widgets/base",
      "_view_module_version": "1.2.0",
      "_view_name": "StyleView",
      "description_width": ""
     }
    },
    "b6ee43871869434d9cc65504cba5cac7": {
     "model_module": "@jupyter-widgets/controls",
     "model_module_version": "1.5.0",
     "model_name": "DescriptionStyleModel",
     "state": {
      "_model_module": "@jupyter-widgets/controls",
      "_model_module_version": "1.5.0",
      "_model_name": "DescriptionStyleModel",
      "_view_count": null,
      "_view_module": "@jupyter-widgets/base",
      "_view_module_version": "1.2.0",
      "_view_name": "StyleView",
      "description_width": ""
     }
    },
    "b7f1116dd979421f986a3289bf98ad19": {
     "model_module": "@jupyter-widgets/controls",
     "model_module_version": "1.5.0",
     "model_name": "DescriptionStyleModel",
     "state": {
      "_model_module": "@jupyter-widgets/controls",
      "_model_module_version": "1.5.0",
      "_model_name": "DescriptionStyleModel",
      "_view_count": null,
      "_view_module": "@jupyter-widgets/base",
      "_view_module_version": "1.2.0",
      "_view_name": "StyleView",
      "description_width": ""
     }
    },
    "b83f73dd875742459448f70c4d98eb0c": {
     "model_module": "@jupyter-widgets/controls",
     "model_module_version": "1.5.0",
     "model_name": "HTMLModel",
     "state": {
      "_dom_classes": [],
      "_model_module": "@jupyter-widgets/controls",
      "_model_module_version": "1.5.0",
      "_model_name": "HTMLModel",
      "_view_count": null,
      "_view_module": "@jupyter-widgets/controls",
      "_view_module_version": "1.5.0",
      "_view_name": "HTMLView",
      "description": "",
      "description_tooltip": null,
      "layout": "IPY_MODEL_0b2c49f831304163acc0d2f4cf0089b0",
      "placeholder": "​",
      "style": "IPY_MODEL_514e06329caa4fbb963a382a3e894054",
      "value": "Map: 100%"
     }
    },
    "b9e2cc6fde514d5dbb26c936d1cdfed2": {
     "model_module": "@jupyter-widgets/controls",
     "model_module_version": "1.5.0",
     "model_name": "DescriptionStyleModel",
     "state": {
      "_model_module": "@jupyter-widgets/controls",
      "_model_module_version": "1.5.0",
      "_model_name": "DescriptionStyleModel",
      "_view_count": null,
      "_view_module": "@jupyter-widgets/base",
      "_view_module_version": "1.2.0",
      "_view_name": "StyleView",
      "description_width": ""
     }
    },
    "bb94ba3e0f714a8e9b9b61c134e2f74c": {
     "model_module": "@jupyter-widgets/controls",
     "model_module_version": "1.5.0",
     "model_name": "FloatProgressModel",
     "state": {
      "_dom_classes": [],
      "_model_module": "@jupyter-widgets/controls",
      "_model_module_version": "1.5.0",
      "_model_name": "FloatProgressModel",
      "_view_count": null,
      "_view_module": "@jupyter-widgets/controls",
      "_view_module_version": "1.5.0",
      "_view_name": "ProgressView",
      "bar_style": "success",
      "description": "",
      "description_tooltip": null,
      "layout": "IPY_MODEL_f46cdc40f11349108d92539de4185b33",
      "max": 19944,
      "min": 0,
      "orientation": "horizontal",
      "style": "IPY_MODEL_55bb9e5806eb422197e7d19e62305a2a",
      "value": 19944
     }
    },
    "bcbd9e82d1ed4ad6b51e8699a6087041": {
     "model_module": "@jupyter-widgets/base",
     "model_module_version": "1.2.0",
     "model_name": "LayoutModel",
     "state": {
      "_model_module": "@jupyter-widgets/base",
      "_model_module_version": "1.2.0",
      "_model_name": "LayoutModel",
      "_view_count": null,
      "_view_module": "@jupyter-widgets/base",
      "_view_module_version": "1.2.0",
      "_view_name": "LayoutView",
      "align_content": null,
      "align_items": null,
      "align_self": null,
      "border": null,
      "bottom": null,
      "display": null,
      "flex": null,
      "flex_flow": null,
      "grid_area": null,
      "grid_auto_columns": null,
      "grid_auto_flow": null,
      "grid_auto_rows": null,
      "grid_column": null,
      "grid_gap": null,
      "grid_row": null,
      "grid_template_areas": null,
      "grid_template_columns": null,
      "grid_template_rows": null,
      "height": null,
      "justify_content": null,
      "justify_items": null,
      "left": null,
      "margin": null,
      "max_height": null,
      "max_width": null,
      "min_height": null,
      "min_width": null,
      "object_fit": null,
      "object_position": null,
      "order": null,
      "overflow": null,
      "overflow_x": null,
      "overflow_y": null,
      "padding": null,
      "right": null,
      "top": null,
      "visibility": null,
      "width": null
     }
    },
    "bd0aab37191745f09f540c2f9fa70f52": {
     "model_module": "@jupyter-widgets/controls",
     "model_module_version": "1.5.0",
     "model_name": "HBoxModel",
     "state": {
      "_dom_classes": [],
      "_model_module": "@jupyter-widgets/controls",
      "_model_module_version": "1.5.0",
      "_model_name": "HBoxModel",
      "_view_count": null,
      "_view_module": "@jupyter-widgets/controls",
      "_view_module_version": "1.5.0",
      "_view_name": "HBoxView",
      "box_style": "",
      "children": [
       "IPY_MODEL_002465c05b71462198afe7ffee5f23e6",
       "IPY_MODEL_c5bd5af525c94d57ace64357c7ddb5f2",
       "IPY_MODEL_fbb1c9b7489242619cf2dc3bc0476ddd"
      ],
      "layout": "IPY_MODEL_8eaf3b02c5eb413a92308be974b31b49"
     }
    },
    "c1e063e9f8174863b4acd5a553b5a71d": {
     "model_module": "@jupyter-widgets/base",
     "model_module_version": "1.2.0",
     "model_name": "LayoutModel",
     "state": {
      "_model_module": "@jupyter-widgets/base",
      "_model_module_version": "1.2.0",
      "_model_name": "LayoutModel",
      "_view_count": null,
      "_view_module": "@jupyter-widgets/base",
      "_view_module_version": "1.2.0",
      "_view_name": "LayoutView",
      "align_content": null,
      "align_items": null,
      "align_self": null,
      "border": null,
      "bottom": null,
      "display": null,
      "flex": null,
      "flex_flow": null,
      "grid_area": null,
      "grid_auto_columns": null,
      "grid_auto_flow": null,
      "grid_auto_rows": null,
      "grid_column": null,
      "grid_gap": null,
      "grid_row": null,
      "grid_template_areas": null,
      "grid_template_columns": null,
      "grid_template_rows": null,
      "height": null,
      "justify_content": null,
      "justify_items": null,
      "left": null,
      "margin": null,
      "max_height": null,
      "max_width": null,
      "min_height": null,
      "min_width": null,
      "object_fit": null,
      "object_position": null,
      "order": null,
      "overflow": null,
      "overflow_x": null,
      "overflow_y": null,
      "padding": null,
      "right": null,
      "top": null,
      "visibility": null,
      "width": null
     }
    },
    "c453996f237f43f38d02ed0c3a808bc9": {
     "model_module": "@jupyter-widgets/controls",
     "model_module_version": "1.5.0",
     "model_name": "FloatProgressModel",
     "state": {
      "_dom_classes": [],
      "_model_module": "@jupyter-widgets/controls",
      "_model_module_version": "1.5.0",
      "_model_name": "FloatProgressModel",
      "_view_count": null,
      "_view_module": "@jupyter-widgets/controls",
      "_view_module_version": "1.5.0",
      "_view_name": "ProgressView",
      "bar_style": "success",
      "description": "",
      "description_tooltip": null,
      "layout": "IPY_MODEL_1c0ebb52daab43a7b316a8460535e897",
      "max": 3087467144,
      "min": 0,
      "orientation": "horizontal",
      "style": "IPY_MODEL_f8796e310a9548528122a3b20aab3582",
      "value": 3087467144
     }
    },
    "c4e994712aec44faa6204cdeb803c131": {
     "model_module": "@jupyter-widgets/base",
     "model_module_version": "1.2.0",
     "model_name": "LayoutModel",
     "state": {
      "_model_module": "@jupyter-widgets/base",
      "_model_module_version": "1.2.0",
      "_model_name": "LayoutModel",
      "_view_count": null,
      "_view_module": "@jupyter-widgets/base",
      "_view_module_version": "1.2.0",
      "_view_name": "LayoutView",
      "align_content": null,
      "align_items": null,
      "align_self": null,
      "border": null,
      "bottom": null,
      "display": null,
      "flex": null,
      "flex_flow": null,
      "grid_area": null,
      "grid_auto_columns": null,
      "grid_auto_flow": null,
      "grid_auto_rows": null,
      "grid_column": null,
      "grid_gap": null,
      "grid_row": null,
      "grid_template_areas": null,
      "grid_template_columns": null,
      "grid_template_rows": null,
      "height": null,
      "justify_content": null,
      "justify_items": null,
      "left": null,
      "margin": null,
      "max_height": null,
      "max_width": null,
      "min_height": null,
      "min_width": null,
      "object_fit": null,
      "object_position": null,
      "order": null,
      "overflow": null,
      "overflow_x": null,
      "overflow_y": null,
      "padding": null,
      "right": null,
      "top": null,
      "visibility": null,
      "width": null
     }
    },
    "c58771d16f554bc68b783da40043281f": {
     "model_module": "@jupyter-widgets/controls",
     "model_module_version": "1.5.0",
     "model_name": "HBoxModel",
     "state": {
      "_dom_classes": [],
      "_model_module": "@jupyter-widgets/controls",
      "_model_module_version": "1.5.0",
      "_model_name": "HBoxModel",
      "_view_count": null,
      "_view_module": "@jupyter-widgets/controls",
      "_view_module_version": "1.5.0",
      "_view_name": "HBoxView",
      "box_style": "",
      "children": [
       "IPY_MODEL_b83f73dd875742459448f70c4d98eb0c",
       "IPY_MODEL_6731988b1bb74f8ebe1a35c0196bee7b",
       "IPY_MODEL_9dd40131eecd42a79519b897749b39e6"
      ],
      "layout": "IPY_MODEL_f8b66aed4c76404ea165db0c0dc091bf"
     }
    },
    "c5bd5af525c94d57ace64357c7ddb5f2": {
     "model_module": "@jupyter-widgets/controls",
     "model_module_version": "1.5.0",
     "model_name": "FloatProgressModel",
     "state": {
      "_dom_classes": [],
      "_model_module": "@jupyter-widgets/controls",
      "_model_module_version": "1.5.0",
      "_model_name": "FloatProgressModel",
      "_view_count": null,
      "_view_module": "@jupyter-widgets/controls",
      "_view_module_version": "1.5.0",
      "_view_name": "ProgressView",
      "bar_style": "success",
      "description": "",
      "description_tooltip": null,
      "layout": "IPY_MODEL_7ad6a66d01684ca3bd845c5cb8e5825a",
      "max": 19944,
      "min": 0,
      "orientation": "horizontal",
      "style": "IPY_MODEL_2176b48b1f454b249d638f9f520e274b",
      "value": 19944
     }
    },
    "c79df3e8fa824c8687d2bfaa57e7fe01": {
     "model_module": "@jupyter-widgets/controls",
     "model_module_version": "1.5.0",
     "model_name": "FloatProgressModel",
     "state": {
      "_dom_classes": [],
      "_model_module": "@jupyter-widgets/controls",
      "_model_module_version": "1.5.0",
      "_model_name": "FloatProgressModel",
      "_view_count": null,
      "_view_module": "@jupyter-widgets/controls",
      "_view_module_version": "1.5.0",
      "_view_name": "ProgressView",
      "bar_style": "success",
      "description": "",
      "description_tooltip": null,
      "layout": "IPY_MODEL_c4e994712aec44faa6204cdeb803c131",
      "max": 1671839,
      "min": 0,
      "orientation": "horizontal",
      "style": "IPY_MODEL_58127f0348e94a9582de29fb9bcc7f92",
      "value": 1671839
     }
    },
    "c7ba627ffac54eb89180843c8ad721bb": {
     "model_module": "@jupyter-widgets/controls",
     "model_module_version": "1.5.0",
     "model_name": "DescriptionStyleModel",
     "state": {
      "_model_module": "@jupyter-widgets/controls",
      "_model_module_version": "1.5.0",
      "_model_name": "DescriptionStyleModel",
      "_view_count": null,
      "_view_module": "@jupyter-widgets/base",
      "_view_module_version": "1.2.0",
      "_view_name": "StyleView",
      "description_width": ""
     }
    },
    "ca3c78a681834bc4a6fb26dd1e9c1f8d": {
     "model_module": "@jupyter-widgets/base",
     "model_module_version": "1.2.0",
     "model_name": "LayoutModel",
     "state": {
      "_model_module": "@jupyter-widgets/base",
      "_model_module_version": "1.2.0",
      "_model_name": "LayoutModel",
      "_view_count": null,
      "_view_module": "@jupyter-widgets/base",
      "_view_module_version": "1.2.0",
      "_view_name": "LayoutView",
      "align_content": null,
      "align_items": null,
      "align_self": null,
      "border": null,
      "bottom": null,
      "display": null,
      "flex": null,
      "flex_flow": null,
      "grid_area": null,
      "grid_auto_columns": null,
      "grid_auto_flow": null,
      "grid_auto_rows": null,
      "grid_column": null,
      "grid_gap": null,
      "grid_row": null,
      "grid_template_areas": null,
      "grid_template_columns": null,
      "grid_template_rows": null,
      "height": null,
      "justify_content": null,
      "justify_items": null,
      "left": null,
      "margin": null,
      "max_height": null,
      "max_width": null,
      "min_height": null,
      "min_width": null,
      "object_fit": null,
      "object_position": null,
      "order": null,
      "overflow": null,
      "overflow_x": null,
      "overflow_y": null,
      "padding": null,
      "right": null,
      "top": null,
      "visibility": null,
      "width": null
     }
    },
    "cb748c092e4e4917ac1dbb64dbf2e14d": {
     "model_module": "@jupyter-widgets/controls",
     "model_module_version": "1.5.0",
     "model_name": "DescriptionStyleModel",
     "state": {
      "_model_module": "@jupyter-widgets/controls",
      "_model_module_version": "1.5.0",
      "_model_name": "DescriptionStyleModel",
      "_view_count": null,
      "_view_module": "@jupyter-widgets/base",
      "_view_module_version": "1.2.0",
      "_view_name": "StyleView",
      "description_width": ""
     }
    },
    "cdeaa1d0b6f54adcab53755eaeed3c71": {
     "model_module": "@jupyter-widgets/controls",
     "model_module_version": "1.5.0",
     "model_name": "HBoxModel",
     "state": {
      "_dom_classes": [],
      "_model_module": "@jupyter-widgets/controls",
      "_model_module_version": "1.5.0",
      "_model_name": "HBoxModel",
      "_view_count": null,
      "_view_module": "@jupyter-widgets/controls",
      "_view_module_version": "1.5.0",
      "_view_name": "HBoxView",
      "box_style": "",
      "children": [
       "IPY_MODEL_1f2f325f8f66426795de63fbed7b606b",
       "IPY_MODEL_a820971e767f4c49a157e5ff2db82c6f",
       "IPY_MODEL_24028c99b8a04fab8c122ab54412ea54"
      ],
      "layout": "IPY_MODEL_938d14371d034e859cba003bab3c0cc5"
     }
    },
    "cf98d52df6b9432a9877c8b5355c82e6": {
     "model_module": "@jupyter-widgets/controls",
     "model_module_version": "1.5.0",
     "model_name": "HTMLModel",
     "state": {
      "_dom_classes": [],
      "_model_module": "@jupyter-widgets/controls",
      "_model_module_version": "1.5.0",
      "_model_name": "HTMLModel",
      "_view_count": null,
      "_view_module": "@jupyter-widgets/controls",
      "_view_module_version": "1.5.0",
      "_view_name": "HTMLView",
      "description": "",
      "description_tooltip": null,
      "layout": "IPY_MODEL_197f61d70ab541aa9a1b1c1298435b2b",
      "placeholder": "​",
      "style": "IPY_MODEL_e4c2626eabb84dc78273acfffcef82bd",
      "value": "tokenizer_config.json: 100%"
     }
    },
    "d2c8b1dc82a5473ab6f38bcc0430c981": {
     "model_module": "@jupyter-widgets/controls",
     "model_module_version": "1.5.0",
     "model_name": "HTMLModel",
     "state": {
      "_dom_classes": [],
      "_model_module": "@jupyter-widgets/controls",
      "_model_module_version": "1.5.0",
      "_model_name": "HTMLModel",
      "_view_count": null,
      "_view_module": "@jupyter-widgets/controls",
      "_view_module_version": "1.5.0",
      "_view_name": "HTMLView",
      "description": "",
      "description_tooltip": null,
      "layout": "IPY_MODEL_58f28acb0be04593accf297e5e06bed0",
      "placeholder": "​",
      "style": "IPY_MODEL_df94c5dc68864f8db8213f00e42af793",
      "value": " 19944/19944 [00:03&lt;00:00, 6681.31 examples/s]"
     }
    },
    "d473f10ea00548428718b827ba7217db": {
     "model_module": "@jupyter-widgets/controls",
     "model_module_version": "1.5.0",
     "model_name": "DescriptionStyleModel",
     "state": {
      "_model_module": "@jupyter-widgets/controls",
      "_model_module_version": "1.5.0",
      "_model_name": "DescriptionStyleModel",
      "_view_count": null,
      "_view_module": "@jupyter-widgets/base",
      "_view_module_version": "1.2.0",
      "_view_name": "StyleView",
      "description_width": ""
     }
    },
    "d5ec0c9ab8d6453fb32e867102ee0eaf": {
     "model_module": "@jupyter-widgets/controls",
     "model_module_version": "1.5.0",
     "model_name": "HTMLModel",
     "state": {
      "_dom_classes": [],
      "_model_module": "@jupyter-widgets/controls",
      "_model_module_version": "1.5.0",
      "_model_name": "HTMLModel",
      "_view_count": null,
      "_view_module": "@jupyter-widgets/controls",
      "_view_module_version": "1.5.0",
      "_view_name": "HTMLView",
      "description": "",
      "description_tooltip": null,
      "layout": "IPY_MODEL_756f373c43b64c1ba4f9668d91d059ec",
      "placeholder": "​",
      "style": "IPY_MODEL_76d6fcf7d45649a3947ef199beccac83",
      "value": " 7.23k/7.23k [00:00&lt;00:00, 638kB/s]"
     }
    },
    "d7e56c2c917648c1b8443247f8b49be3": {
     "model_module": "@jupyter-widgets/controls",
     "model_module_version": "1.5.0",
     "model_name": "HTMLModel",
     "state": {
      "_dom_classes": [],
      "_model_module": "@jupyter-widgets/controls",
      "_model_module_version": "1.5.0",
      "_model_name": "HTMLModel",
      "_view_count": null,
      "_view_module": "@jupyter-widgets/controls",
      "_view_module_version": "1.5.0",
      "_view_name": "HTMLView",
      "description": "",
      "description_tooltip": null,
      "layout": "IPY_MODEL_bcbd9e82d1ed4ad6b51e8699a6087041",
      "placeholder": "​",
      "style": "IPY_MODEL_5ebd1a93c8f744629cb6ba95289cedd8",
      "value": " 2.78M/2.78M [00:00&lt;00:00, 28.9MB/s]"
     }
    },
    "ddbc147f7ec34bbc9a1b0f0721f6451b": {
     "model_module": "@jupyter-widgets/controls",
     "model_module_version": "1.5.0",
     "model_name": "DescriptionStyleModel",
     "state": {
      "_model_module": "@jupyter-widgets/controls",
      "_model_module_version": "1.5.0",
      "_model_name": "DescriptionStyleModel",
      "_view_count": null,
      "_view_module": "@jupyter-widgets/base",
      "_view_module_version": "1.2.0",
      "_view_name": "StyleView",
      "description_width": ""
     }
    },
    "deb2379001af474cabbeca1df3c7dc95": {
     "model_module": "@jupyter-widgets/controls",
     "model_module_version": "1.5.0",
     "model_name": "HTMLModel",
     "state": {
      "_dom_classes": [],
      "_model_module": "@jupyter-widgets/controls",
      "_model_module_version": "1.5.0",
      "_model_name": "HTMLModel",
      "_view_count": null,
      "_view_module": "@jupyter-widgets/controls",
      "_view_module_version": "1.5.0",
      "_view_name": "HTMLView",
      "description": "",
      "description_tooltip": null,
      "layout": "IPY_MODEL_f7ea2b985bd44ab089b515a002cdcc44",
      "placeholder": "​",
      "style": "IPY_MODEL_2c9c1b6e18fa4cd9979d5f13f41adf48",
      "value": "generation_config.json: 100%"
     }
    },
    "df94c5dc68864f8db8213f00e42af793": {
     "model_module": "@jupyter-widgets/controls",
     "model_module_version": "1.5.0",
     "model_name": "DescriptionStyleModel",
     "state": {
      "_model_module": "@jupyter-widgets/controls",
      "_model_module_version": "1.5.0",
      "_model_name": "DescriptionStyleModel",
      "_view_count": null,
      "_view_module": "@jupyter-widgets/base",
      "_view_module_version": "1.2.0",
      "_view_name": "StyleView",
      "description_width": ""
     }
    },
    "e30e11637be7473b873835e115517853": {
     "model_module": "@jupyter-widgets/controls",
     "model_module_version": "1.5.0",
     "model_name": "HTMLModel",
     "state": {
      "_dom_classes": [],
      "_model_module": "@jupyter-widgets/controls",
      "_model_module_version": "1.5.0",
      "_model_name": "HTMLModel",
      "_view_count": null,
      "_view_module": "@jupyter-widgets/controls",
      "_view_module_version": "1.5.0",
      "_view_name": "HTMLView",
      "description": "",
      "description_tooltip": null,
      "layout": "IPY_MODEL_a4435caad91a4ab6ac25ebb860a1108e",
      "placeholder": "​",
      "style": "IPY_MODEL_69b75a00c15f46568b6caf44e6b72384",
      "value": "config.json: 100%"
     }
    },
    "e4c2626eabb84dc78273acfffcef82bd": {
     "model_module": "@jupyter-widgets/controls",
     "model_module_version": "1.5.0",
     "model_name": "DescriptionStyleModel",
     "state": {
      "_model_module": "@jupyter-widgets/controls",
      "_model_module_version": "1.5.0",
      "_model_name": "DescriptionStyleModel",
      "_view_count": null,
      "_view_module": "@jupyter-widgets/base",
      "_view_module_version": "1.2.0",
      "_view_name": "StyleView",
      "description_width": ""
     }
    },
    "e7aa821a05734fa8b2c81dff7f38c8af": {
     "model_module": "@jupyter-widgets/controls",
     "model_module_version": "1.5.0",
     "model_name": "ProgressStyleModel",
     "state": {
      "_model_module": "@jupyter-widgets/controls",
      "_model_module_version": "1.5.0",
      "_model_name": "ProgressStyleModel",
      "_view_count": null,
      "_view_module": "@jupyter-widgets/base",
      "_view_module_version": "1.2.0",
      "_view_name": "StyleView",
      "bar_color": null,
      "description_width": ""
     }
    },
    "e91a61c0dc984ec09b9632af8a282611": {
     "model_module": "@jupyter-widgets/controls",
     "model_module_version": "1.5.0",
     "model_name": "HBoxModel",
     "state": {
      "_dom_classes": [],
      "_model_module": "@jupyter-widgets/controls",
      "_model_module_version": "1.5.0",
      "_model_name": "HBoxModel",
      "_view_count": null,
      "_view_module": "@jupyter-widgets/controls",
      "_view_module_version": "1.5.0",
      "_view_name": "HBoxView",
      "box_style": "",
      "children": [
       "IPY_MODEL_fcf3e96c5cbf46abb84161f29d0f4199",
       "IPY_MODEL_9a33cd22c9cc4c34a2e60a87c37d8eaa",
       "IPY_MODEL_38b6585254aa4332b1cd6b6c64432263"
      ],
      "layout": "IPY_MODEL_6336f105491b4bd8ae01c0e3b6940c36"
     }
    },
    "e9ae9ba627aa4bf8a4eb64d68809f566": {
     "model_module": "@jupyter-widgets/controls",
     "model_module_version": "1.5.0",
     "model_name": "FloatProgressModel",
     "state": {
      "_dom_classes": [],
      "_model_module": "@jupyter-widgets/controls",
      "_model_module_version": "1.5.0",
      "_model_name": "FloatProgressModel",
      "_view_count": null,
      "_view_module": "@jupyter-widgets/controls",
      "_view_module_version": "1.5.0",
      "_view_name": "ProgressView",
      "bar_style": "success",
      "description": "",
      "description_tooltip": null,
      "layout": "IPY_MODEL_138e15d45660471baff2f09c93efe771",
      "max": 7228,
      "min": 0,
      "orientation": "horizontal",
      "style": "IPY_MODEL_e7aa821a05734fa8b2c81dff7f38c8af",
      "value": 7228
     }
    },
    "ea3f8d8660a942fba64236fbc2cbd787": {
     "model_module": "@jupyter-widgets/base",
     "model_module_version": "1.2.0",
     "model_name": "LayoutModel",
     "state": {
      "_model_module": "@jupyter-widgets/base",
      "_model_module_version": "1.2.0",
      "_model_name": "LayoutModel",
      "_view_count": null,
      "_view_module": "@jupyter-widgets/base",
      "_view_module_version": "1.2.0",
      "_view_name": "LayoutView",
      "align_content": null,
      "align_items": null,
      "align_self": null,
      "border": null,
      "bottom": null,
      "display": null,
      "flex": null,
      "flex_flow": null,
      "grid_area": null,
      "grid_auto_columns": null,
      "grid_auto_flow": null,
      "grid_auto_rows": null,
      "grid_column": null,
      "grid_gap": null,
      "grid_row": null,
      "grid_template_areas": null,
      "grid_template_columns": null,
      "grid_template_rows": null,
      "height": null,
      "justify_content": null,
      "justify_items": null,
      "left": null,
      "margin": null,
      "max_height": null,
      "max_width": null,
      "min_height": null,
      "min_width": null,
      "object_fit": null,
      "object_position": null,
      "order": null,
      "overflow": null,
      "overflow_x": null,
      "overflow_y": null,
      "padding": null,
      "right": null,
      "top": null,
      "visibility": null,
      "width": null
     }
    },
    "ef94fa10df1049eaa598e77851c05411": {
     "model_module": "@jupyter-widgets/base",
     "model_module_version": "1.2.0",
     "model_name": "LayoutModel",
     "state": {
      "_model_module": "@jupyter-widgets/base",
      "_model_module_version": "1.2.0",
      "_model_name": "LayoutModel",
      "_view_count": null,
      "_view_module": "@jupyter-widgets/base",
      "_view_module_version": "1.2.0",
      "_view_name": "LayoutView",
      "align_content": null,
      "align_items": null,
      "align_self": null,
      "border": null,
      "bottom": null,
      "display": null,
      "flex": null,
      "flex_flow": null,
      "grid_area": null,
      "grid_auto_columns": null,
      "grid_auto_flow": null,
      "grid_auto_rows": null,
      "grid_column": null,
      "grid_gap": null,
      "grid_row": null,
      "grid_template_areas": null,
      "grid_template_columns": null,
      "grid_template_rows": null,
      "height": null,
      "justify_content": null,
      "justify_items": null,
      "left": null,
      "margin": null,
      "max_height": null,
      "max_width": null,
      "min_height": null,
      "min_width": null,
      "object_fit": null,
      "object_position": null,
      "order": null,
      "overflow": null,
      "overflow_x": null,
      "overflow_y": null,
      "padding": null,
      "right": null,
      "top": null,
      "visibility": null,
      "width": null
     }
    },
    "f46cdc40f11349108d92539de4185b33": {
     "model_module": "@jupyter-widgets/base",
     "model_module_version": "1.2.0",
     "model_name": "LayoutModel",
     "state": {
      "_model_module": "@jupyter-widgets/base",
      "_model_module_version": "1.2.0",
      "_model_name": "LayoutModel",
      "_view_count": null,
      "_view_module": "@jupyter-widgets/base",
      "_view_module_version": "1.2.0",
      "_view_name": "LayoutView",
      "align_content": null,
      "align_items": null,
      "align_self": null,
      "border": null,
      "bottom": null,
      "display": null,
      "flex": null,
      "flex_flow": null,
      "grid_area": null,
      "grid_auto_columns": null,
      "grid_auto_flow": null,
      "grid_auto_rows": null,
      "grid_column": null,
      "grid_gap": null,
      "grid_row": null,
      "grid_template_areas": null,
      "grid_template_columns": null,
      "grid_template_rows": null,
      "height": null,
      "justify_content": null,
      "justify_items": null,
      "left": null,
      "margin": null,
      "max_height": null,
      "max_width": null,
      "min_height": null,
      "min_width": null,
      "object_fit": null,
      "object_position": null,
      "order": null,
      "overflow": null,
      "overflow_x": null,
      "overflow_y": null,
      "padding": null,
      "right": null,
      "top": null,
      "visibility": null,
      "width": null
     }
    },
    "f4c353c0fe944932bcf7879c7cd3dd2a": {
     "model_module": "@jupyter-widgets/controls",
     "model_module_version": "1.5.0",
     "model_name": "HTMLModel",
     "state": {
      "_dom_classes": [],
      "_model_module": "@jupyter-widgets/controls",
      "_model_module_version": "1.5.0",
      "_model_name": "HTMLModel",
      "_view_count": null,
      "_view_module": "@jupyter-widgets/controls",
      "_view_module_version": "1.5.0",
      "_view_name": "HTMLView",
      "description": "",
      "description_tooltip": null,
      "layout": "IPY_MODEL_39ae78eff3714fbfa1ef5ef006e45b5a",
      "placeholder": "​",
      "style": "IPY_MODEL_d473f10ea00548428718b827ba7217db",
      "value": " 684/684 [00:00&lt;00:00, 6.51kB/s]"
     }
    },
    "f7ea2b985bd44ab089b515a002cdcc44": {
     "model_module": "@jupyter-widgets/base",
     "model_module_version": "1.2.0",
     "model_name": "LayoutModel",
     "state": {
      "_model_module": "@jupyter-widgets/base",
      "_model_module_version": "1.2.0",
      "_model_name": "LayoutModel",
      "_view_count": null,
      "_view_module": "@jupyter-widgets/base",
      "_view_module_version": "1.2.0",
      "_view_name": "LayoutView",
      "align_content": null,
      "align_items": null,
      "align_self": null,
      "border": null,
      "bottom": null,
      "display": null,
      "flex": null,
      "flex_flow": null,
      "grid_area": null,
      "grid_auto_columns": null,
      "grid_auto_flow": null,
      "grid_auto_rows": null,
      "grid_column": null,
      "grid_gap": null,
      "grid_row": null,
      "grid_template_areas": null,
      "grid_template_columns": null,
      "grid_template_rows": null,
      "height": null,
      "justify_content": null,
      "justify_items": null,
      "left": null,
      "margin": null,
      "max_height": null,
      "max_width": null,
      "min_height": null,
      "min_width": null,
      "object_fit": null,
      "object_position": null,
      "order": null,
      "overflow": null,
      "overflow_x": null,
      "overflow_y": null,
      "padding": null,
      "right": null,
      "top": null,
      "visibility": null,
      "width": null
     }
    },
    "f8796e310a9548528122a3b20aab3582": {
     "model_module": "@jupyter-widgets/controls",
     "model_module_version": "1.5.0",
     "model_name": "ProgressStyleModel",
     "state": {
      "_model_module": "@jupyter-widgets/controls",
      "_model_module_version": "1.5.0",
      "_model_name": "ProgressStyleModel",
      "_view_count": null,
      "_view_module": "@jupyter-widgets/base",
      "_view_module_version": "1.2.0",
      "_view_name": "StyleView",
      "bar_color": null,
      "description_width": ""
     }
    },
    "f8b66aed4c76404ea165db0c0dc091bf": {
     "model_module": "@jupyter-widgets/base",
     "model_module_version": "1.2.0",
     "model_name": "LayoutModel",
     "state": {
      "_model_module": "@jupyter-widgets/base",
      "_model_module_version": "1.2.0",
      "_model_name": "LayoutModel",
      "_view_count": null,
      "_view_module": "@jupyter-widgets/base",
      "_view_module_version": "1.2.0",
      "_view_name": "LayoutView",
      "align_content": null,
      "align_items": null,
      "align_self": null,
      "border": null,
      "bottom": null,
      "display": null,
      "flex": null,
      "flex_flow": null,
      "grid_area": null,
      "grid_auto_columns": null,
      "grid_auto_flow": null,
      "grid_auto_rows": null,
      "grid_column": null,
      "grid_gap": null,
      "grid_row": null,
      "grid_template_areas": null,
      "grid_template_columns": null,
      "grid_template_rows": null,
      "height": null,
      "justify_content": null,
      "justify_items": null,
      "left": null,
      "margin": null,
      "max_height": null,
      "max_width": null,
      "min_height": null,
      "min_width": null,
      "object_fit": null,
      "object_position": null,
      "order": null,
      "overflow": null,
      "overflow_x": null,
      "overflow_y": null,
      "padding": null,
      "right": null,
      "top": null,
      "visibility": null,
      "width": null
     }
    },
    "f9c966f2b73e4f3da9163dd14ed16363": {
     "model_module": "@jupyter-widgets/base",
     "model_module_version": "1.2.0",
     "model_name": "LayoutModel",
     "state": {
      "_model_module": "@jupyter-widgets/base",
      "_model_module_version": "1.2.0",
      "_model_name": "LayoutModel",
      "_view_count": null,
      "_view_module": "@jupyter-widgets/base",
      "_view_module_version": "1.2.0",
      "_view_name": "LayoutView",
      "align_content": null,
      "align_items": null,
      "align_self": null,
      "border": null,
      "bottom": null,
      "display": null,
      "flex": null,
      "flex_flow": null,
      "grid_area": null,
      "grid_auto_columns": null,
      "grid_auto_flow": null,
      "grid_auto_rows": null,
      "grid_column": null,
      "grid_gap": null,
      "grid_row": null,
      "grid_template_areas": null,
      "grid_template_columns": null,
      "grid_template_rows": null,
      "height": null,
      "justify_content": null,
      "justify_items": null,
      "left": null,
      "margin": null,
      "max_height": null,
      "max_width": null,
      "min_height": null,
      "min_width": null,
      "object_fit": null,
      "object_position": null,
      "order": null,
      "overflow": null,
      "overflow_x": null,
      "overflow_y": null,
      "padding": null,
      "right": null,
      "top": null,
      "visibility": null,
      "width": null
     }
    },
    "fa9b41c17c67430b99b3bf763b8e463d": {
     "model_module": "@jupyter-widgets/controls",
     "model_module_version": "1.5.0",
     "model_name": "ProgressStyleModel",
     "state": {
      "_model_module": "@jupyter-widgets/controls",
      "_model_module_version": "1.5.0",
      "_model_name": "ProgressStyleModel",
      "_view_count": null,
      "_view_module": "@jupyter-widgets/base",
      "_view_module_version": "1.2.0",
      "_view_name": "StyleView",
      "bar_color": null,
      "description_width": ""
     }
    },
    "fbb1c9b7489242619cf2dc3bc0476ddd": {
     "model_module": "@jupyter-widgets/controls",
     "model_module_version": "1.5.0",
     "model_name": "HTMLModel",
     "state": {
      "_dom_classes": [],
      "_model_module": "@jupyter-widgets/controls",
      "_model_module_version": "1.5.0",
      "_model_name": "HTMLModel",
      "_view_count": null,
      "_view_module": "@jupyter-widgets/controls",
      "_view_module_version": "1.5.0",
      "_view_name": "HTMLView",
      "description": "",
      "description_tooltip": null,
      "layout": "IPY_MODEL_25843be9e67346f5a9faf475a9d396ad",
      "placeholder": "​",
      "style": "IPY_MODEL_32767a4e19fd4bbe9887b6a54c916893",
      "value": " 19944/19944 [01:17&lt;00:00, 276.43 examples/s]"
     }
    },
    "fcf3e96c5cbf46abb84161f29d0f4199": {
     "model_module": "@jupyter-widgets/controls",
     "model_module_version": "1.5.0",
     "model_name": "HTMLModel",
     "state": {
      "_dom_classes": [],
      "_model_module": "@jupyter-widgets/controls",
      "_model_module_version": "1.5.0",
      "_model_name": "HTMLModel",
      "_view_count": null,
      "_view_module": "@jupyter-widgets/controls",
      "_view_module_version": "1.5.0",
      "_view_name": "HTMLView",
      "description": "",
      "description_tooltip": null,
      "layout": "IPY_MODEL_c1e063e9f8174863b4acd5a553b5a71d",
      "placeholder": "​",
      "style": "IPY_MODEL_0855ea4d4a684f53acb099b20bbd2606",
      "value": "combined_reasoning.json: 100%"
     }
    },
    "fdca97d2f6e8424eb842a161e5fd5835": {
     "model_module": "@jupyter-widgets/base",
     "model_module_version": "1.2.0",
     "model_name": "LayoutModel",
     "state": {
      "_model_module": "@jupyter-widgets/base",
      "_model_module_version": "1.2.0",
      "_model_name": "LayoutModel",
      "_view_count": null,
      "_view_module": "@jupyter-widgets/base",
      "_view_module_version": "1.2.0",
      "_view_name": "LayoutView",
      "align_content": null,
      "align_items": null,
      "align_self": null,
      "border": null,
      "bottom": null,
      "display": null,
      "flex": null,
      "flex_flow": null,
      "grid_area": null,
      "grid_auto_columns": null,
      "grid_auto_flow": null,
      "grid_auto_rows": null,
      "grid_column": null,
      "grid_gap": null,
      "grid_row": null,
      "grid_template_areas": null,
      "grid_template_columns": null,
      "grid_template_rows": null,
      "height": null,
      "justify_content": null,
      "justify_items": null,
      "left": null,
      "margin": null,
      "max_height": null,
      "max_width": null,
      "min_height": null,
      "min_width": null,
      "object_fit": null,
      "object_position": null,
      "order": null,
      "overflow": null,
      "overflow_x": null,
      "overflow_y": null,
      "padding": null,
      "right": null,
      "top": null,
      "visibility": null,
      "width": null
     }
    },
    "ffeb8b36b8dc4c0686940a4293ff0d2b": {
     "model_module": "@jupyter-widgets/controls",
     "model_module_version": "1.5.0",
     "model_name": "HBoxModel",
     "state": {
      "_dom_classes": [],
      "_model_module": "@jupyter-widgets/controls",
      "_model_module_version": "1.5.0",
      "_model_name": "HBoxModel",
      "_view_count": null,
      "_view_module": "@jupyter-widgets/controls",
      "_view_module_version": "1.5.0",
      "_view_name": "HBoxView",
      "box_style": "",
      "children": [
       "IPY_MODEL_6c57207ee15e46488f3b7d8a206e6fe6",
       "IPY_MODEL_c453996f237f43f38d02ed0c3a808bc9",
       "IPY_MODEL_5ce999cad3d84a00af2a479a86914bb1"
      ],
      "layout": "IPY_MODEL_62d159e5720f496c82312d9efd4bfe79"
     }
    }
   }
  }
 },
 "nbformat": 4,
 "nbformat_minor": 4
}
