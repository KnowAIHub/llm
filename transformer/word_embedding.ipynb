{
 "cells": [
  {
   "cell_type": "code",
   "execution_count": null,
   "id": "d9be5f22-460b-4a6e-81e7-2c4647dceed8",
   "metadata": {},
   "outputs": [],
   "source": [
    "!pip install torchtext"
   ]
  },
  {
   "cell_type": "code",
   "execution_count": 8,
   "id": "92b9bd4a-1024-4040-8d14-3df317a9252b",
   "metadata": {},
   "outputs": [
    {
     "name": "stdout",
     "output_type": "stream",
     "text": [
      "Looking in indexes: http://mirrors.aliyun.com/pypi/simple\n",
      "Collecting scikit-learn\n",
      "  Downloading http://mirrors.aliyun.com/pypi/packages/8a/5d/047cde25131eef3a38d03317fa7d25d6f60ce6e8ccfd24ac88b3e309fc00/scikit_learn-1.5.1-cp312-cp312-manylinux_2_17_x86_64.manylinux2014_x86_64.whl (13.1 MB)\n",
      "\u001b[2K     \u001b[90m━━━━━━━━━━━━━━━━━━━━━━━━━━━━━━━━━━━━━━━━\u001b[0m \u001b[32m13.1/13.1 MB\u001b[0m \u001b[31m5.7 MB/s\u001b[0m eta \u001b[36m0:00:00\u001b[0m00:01\u001b[0m00:01\u001b[0m\n",
      "\u001b[?25hRequirement already satisfied: numpy>=1.19.5 in ./miniconda3/lib/python3.12/site-packages (from scikit-learn) (1.26.4)\n",
      "Collecting scipy>=1.6.0 (from scikit-learn)\n",
      "  Downloading http://mirrors.aliyun.com/pypi/packages/8e/ee/8a26858ca517e9c64f84b4c7734b89bda8e63bec85c3d2f432d225bb1886/scipy-1.14.1-cp312-cp312-manylinux_2_17_x86_64.manylinux2014_x86_64.whl (40.8 MB)\n",
      "\u001b[2K     \u001b[90m━━━━━━━━━━━━━━━━━━━━━━━━━━━━━━━━━━━━━━━━\u001b[0m \u001b[32m40.8/40.8 MB\u001b[0m \u001b[31m5.5 MB/s\u001b[0m eta \u001b[36m0:00:00\u001b[0m00:01\u001b[0m00:01\u001b[0m\n",
      "\u001b[?25hCollecting joblib>=1.2.0 (from scikit-learn)\n",
      "  Downloading http://mirrors.aliyun.com/pypi/packages/91/29/df4b9b42f2be0b623cbd5e2140cafcaa2bef0759a00b7b70104dcfe2fb51/joblib-1.4.2-py3-none-any.whl (301 kB)\n",
      "\u001b[2K     \u001b[90m━━━━━━━━━━━━━━━━━━━━━━━━━━━━━━━━━━━━━━━\u001b[0m \u001b[32m301.8/301.8 kB\u001b[0m \u001b[31m5.2 MB/s\u001b[0m eta \u001b[36m0:00:00\u001b[0ma \u001b[36m0:00:01\u001b[0m\n",
      "\u001b[?25hCollecting threadpoolctl>=3.1.0 (from scikit-learn)\n",
      "  Downloading http://mirrors.aliyun.com/pypi/packages/4b/2c/ffbf7a134b9ab11a67b0cf0726453cedd9c5043a4fe7a35d1cefa9a1bcfb/threadpoolctl-3.5.0-py3-none-any.whl (18 kB)\n",
      "Installing collected packages: threadpoolctl, scipy, joblib, scikit-learn\n",
      "Successfully installed joblib-1.4.2 scikit-learn-1.5.1 scipy-1.14.1 threadpoolctl-3.5.0\n",
      "\u001b[33mWARNING: Running pip as the 'root' user can result in broken permissions and conflicting behaviour with the system package manager. It is recommended to use a virtual environment instead: https://pip.pypa.io/warnings/venv\u001b[0m\u001b[33m\n",
      "\u001b[0m"
     ]
    }
   ],
   "source": [
    "!pip install scikit-learn"
   ]
  },
  {
   "cell_type": "code",
   "execution_count": 3,
   "id": "3a982d35-caad-45e4-8508-11f029e417a2",
   "metadata": {},
   "outputs": [
    {
     "name": "stderr",
     "output_type": "stream",
     "text": [
      "/root/miniconda3/lib/python3.12/site-packages/torchtext/vocab/__init__.py:4: UserWarning: \n",
      "/!\\ IMPORTANT WARNING ABOUT TORCHTEXT STATUS /!\\ \n",
      "Torchtext is deprecated and the last released version will be 0.18 (this one). You can silence this warning by calling the following at the beginnign of your scripts: `import torchtext; torchtext.disable_torchtext_deprecation_warning()`\n",
      "  warnings.warn(torchtext._TORCHTEXT_DEPRECATION_MSG)\n",
      "/root/miniconda3/lib/python3.12/site-packages/torchtext/utils.py:4: UserWarning: \n",
      "/!\\ IMPORTANT WARNING ABOUT TORCHTEXT STATUS /!\\ \n",
      "Torchtext is deprecated and the last released version will be 0.18 (this one). You can silence this warning by calling the following at the beginnign of your scripts: `import torchtext; torchtext.disable_torchtext_deprecation_warning()`\n",
      "  warnings.warn(torchtext._TORCHTEXT_DEPRECATION_MSG)\n",
      ".vector_cache/glove.6B.zip: 862MB [05:53, 2.44MB/s]                               \n",
      "100%|█████████▉| 399999/400000 [00:35<00:00, 11399.38it/s]\n"
     ]
    }
   ],
   "source": [
    "from torchtext.vocab import GloVe  # 导入GloVe词向量\n",
    "\n",
    "# 简单介绍一下GloVe词向量，它是斯坦福大学的研究者在2014年开发和发布的\n",
    "# GloVe和word2vec与fasttext，是当前最常用的3个词向量版本\n",
    "# 6B表示了模型是基于60 亿个单词的语料库训练的\n",
    "# 300表示一个单词，使用300维的向量表示\n",
    "glove = GloVe(name='6B', dim=300)"
   ]
  },
  {
   "cell_type": "code",
   "execution_count": 4,
   "id": "2207b5c3-003b-4f99-911d-2940949e52b1",
   "metadata": {},
   "outputs": [
    {
     "name": "stdout",
     "output_type": "stream",
     "text": [
      "embedding.shape: torch.Size([400000, 300])\n"
     ]
    }
   ],
   "source": [
    "import torch\n",
    "from torch import nn\n",
    "\n",
    "# 使用nn.Embedding创建词嵌入层\n",
    "# 将glove.vectors，通过from_pretrained接口，导入到Embedding层中\n",
    "# 此时的embedding层，就载入了GloVe词向量数据\n",
    "embedding = nn.Embedding.from_pretrained(glove.vectors)\n",
    "\n",
    "# 打印embedding层中的weight的尺寸\n",
    "print(f\"embedding.shape: {embedding.weight.shape}\")"
   ]
  },
  {
   "cell_type": "code",
   "execution_count": 5,
   "id": "750d57b4-6f52-4e08-841c-368782efd48f",
   "metadata": {},
   "outputs": [
    {
     "name": "stdout",
     "output_type": "stream",
     "text": [
      "man -> 300\n",
      "woman -> 787\n",
      "king -> 691\n",
      "queen -> 2060\n",
      "cat -> 5450\n",
      "dog -> 2926\n",
      "mother -> 808\n",
      "father -> 629\n"
     ]
    }
   ],
   "source": [
    "# 将man、woman、king、queen等8个词语的词向量，绘制到二维平面上\n",
    "words = ['man', 'woman', 'king', 'queen', 'cat', 'dog', 'mother', 'father']\n",
    "indices = []\n",
    "\n",
    "for word in words:\n",
    "    # 将单词word，通过glove的词汇表，转换为单词的索引\n",
    "    index = glove.stoi[word]\n",
    "    # 将这些索引保存到indices数组中\n",
    "    indices.append(index)\n",
    "    # 打印单词word和索引index的对应关系\n",
    "    print(f\"{word} -> {index}\")"
   ]
  },
  {
   "cell_type": "code",
   "execution_count": 6,
   "id": "ff192ecf-6eca-47ce-96eb-5f6111daaf60",
   "metadata": {},
   "outputs": [
    {
     "name": "stdout",
     "output_type": "stream",
     "text": [
      "vectors的尺寸: (8, 300)\n"
     ]
    }
   ],
   "source": [
    "# 将索引列表，使用torch.tensor，转为张量的形式\n",
    "indices = torch.tensor(indices)\n",
    "\n",
    "# 将索引列表转换为词向量的矩阵\n",
    "vectors = embedding(indices).detach().numpy()\n",
    "\n",
    "# 打印vectors的尺寸\n",
    "print(f\"vectors的尺寸: {vectors.shape}\")"
   ]
  },
  {
   "cell_type": "code",
   "execution_count": 9,
   "id": "06b57d87-dc00-4b33-9be6-a2f333354858",
   "metadata": {},
   "outputs": [
    {
     "data": {
      "image/png": "[encoded data removed]",
      "text/plain": [
       "<Figure size 640x480 with 1 Axes>"
      ]
     },
     "metadata": {},
     "output_type": "display_data"
    }
   ],
   "source": [
    "from sklearn.decomposition import PCA\n",
    "import matplotlib.pyplot as plt\n",
    "\n",
    "# 使用PCA降维算法，将向量vectors进行降维\n",
    "pca = PCA(n_components=2)\n",
    "vectors_2d = pca.fit_transform(vectors)\n",
    "\n",
    "# 将单词和向量，绘制到二维平面上\n",
    "plt.scatter(vectors_2d[:, 0], vectors_2d[:, 1])\n",
    "for i, word in enumerate(words):\n",
    "    plt.annotate(word, xy=(vectors_2d[i, 0], vectors_2d[i, 1]), textcoords='offset points', xytext=(-10, 10), arrowprops=dict(arrowstyle=\"->\"))\n",
    "plt.show()"
   ]
  },
  {
   "cell_type": "code",
   "execution_count": null,
   "id": "bb0ae55d-c5ee-45f1-bc15-6836dc13b7b0",
   "metadata": {},
   "outputs": [],
   "source": []
  }
 ],
 "metadata": {
  "kernelspec": {
   "display_name": "Python 3 (ipykernel)",
   "language": "python",
   "name": "python3"
  },
  "language_info": {
   "codemirror_mode": {
    "name": "ipython",
    "version": 3
   },
   "file_extension": ".py",
   "mimetype": "text/x-python",
   "name": "python",
   "nbconvert_exporter": "python",
   "pygments_lexer": "ipython3",
   "version": "3.12.3"
  }
 },
 "nbformat": 4,
 "nbformat_minor": 5
}
